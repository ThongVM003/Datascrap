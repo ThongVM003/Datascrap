{
 "cells": [
  {
   "cell_type": "code",
   "execution_count": 23,
   "metadata": {},
   "outputs": [],
   "source": [
    "import pandas as pd\n",
    "import seaborn as sns\n",
    "import matplotlib.pyplot as plt\n",
    "import geopandas as gpd\n"
   ]
  },
  {
   "cell_type": "code",
   "execution_count": 103,
   "metadata": {},
   "outputs": [
    {
     "data": {
      "text/html": [
       "<div>\n",
       "<style scoped>\n",
       "    .dataframe tbody tr th:only-of-type {\n",
       "        vertical-align: middle;\n",
       "    }\n",
       "\n",
       "    .dataframe tbody tr th {\n",
       "        vertical-align: top;\n",
       "    }\n",
       "\n",
       "    .dataframe thead th {\n",
       "        text-align: right;\n",
       "    }\n",
       "</style>\n",
       "<table border=\"1\" class=\"dataframe\">\n",
       "  <thead>\n",
       "    <tr style=\"text-align: right;\">\n",
       "      <th></th>\n",
       "      <th>sbd</th>\n",
       "      <th>toan</th>\n",
       "      <th>ngu_van</th>\n",
       "      <th>ngoai_ngu</th>\n",
       "      <th>vat_li</th>\n",
       "      <th>hoa_hoc</th>\n",
       "      <th>sinh_hoc</th>\n",
       "      <th>lich_su</th>\n",
       "      <th>dia_li</th>\n",
       "      <th>gdcd</th>\n",
       "      <th>hoi_dong</th>\n",
       "      <th>ma_tinh</th>\n",
       "    </tr>\n",
       "  </thead>\n",
       "  <tbody>\n",
       "    <tr>\n",
       "      <th>0</th>\n",
       "      <td>1000001</td>\n",
       "      <td>3.6</td>\n",
       "      <td>5.00</td>\n",
       "      <td>4.0</td>\n",
       "      <td>NaN</td>\n",
       "      <td>NaN</td>\n",
       "      <td>NaN</td>\n",
       "      <td>2.75</td>\n",
       "      <td>6.0</td>\n",
       "      <td>8.75</td>\n",
       "      <td>Sở GDĐT Hà Nội</td>\n",
       "      <td>1</td>\n",
       "    </tr>\n",
       "    <tr>\n",
       "      <th>1</th>\n",
       "      <td>1000002</td>\n",
       "      <td>8.4</td>\n",
       "      <td>6.75</td>\n",
       "      <td>7.6</td>\n",
       "      <td>NaN</td>\n",
       "      <td>NaN</td>\n",
       "      <td>NaN</td>\n",
       "      <td>8.50</td>\n",
       "      <td>7.5</td>\n",
       "      <td>8.25</td>\n",
       "      <td>Sở GDĐT Hà Nội</td>\n",
       "      <td>1</td>\n",
       "    </tr>\n",
       "    <tr>\n",
       "      <th>2</th>\n",
       "      <td>1000003</td>\n",
       "      <td>5.8</td>\n",
       "      <td>7.50</td>\n",
       "      <td>5.0</td>\n",
       "      <td>NaN</td>\n",
       "      <td>NaN</td>\n",
       "      <td>NaN</td>\n",
       "      <td>7.25</td>\n",
       "      <td>5.5</td>\n",
       "      <td>8.75</td>\n",
       "      <td>Sở GDĐT Hà Nội</td>\n",
       "      <td>1</td>\n",
       "    </tr>\n",
       "    <tr>\n",
       "      <th>3</th>\n",
       "      <td>1000004</td>\n",
       "      <td>7.4</td>\n",
       "      <td>7.50</td>\n",
       "      <td>8.6</td>\n",
       "      <td>NaN</td>\n",
       "      <td>NaN</td>\n",
       "      <td>NaN</td>\n",
       "      <td>7.50</td>\n",
       "      <td>6.5</td>\n",
       "      <td>7.50</td>\n",
       "      <td>Sở GDĐT Hà Nội</td>\n",
       "      <td>1</td>\n",
       "    </tr>\n",
       "    <tr>\n",
       "      <th>4</th>\n",
       "      <td>1000005</td>\n",
       "      <td>7.2</td>\n",
       "      <td>8.50</td>\n",
       "      <td>9.0</td>\n",
       "      <td>NaN</td>\n",
       "      <td>NaN</td>\n",
       "      <td>NaN</td>\n",
       "      <td>8.00</td>\n",
       "      <td>8.5</td>\n",
       "      <td>8.25</td>\n",
       "      <td>Sở GDĐT Hà Nội</td>\n",
       "      <td>1</td>\n",
       "    </tr>\n",
       "  </tbody>\n",
       "</table>\n",
       "</div>"
      ],
      "text/plain": [
       "       sbd  toan  ngu_van  ngoai_ngu  vat_li  hoa_hoc  sinh_hoc  lich_su  \\\n",
       "0  1000001   3.6     5.00        4.0     NaN      NaN       NaN     2.75   \n",
       "1  1000002   8.4     6.75        7.6     NaN      NaN       NaN     8.50   \n",
       "2  1000003   5.8     7.50        5.0     NaN      NaN       NaN     7.25   \n",
       "3  1000004   7.4     7.50        8.6     NaN      NaN       NaN     7.50   \n",
       "4  1000005   7.2     8.50        9.0     NaN      NaN       NaN     8.00   \n",
       "\n",
       "   dia_li  gdcd        hoi_dong  ma_tinh  \n",
       "0     6.0  8.75  Sở GDĐT Hà Nội        1  \n",
       "1     7.5  8.25  Sở GDĐT Hà Nội        1  \n",
       "2     5.5  8.75  Sở GDĐT Hà Nội        1  \n",
       "3     6.5  7.50  Sở GDĐT Hà Nội        1  \n",
       "4     8.5  8.25  Sở GDĐT Hà Nội        1  "
      ]
     },
     "execution_count": 103,
     "metadata": {},
     "output_type": "execute_result"
    }
   ],
   "source": [
    "df = pd.read_csv(\"new.csv\")\n",
    "df.head()\n"
   ]
  },
  {
   "cell_type": "code",
   "execution_count": 106,
   "metadata": {},
   "outputs": [
    {
     "data": {
      "text/html": [
       "<div>\n",
       "<style scoped>\n",
       "    .dataframe tbody tr th:only-of-type {\n",
       "        vertical-align: middle;\n",
       "    }\n",
       "\n",
       "    .dataframe tbody tr th {\n",
       "        vertical-align: top;\n",
       "    }\n",
       "\n",
       "    .dataframe thead th {\n",
       "        text-align: right;\n",
       "    }\n",
       "</style>\n",
       "<table border=\"1\" class=\"dataframe\">\n",
       "  <thead>\n",
       "    <tr style=\"text-align: right;\">\n",
       "      <th></th>\n",
       "      <th>sbd</th>\n",
       "      <th>toan</th>\n",
       "      <th>ngu_van</th>\n",
       "      <th>ngoai_ngu</th>\n",
       "      <th>vat_li</th>\n",
       "      <th>hoa_hoc</th>\n",
       "      <th>sinh_hoc</th>\n",
       "      <th>lich_su</th>\n",
       "      <th>dia_li</th>\n",
       "      <th>gdcd</th>\n",
       "      <th>hoi_dong</th>\n",
       "      <th>ma_tinh</th>\n",
       "    </tr>\n",
       "  </thead>\n",
       "  <tbody>\n",
       "    <tr>\n",
       "      <th>8</th>\n",
       "      <td>1000009</td>\n",
       "      <td>2.6</td>\n",
       "      <td>5.25</td>\n",
       "      <td>NaN</td>\n",
       "      <td>NaN</td>\n",
       "      <td>NaN</td>\n",
       "      <td>NaN</td>\n",
       "      <td>5.25</td>\n",
       "      <td>6.75</td>\n",
       "      <td>NaN</td>\n",
       "      <td>Sở GDĐT Hà Nội</td>\n",
       "      <td>1</td>\n",
       "    </tr>\n",
       "    <tr>\n",
       "      <th>11</th>\n",
       "      <td>1000012</td>\n",
       "      <td>6.4</td>\n",
       "      <td>7.50</td>\n",
       "      <td>NaN</td>\n",
       "      <td>NaN</td>\n",
       "      <td>NaN</td>\n",
       "      <td>NaN</td>\n",
       "      <td>4.75</td>\n",
       "      <td>5.00</td>\n",
       "      <td>8.00</td>\n",
       "      <td>Sở GDĐT Hà Nội</td>\n",
       "      <td>1</td>\n",
       "    </tr>\n",
       "    <tr>\n",
       "      <th>18</th>\n",
       "      <td>1000019</td>\n",
       "      <td>6.8</td>\n",
       "      <td>7.50</td>\n",
       "      <td>NaN</td>\n",
       "      <td>NaN</td>\n",
       "      <td>NaN</td>\n",
       "      <td>NaN</td>\n",
       "      <td>7.25</td>\n",
       "      <td>6.25</td>\n",
       "      <td>8.00</td>\n",
       "      <td>Sở GDĐT Hà Nội</td>\n",
       "      <td>1</td>\n",
       "    </tr>\n",
       "    <tr>\n",
       "      <th>19</th>\n",
       "      <td>1000020</td>\n",
       "      <td>NaN</td>\n",
       "      <td>6.75</td>\n",
       "      <td>NaN</td>\n",
       "      <td>NaN</td>\n",
       "      <td>NaN</td>\n",
       "      <td>NaN</td>\n",
       "      <td>8.50</td>\n",
       "      <td>8.00</td>\n",
       "      <td>NaN</td>\n",
       "      <td>Sở GDĐT Hà Nội</td>\n",
       "      <td>1</td>\n",
       "    </tr>\n",
       "    <tr>\n",
       "      <th>20</th>\n",
       "      <td>1000021</td>\n",
       "      <td>8.0</td>\n",
       "      <td>9.00</td>\n",
       "      <td>NaN</td>\n",
       "      <td>NaN</td>\n",
       "      <td>NaN</td>\n",
       "      <td>NaN</td>\n",
       "      <td>7.00</td>\n",
       "      <td>6.25</td>\n",
       "      <td>8.75</td>\n",
       "      <td>Sở GDĐT Hà Nội</td>\n",
       "      <td>1</td>\n",
       "    </tr>\n",
       "  </tbody>\n",
       "</table>\n",
       "</div>"
      ],
      "text/plain": [
       "        sbd  toan  ngu_van  ngoai_ngu  vat_li  hoa_hoc  sinh_hoc  lich_su  \\\n",
       "8   1000009   2.6     5.25        NaN     NaN      NaN       NaN     5.25   \n",
       "11  1000012   6.4     7.50        NaN     NaN      NaN       NaN     4.75   \n",
       "18  1000019   6.8     7.50        NaN     NaN      NaN       NaN     7.25   \n",
       "19  1000020   NaN     6.75        NaN     NaN      NaN       NaN     8.50   \n",
       "20  1000021   8.0     9.00        NaN     NaN      NaN       NaN     7.00   \n",
       "\n",
       "    dia_li  gdcd        hoi_dong  ma_tinh  \n",
       "8     6.75   NaN  Sở GDĐT Hà Nội        1  \n",
       "11    5.00  8.00  Sở GDĐT Hà Nội        1  \n",
       "18    6.25  8.00  Sở GDĐT Hà Nội        1  \n",
       "19    8.00   NaN  Sở GDĐT Hà Nội        1  \n",
       "20    6.25  8.75  Sở GDĐT Hà Nội        1  "
      ]
     },
     "execution_count": 106,
     "metadata": {},
     "output_type": "execute_result"
    }
   ],
   "source": [
    "thi_sinh_co_chung_chi_ngoai_ngu = df[df.ngoai_ngu.isnull()]\n",
    "thi_sinh_co_chung_chi_ngoai_ngu.head()\n"
   ]
  },
  {
   "cell_type": "code",
   "execution_count": 108,
   "metadata": {},
   "outputs": [],
   "source": [
    "df[\"ngoai_ngu\"].fillna(10, inplace=True)"
   ]
  },
  {
   "cell_type": "code",
   "execution_count": 109,
   "metadata": {},
   "outputs": [
    {
     "name": "stderr",
     "output_type": "stream",
     "text": [
      "C:\\Users\\DELL\\AppData\\Local\\Temp\\ipykernel_22456\\206008121.py:3: SettingWithCopyWarning:\n",
      "\n",
      "\n",
      "A value is trying to be set on a copy of a slice from a DataFrame\n",
      "\n",
      "See the caveats in the documentation: https://pandas.pydata.org/pandas-docs/stable/user_guide/indexing.html#returning-a-view-versus-a-copy\n",
      "\n"
     ]
    },
    {
     "data": {
      "text/html": [
       "<div>\n",
       "<style scoped>\n",
       "    .dataframe tbody tr th:only-of-type {\n",
       "        vertical-align: middle;\n",
       "    }\n",
       "\n",
       "    .dataframe tbody tr th {\n",
       "        vertical-align: top;\n",
       "    }\n",
       "\n",
       "    .dataframe thead th {\n",
       "        text-align: right;\n",
       "    }\n",
       "</style>\n",
       "<table border=\"1\" class=\"dataframe\">\n",
       "  <thead>\n",
       "    <tr style=\"text-align: right;\">\n",
       "      <th></th>\n",
       "      <th>sbd</th>\n",
       "      <th>toan</th>\n",
       "      <th>ngu_van</th>\n",
       "      <th>ngoai_ngu</th>\n",
       "      <th>lich_su</th>\n",
       "      <th>dia_li</th>\n",
       "      <th>gdcd</th>\n",
       "      <th>hoi_dong</th>\n",
       "      <th>ma_tinh</th>\n",
       "    </tr>\n",
       "  </thead>\n",
       "  <tbody>\n",
       "    <tr>\n",
       "      <th>0</th>\n",
       "      <td>1000001</td>\n",
       "      <td>3.6</td>\n",
       "      <td>5.00</td>\n",
       "      <td>4.0</td>\n",
       "      <td>2.75</td>\n",
       "      <td>6.0</td>\n",
       "      <td>8.75</td>\n",
       "      <td>Sở GDĐT Hà Nội</td>\n",
       "      <td>1</td>\n",
       "    </tr>\n",
       "    <tr>\n",
       "      <th>1</th>\n",
       "      <td>1000002</td>\n",
       "      <td>8.4</td>\n",
       "      <td>6.75</td>\n",
       "      <td>7.6</td>\n",
       "      <td>8.50</td>\n",
       "      <td>7.5</td>\n",
       "      <td>8.25</td>\n",
       "      <td>Sở GDĐT Hà Nội</td>\n",
       "      <td>1</td>\n",
       "    </tr>\n",
       "    <tr>\n",
       "      <th>2</th>\n",
       "      <td>1000003</td>\n",
       "      <td>5.8</td>\n",
       "      <td>7.50</td>\n",
       "      <td>5.0</td>\n",
       "      <td>7.25</td>\n",
       "      <td>5.5</td>\n",
       "      <td>8.75</td>\n",
       "      <td>Sở GDĐT Hà Nội</td>\n",
       "      <td>1</td>\n",
       "    </tr>\n",
       "    <tr>\n",
       "      <th>3</th>\n",
       "      <td>1000004</td>\n",
       "      <td>7.4</td>\n",
       "      <td>7.50</td>\n",
       "      <td>8.6</td>\n",
       "      <td>7.50</td>\n",
       "      <td>6.5</td>\n",
       "      <td>7.50</td>\n",
       "      <td>Sở GDĐT Hà Nội</td>\n",
       "      <td>1</td>\n",
       "    </tr>\n",
       "    <tr>\n",
       "      <th>4</th>\n",
       "      <td>1000005</td>\n",
       "      <td>7.2</td>\n",
       "      <td>8.50</td>\n",
       "      <td>9.0</td>\n",
       "      <td>8.00</td>\n",
       "      <td>8.5</td>\n",
       "      <td>8.25</td>\n",
       "      <td>Sở GDĐT Hà Nội</td>\n",
       "      <td>1</td>\n",
       "    </tr>\n",
       "  </tbody>\n",
       "</table>\n",
       "</div>"
      ],
      "text/plain": [
       "       sbd  toan  ngu_van  ngoai_ngu  lich_su  dia_li  gdcd        hoi_dong  \\\n",
       "0  1000001   3.6     5.00        4.0     2.75     6.0  8.75  Sở GDĐT Hà Nội   \n",
       "1  1000002   8.4     6.75        7.6     8.50     7.5  8.25  Sở GDĐT Hà Nội   \n",
       "2  1000003   5.8     7.50        5.0     7.25     5.5  8.75  Sở GDĐT Hà Nội   \n",
       "3  1000004   7.4     7.50        8.6     7.50     6.5  7.50  Sở GDĐT Hà Nội   \n",
       "4  1000005   7.2     8.50        9.0     8.00     8.5  8.25  Sở GDĐT Hà Nội   \n",
       "\n",
       "   ma_tinh  \n",
       "0        1  \n",
       "1        1  \n",
       "2        1  \n",
       "3        1  \n",
       "4        1  "
      ]
     },
     "execution_count": 109,
     "metadata": {},
     "output_type": "execute_result"
    }
   ],
   "source": [
    "khoi_xa_hoi = df[(df[\"vat_li\"].isnull()) & (\n",
    "    df[\"hoa_hoc\"].isnull()) & (df[\"sinh_hoc\"].isnull())]\n",
    "khoi_xa_hoi.drop(columns=[\"vat_li\", \"hoa_hoc\", \"sinh_hoc\"], inplace=True)\n",
    "khoi_xa_hoi.head()\n"
   ]
  },
  {
   "cell_type": "code",
   "execution_count": 113,
   "metadata": {},
   "outputs": [
    {
     "name": "stderr",
     "output_type": "stream",
     "text": [
      "C:\\Users\\DELL\\AppData\\Local\\Temp\\ipykernel_22456\\250995334.py:3: SettingWithCopyWarning:\n",
      "\n",
      "\n",
      "A value is trying to be set on a copy of a slice from a DataFrame\n",
      "\n",
      "See the caveats in the documentation: https://pandas.pydata.org/pandas-docs/stable/user_guide/indexing.html#returning-a-view-versus-a-copy\n",
      "\n"
     ]
    },
    {
     "data": {
      "text/html": [
       "<div>\n",
       "<style scoped>\n",
       "    .dataframe tbody tr th:only-of-type {\n",
       "        vertical-align: middle;\n",
       "    }\n",
       "\n",
       "    .dataframe tbody tr th {\n",
       "        vertical-align: top;\n",
       "    }\n",
       "\n",
       "    .dataframe thead th {\n",
       "        text-align: right;\n",
       "    }\n",
       "</style>\n",
       "<table border=\"1\" class=\"dataframe\">\n",
       "  <thead>\n",
       "    <tr style=\"text-align: right;\">\n",
       "      <th></th>\n",
       "      <th>sbd</th>\n",
       "      <th>toan</th>\n",
       "      <th>ngu_van</th>\n",
       "      <th>ngoai_ngu</th>\n",
       "      <th>vat_li</th>\n",
       "      <th>hoa_hoc</th>\n",
       "      <th>sinh_hoc</th>\n",
       "      <th>hoi_dong</th>\n",
       "      <th>ma_tinh</th>\n",
       "    </tr>\n",
       "  </thead>\n",
       "  <tbody>\n",
       "    <tr>\n",
       "      <th>10</th>\n",
       "      <td>1000011</td>\n",
       "      <td>6.4</td>\n",
       "      <td>7.25</td>\n",
       "      <td>7.6</td>\n",
       "      <td>3.50</td>\n",
       "      <td>8.00</td>\n",
       "      <td>3.00</td>\n",
       "      <td>Sở GDĐT Hà Nội</td>\n",
       "      <td>1</td>\n",
       "    </tr>\n",
       "    <tr>\n",
       "      <th>14</th>\n",
       "      <td>1000015</td>\n",
       "      <td>8.6</td>\n",
       "      <td>7.25</td>\n",
       "      <td>9.6</td>\n",
       "      <td>8.25</td>\n",
       "      <td>3.25</td>\n",
       "      <td>4.25</td>\n",
       "      <td>Sở GDĐT Hà Nội</td>\n",
       "      <td>1</td>\n",
       "    </tr>\n",
       "    <tr>\n",
       "      <th>15</th>\n",
       "      <td>1000016</td>\n",
       "      <td>7.8</td>\n",
       "      <td>5.75</td>\n",
       "      <td>8.4</td>\n",
       "      <td>4.25</td>\n",
       "      <td>8.00</td>\n",
       "      <td>4.75</td>\n",
       "      <td>Sở GDĐT Hà Nội</td>\n",
       "      <td>1</td>\n",
       "    </tr>\n",
       "    <tr>\n",
       "      <th>16</th>\n",
       "      <td>1000017</td>\n",
       "      <td>8.6</td>\n",
       "      <td>6.25</td>\n",
       "      <td>7.0</td>\n",
       "      <td>7.00</td>\n",
       "      <td>3.50</td>\n",
       "      <td>3.75</td>\n",
       "      <td>Sở GDĐT Hà Nội</td>\n",
       "      <td>1</td>\n",
       "    </tr>\n",
       "    <tr>\n",
       "      <th>22</th>\n",
       "      <td>1000023</td>\n",
       "      <td>6.8</td>\n",
       "      <td>6.00</td>\n",
       "      <td>6.8</td>\n",
       "      <td>2.50</td>\n",
       "      <td>5.50</td>\n",
       "      <td>3.00</td>\n",
       "      <td>Sở GDĐT Hà Nội</td>\n",
       "      <td>1</td>\n",
       "    </tr>\n",
       "  </tbody>\n",
       "</table>\n",
       "</div>"
      ],
      "text/plain": [
       "        sbd  toan  ngu_van  ngoai_ngu  vat_li  hoa_hoc  sinh_hoc  \\\n",
       "10  1000011   6.4     7.25        7.6    3.50     8.00      3.00   \n",
       "14  1000015   8.6     7.25        9.6    8.25     3.25      4.25   \n",
       "15  1000016   7.8     5.75        8.4    4.25     8.00      4.75   \n",
       "16  1000017   8.6     6.25        7.0    7.00     3.50      3.75   \n",
       "22  1000023   6.8     6.00        6.8    2.50     5.50      3.00   \n",
       "\n",
       "          hoi_dong  ma_tinh  \n",
       "10  Sở GDĐT Hà Nội        1  \n",
       "14  Sở GDĐT Hà Nội        1  \n",
       "15  Sở GDĐT Hà Nội        1  \n",
       "16  Sở GDĐT Hà Nội        1  \n",
       "22  Sở GDĐT Hà Nội        1  "
      ]
     },
     "execution_count": 113,
     "metadata": {},
     "output_type": "execute_result"
    }
   ],
   "source": [
    "khoi_tu_nhien = df[(df[\"lich_su\"].isnull()) & (\n",
    "    df[\"dia_li\"].isnull()) & (df[\"gdcd\"].isnull())]\n",
    "khoi_tu_nhien.drop(columns=[\"lich_su\", \"dia_li\", \"gdcd\"], inplace=True)\n",
    "khoi_tu_nhien.head()\n"
   ]
  },
  {
   "cell_type": "code",
   "execution_count": 114,
   "metadata": {},
   "outputs": [
    {
     "data": {
      "text/html": [
       "<div>\n",
       "<style scoped>\n",
       "    .dataframe tbody tr th:only-of-type {\n",
       "        vertical-align: middle;\n",
       "    }\n",
       "\n",
       "    .dataframe tbody tr th {\n",
       "        vertical-align: top;\n",
       "    }\n",
       "\n",
       "    .dataframe thead th {\n",
       "        text-align: right;\n",
       "    }\n",
       "</style>\n",
       "<table border=\"1\" class=\"dataframe\">\n",
       "  <thead>\n",
       "    <tr style=\"text-align: right;\">\n",
       "      <th></th>\n",
       "      <th>sbd</th>\n",
       "      <th>toan</th>\n",
       "      <th>ngu_van</th>\n",
       "      <th>ngoai_ngu</th>\n",
       "      <th>vat_li</th>\n",
       "      <th>hoa_hoc</th>\n",
       "      <th>sinh_hoc</th>\n",
       "      <th>lich_su</th>\n",
       "      <th>dia_li</th>\n",
       "      <th>gdcd</th>\n",
       "      <th>hoi_dong</th>\n",
       "      <th>ma_tinh</th>\n",
       "    </tr>\n",
       "  </thead>\n",
       "  <tbody>\n",
       "    <tr>\n",
       "      <th>8</th>\n",
       "      <td>1000009</td>\n",
       "      <td>2.6</td>\n",
       "      <td>5.25</td>\n",
       "      <td>10.0</td>\n",
       "      <td>NaN</td>\n",
       "      <td>NaN</td>\n",
       "      <td>NaN</td>\n",
       "      <td>5.25</td>\n",
       "      <td>6.75</td>\n",
       "      <td>NaN</td>\n",
       "      <td>Sở GDĐT Hà Nội</td>\n",
       "      <td>1</td>\n",
       "    </tr>\n",
       "    <tr>\n",
       "      <th>13</th>\n",
       "      <td>1000014</td>\n",
       "      <td>5.8</td>\n",
       "      <td>5.50</td>\n",
       "      <td>6.4</td>\n",
       "      <td>NaN</td>\n",
       "      <td>NaN</td>\n",
       "      <td>NaN</td>\n",
       "      <td>8.50</td>\n",
       "      <td>8.00</td>\n",
       "      <td>NaN</td>\n",
       "      <td>Sở GDĐT Hà Nội</td>\n",
       "      <td>1</td>\n",
       "    </tr>\n",
       "    <tr>\n",
       "      <th>19</th>\n",
       "      <td>1000020</td>\n",
       "      <td>NaN</td>\n",
       "      <td>6.75</td>\n",
       "      <td>10.0</td>\n",
       "      <td>NaN</td>\n",
       "      <td>NaN</td>\n",
       "      <td>NaN</td>\n",
       "      <td>8.50</td>\n",
       "      <td>8.00</td>\n",
       "      <td>NaN</td>\n",
       "      <td>Sở GDĐT Hà Nội</td>\n",
       "      <td>1</td>\n",
       "    </tr>\n",
       "    <tr>\n",
       "      <th>43</th>\n",
       "      <td>1000044</td>\n",
       "      <td>2.6</td>\n",
       "      <td>3.00</td>\n",
       "      <td>10.0</td>\n",
       "      <td>NaN</td>\n",
       "      <td>NaN</td>\n",
       "      <td>NaN</td>\n",
       "      <td>2.00</td>\n",
       "      <td>4.50</td>\n",
       "      <td>NaN</td>\n",
       "      <td>Sở GDĐT Hà Nội</td>\n",
       "      <td>1</td>\n",
       "    </tr>\n",
       "    <tr>\n",
       "      <th>59</th>\n",
       "      <td>1000060</td>\n",
       "      <td>8.2</td>\n",
       "      <td>7.50</td>\n",
       "      <td>7.2</td>\n",
       "      <td>NaN</td>\n",
       "      <td>NaN</td>\n",
       "      <td>NaN</td>\n",
       "      <td>NaN</td>\n",
       "      <td>NaN</td>\n",
       "      <td>NaN</td>\n",
       "      <td>Sở GDĐT Hà Nội</td>\n",
       "      <td>1</td>\n",
       "    </tr>\n",
       "  </tbody>\n",
       "</table>\n",
       "</div>"
      ],
      "text/plain": [
       "        sbd  toan  ngu_van  ngoai_ngu  vat_li  hoa_hoc  sinh_hoc  lich_su  \\\n",
       "8   1000009   2.6     5.25       10.0     NaN      NaN       NaN     5.25   \n",
       "13  1000014   5.8     5.50        6.4     NaN      NaN       NaN     8.50   \n",
       "19  1000020   NaN     6.75       10.0     NaN      NaN       NaN     8.50   \n",
       "43  1000044   2.6     3.00       10.0     NaN      NaN       NaN     2.00   \n",
       "59  1000060   8.2     7.50        7.2     NaN      NaN       NaN      NaN   \n",
       "\n",
       "    dia_li  gdcd        hoi_dong  ma_tinh  \n",
       "8     6.75   NaN  Sở GDĐT Hà Nội        1  \n",
       "13    8.00   NaN  Sở GDĐT Hà Nội        1  \n",
       "19    8.00   NaN  Sở GDĐT Hà Nội        1  \n",
       "43    4.50   NaN  Sở GDĐT Hà Nội        1  \n",
       "59     NaN   NaN  Sở GDĐT Hà Nội        1  "
      ]
     },
     "execution_count": 114,
     "metadata": {},
     "output_type": "execute_result"
    }
   ],
   "source": [
    "thi_sinh_tu_do = df[((df[\"lich_su\"].isnull()) | (df[\"dia_li\"].isnull()) | (df[\"gdcd\"].isnull())) & (\n",
    "    (df[\"vat_li\"].isnull()) | (df[\"hoa_hoc\"].isnull()) | (df[\"sinh_hoc\"].isnull()))]\n",
    "thi_sinh_tu_do.head()\n"
   ]
  },
  {
   "cell_type": "code",
   "execution_count": 223,
   "metadata": {},
   "outputs": [
    {
     "data": {
      "text/html": [
       "<div>\n",
       "<style scoped>\n",
       "    .dataframe tbody tr th:only-of-type {\n",
       "        vertical-align: middle;\n",
       "    }\n",
       "\n",
       "    .dataframe tbody tr th {\n",
       "        vertical-align: top;\n",
       "    }\n",
       "\n",
       "    .dataframe thead th {\n",
       "        text-align: right;\n",
       "    }\n",
       "</style>\n",
       "<table border=\"1\" class=\"dataframe\">\n",
       "  <thead>\n",
       "    <tr style=\"text-align: right;\">\n",
       "      <th></th>\n",
       "      <th>sbd</th>\n",
       "      <th>toan</th>\n",
       "      <th>ngu_van</th>\n",
       "      <th>ngoai_ngu</th>\n",
       "      <th>vat_li</th>\n",
       "      <th>hoa_hoc</th>\n",
       "      <th>sinh_hoc</th>\n",
       "      <th>lich_su</th>\n",
       "      <th>dia_li</th>\n",
       "      <th>gdcd</th>\n",
       "    </tr>\n",
       "    <tr>\n",
       "      <th>ma_tinh</th>\n",
       "      <th></th>\n",
       "      <th></th>\n",
       "      <th></th>\n",
       "      <th></th>\n",
       "      <th></th>\n",
       "      <th></th>\n",
       "      <th></th>\n",
       "      <th></th>\n",
       "      <th></th>\n",
       "      <th></th>\n",
       "    </tr>\n",
       "  </thead>\n",
       "  <tbody>\n",
       "    <tr>\n",
       "      <th>1</th>\n",
       "      <td>1.048806e+06</td>\n",
       "      <td>6.765761</td>\n",
       "      <td>6.652506</td>\n",
       "      <td>6.477440</td>\n",
       "      <td>6.840207</td>\n",
       "      <td>6.310386</td>\n",
       "      <td>4.640575</td>\n",
       "      <td>6.476566</td>\n",
       "      <td>6.557574</td>\n",
       "      <td>7.926987</td>\n",
       "    </tr>\n",
       "    <tr>\n",
       "      <th>2</th>\n",
       "      <td>2.042482e+06</td>\n",
       "      <td>7.057077</td>\n",
       "      <td>6.340630</td>\n",
       "      <td>6.879796</td>\n",
       "      <td>6.467969</td>\n",
       "      <td>6.591868</td>\n",
       "      <td>4.987090</td>\n",
       "      <td>6.450351</td>\n",
       "      <td>6.741903</td>\n",
       "      <td>8.201075</td>\n",
       "    </tr>\n",
       "    <tr>\n",
       "      <th>3</th>\n",
       "      <td>3.011245e+06</td>\n",
       "      <td>6.916197</td>\n",
       "      <td>7.687661</td>\n",
       "      <td>6.259637</td>\n",
       "      <td>7.077407</td>\n",
       "      <td>6.845281</td>\n",
       "      <td>5.174039</td>\n",
       "      <td>6.851996</td>\n",
       "      <td>7.084774</td>\n",
       "      <td>8.592164</td>\n",
       "    </tr>\n",
       "    <tr>\n",
       "      <th>4</th>\n",
       "      <td>4.006348e+06</td>\n",
       "      <td>6.749634</td>\n",
       "      <td>5.822092</td>\n",
       "      <td>6.284565</td>\n",
       "      <td>6.614552</td>\n",
       "      <td>6.493775</td>\n",
       "      <td>4.602447</td>\n",
       "      <td>5.786791</td>\n",
       "      <td>6.279573</td>\n",
       "      <td>7.754599</td>\n",
       "    </tr>\n",
       "    <tr>\n",
       "      <th>5</th>\n",
       "      <td>5.002944e+06</td>\n",
       "      <td>4.696837</td>\n",
       "      <td>5.252195</td>\n",
       "      <td>4.468770</td>\n",
       "      <td>6.534045</td>\n",
       "      <td>6.502505</td>\n",
       "      <td>4.967119</td>\n",
       "      <td>5.577227</td>\n",
       "      <td>6.070619</td>\n",
       "      <td>7.160255</td>\n",
       "    </tr>\n",
       "  </tbody>\n",
       "</table>\n",
       "</div>"
      ],
      "text/plain": [
       "                  sbd      toan   ngu_van  ngoai_ngu    vat_li   hoa_hoc  \\\n",
       "ma_tinh                                                                    \n",
       "1        1.048806e+06  6.765761  6.652506   6.477440  6.840207  6.310386   \n",
       "2        2.042482e+06  7.057077  6.340630   6.879796  6.467969  6.591868   \n",
       "3        3.011245e+06  6.916197  7.687661   6.259637  7.077407  6.845281   \n",
       "4        4.006348e+06  6.749634  5.822092   6.284565  6.614552  6.493775   \n",
       "5        5.002944e+06  4.696837  5.252195   4.468770  6.534045  6.502505   \n",
       "\n",
       "         sinh_hoc   lich_su    dia_li      gdcd  \n",
       "ma_tinh                                          \n",
       "1        4.640575  6.476566  6.557574  7.926987  \n",
       "2        4.987090  6.450351  6.741903  8.201075  \n",
       "3        5.174039  6.851996  7.084774  8.592164  \n",
       "4        4.602447  5.786791  6.279573  7.754599  \n",
       "5        4.967119  5.577227  6.070619  7.160255  "
      ]
     },
     "execution_count": 223,
     "metadata": {},
     "output_type": "execute_result"
    }
   ],
   "source": [
    "prov = [\"Hà Nội\", \"TP. Hồ Chí Minh\", \"Hải Phòng\", \"Đà Nẵng\", \"Hà Giang\", \"Cao Bằng\", \"Lai Châu\", \"Lào Cai\", \"Tuyên Quang\", \"Lạng Sơn\", \"Bắc Kạn\", \"Thái Nguyên\", \"Yên Bái\", \"Sơn La\", \"Phú Thọ\", \"Vĩnh Phúc\", \"Quảng Ninh\", \"Bắc Giang\", \"Bắc Ninh\",None, \"Hải Dương\", \"Hưng Yên\", \"Hoà Bình\", \"Hà Nam\", \"Nam Định\", \"Thái Bình\", \"Ninh Bình\", \"Thanh Hoá\", \"Nghệ An\", \"Hà Tĩnh\", \"Quảng Bình\", \"Quảng Trị\", \"Thừa Thiên -Huế\",\n",
    "        \"Quảng Nam\", \"Quảng Ngãi\", \"Kon Tum\", \"Bình Định\", \"Gia Lai\", \"Phú Yên\", \"Đắk Lắk\", \"Khánh Hoà\", \"Lâm Đồng\", \"Bình Phước\", \"Bình Dương\", \"Ninh Thuận\", \"Tây Ninh\", \"Bình Thuận\", \"Đồng Nai\", \"Long An\", \"Đồng Tháp\", \"An Giang\", \"Bà Rịa-Vũng Tàu\", \"Tiền Giang\", \"Kiên Giang\", \"Cần Thơ\", \"Bến Tre\", \"Vĩnh Long\", \"Trà Vinh\", \"Sóc Trăng\", \"Bạc Liêu\", \"Cà Mau\", \"Điện Biên\", \"Đăk Nông\", \"Hậu Giang\"]\n",
    "val = df.groupby(\"ma_tinh\").mean()\n",
    "val.head()"
   ]
  },
  {
   "cell_type": "code",
   "execution_count": 226,
   "metadata": {},
   "outputs": [
    {
     "data": {
      "application/vnd.plotly.v1+json": {
       "config": {
        "plotlyServerURL": "https://plot.ly"
       },
       "data": [
        {
         "alignmentgroup": "True",
         "hovertemplate": "variable=%{x}<br>value=%{y}<extra></extra>",
         "legendgroup": "",
         "marker": {
          "color": "#636efa"
         },
         "name": "",
         "notched": false,
         "offsetgroup": "",
         "orientation": "v",
         "showlegend": false,
         "type": "box",
         "x": [
          "toan",
          "toan",
          "toan",
          "toan",
          "toan",
          "toan",
          "toan",
          "toan",
          "toan",
          "toan",
          "toan",
          "toan",
          "toan",
          "toan",
          "toan",
          "toan",
          "toan",
          "toan",
          "toan",
          "toan",
          "toan",
          "toan",
          "toan",
          "toan",
          "toan",
          "toan",
          "toan",
          "toan",
          "toan",
          "toan",
          "toan",
          "toan",
          "toan",
          "toan",
          "toan",
          "toan",
          "toan",
          "toan",
          "toan",
          "toan",
          "toan",
          "toan",
          "toan",
          "toan",
          "toan",
          "toan",
          "toan",
          "toan",
          "toan",
          "toan",
          "toan",
          "toan",
          "toan",
          "toan",
          "toan",
          "toan",
          "toan",
          "toan",
          "toan",
          "toan",
          "toan",
          "toan",
          "toan"
         ],
         "x0": " ",
         "xaxis": "x",
         "y": [
          6.765761363280393,
          7.057076604751826,
          6.916196709553056,
          6.749634038446071,
          4.696837323082299,
          5.173134328358208,
          5.815562447138427,
          6.227780132824643,
          5.790142042005585,
          5.530193727924649,
          5.551523545706371,
          5.921993382402594,
          5.62193910052236,
          5.287386888273315,
          6.446442283081648,
          6.91986301369863,
          5.933725972428969,
          6.469324702074444,
          6.875250666328214,
          6.705076741440378,
          6.626838502985292,
          5.341972428419937,
          6.981420523583343,
          7.4021762343011135,
          6.997300269973003,
          6.999479467900521,
          6.080123466818293,
          6.3190121412803535,
          6.547950005840439,
          5.930560116767014,
          6.2001181753722525,
          6.49129408180364,
          6.355004847309743,
          6.381801582471089,
          6.295862068965517,
          6.629107162324213,
          6.045299392536881,
          6.223886715110862,
          5.86282675678362,
          6.423492245835726,
          6.617204608888571,
          6.23227328489195,
          7.145337012219157,
          6.038003442340792,
          6.425660770031217,
          6.392767044547342,
          6.293352165120534,
          6.677451304060746,
          6.4848378851069555,
          6.532995034648333,
          6.728948624145062,
          6.820937268876488,
          6.001818963047837,
          6.486746785444155,
          6.506179729175216,
          6.539405204460967,
          5.745022064363362,
          5.92243648607285,
          6.678047994846191,
          6.17627633327007,
          5.481237458193981,
          6.017244943156652,
          5.868326073428749
         ],
         "y0": " ",
         "yaxis": "y"
        },
        {
         "alignmentgroup": "True",
         "hovertemplate": "variable=%{x}<br>value=%{y}<extra></extra>",
         "legendgroup": "",
         "marker": {
          "color": "#636efa"
         },
         "name": "",
         "notched": false,
         "offsetgroup": "",
         "orientation": "v",
         "showlegend": false,
         "type": "box",
         "x": [
          "ngu_van",
          "ngu_van",
          "ngu_van",
          "ngu_van",
          "ngu_van",
          "ngu_van",
          "ngu_van",
          "ngu_van",
          "ngu_van",
          "ngu_van",
          "ngu_van",
          "ngu_van",
          "ngu_van",
          "ngu_van",
          "ngu_van",
          "ngu_van",
          "ngu_van",
          "ngu_van",
          "ngu_van",
          "ngu_van",
          "ngu_van",
          "ngu_van",
          "ngu_van",
          "ngu_van",
          "ngu_van",
          "ngu_van",
          "ngu_van",
          "ngu_van",
          "ngu_van",
          "ngu_van",
          "ngu_van",
          "ngu_van",
          "ngu_van",
          "ngu_van",
          "ngu_van",
          "ngu_van",
          "ngu_van",
          "ngu_van",
          "ngu_van",
          "ngu_van",
          "ngu_van",
          "ngu_van",
          "ngu_van",
          "ngu_van",
          "ngu_van",
          "ngu_van",
          "ngu_van",
          "ngu_van",
          "ngu_van",
          "ngu_van",
          "ngu_van",
          "ngu_van",
          "ngu_van",
          "ngu_van",
          "ngu_van",
          "ngu_van",
          "ngu_van",
          "ngu_van",
          "ngu_van",
          "ngu_van",
          "ngu_van",
          "ngu_van",
          "ngu_van"
         ],
         "x0": " ",
         "xaxis": "x2",
         "y": [
          6.6525056237379285,
          6.340630416987673,
          7.687661279369822,
          5.822092362632903,
          5.252194870029265,
          5.735427704752275,
          5.039666114790287,
          6.536962237762237,
          6.365712915217652,
          5.896648340029604,
          6.270403706154864,
          6.531239514126569,
          6.188837442122388,
          5.79533160991264,
          6.962619945058456,
          7.436695639471186,
          6.2328160175960665,
          6.821436377061286,
          7.083445083014048,
          6.825250421501537,
          5.759279636150235,
          6.885762461797872,
          7.362562257885999,
          7.214383279212412,
          6.392333909858582,
          7.356489104116223,
          7.181820450907511,
          7.208493891894907,
          7.340900223292984,
          6.096173143586936,
          5.602258255414842,
          6.448484408437786,
          5.974503171247357,
          6.532424242424242,
          5.373183673469387,
          6.197643621668851,
          6.019301922243099,
          5.568154346815435,
          5.9997751686235326,
          6.032714533371857,
          6.71839082938048,
          5.822579882775572,
          7.081905063291139,
          6.070648434812521,
          6.561077974526251,
          6.507022561169367,
          5.913588496715187,
          6.225584731819677,
          6.6374957971891595,
          6.832085506301608,
          6.483614803024273,
          7.025538234108319,
          6.188740730277562,
          6.557509414584047,
          5.796077610960702,
          5.889387934400625,
          5.759635917147128,
          6.410003033060358,
          6.915358448577332,
          6.611707756495354,
          6.466841186736475,
          5.40585623050646,
          6.068765260392521
         ],
         "y0": " ",
         "yaxis": "y2"
        },
        {
         "alignmentgroup": "True",
         "hovertemplate": "variable=%{x}<br>value=%{y}<extra></extra>",
         "legendgroup": "",
         "marker": {
          "color": "#636efa"
         },
         "name": "",
         "notched": false,
         "offsetgroup": "",
         "orientation": "v",
         "showlegend": false,
         "type": "box",
         "x": [
          "ngoai_ngu",
          "ngoai_ngu",
          "ngoai_ngu",
          "ngoai_ngu",
          "ngoai_ngu",
          "ngoai_ngu",
          "ngoai_ngu",
          "ngoai_ngu",
          "ngoai_ngu",
          "ngoai_ngu",
          "ngoai_ngu",
          "ngoai_ngu",
          "ngoai_ngu",
          "ngoai_ngu",
          "ngoai_ngu",
          "ngoai_ngu",
          "ngoai_ngu",
          "ngoai_ngu",
          "ngoai_ngu",
          "ngoai_ngu",
          "ngoai_ngu",
          "ngoai_ngu",
          "ngoai_ngu",
          "ngoai_ngu",
          "ngoai_ngu",
          "ngoai_ngu",
          "ngoai_ngu",
          "ngoai_ngu",
          "ngoai_ngu",
          "ngoai_ngu",
          "ngoai_ngu",
          "ngoai_ngu",
          "ngoai_ngu",
          "ngoai_ngu",
          "ngoai_ngu",
          "ngoai_ngu",
          "ngoai_ngu",
          "ngoai_ngu",
          "ngoai_ngu",
          "ngoai_ngu",
          "ngoai_ngu",
          "ngoai_ngu",
          "ngoai_ngu",
          "ngoai_ngu",
          "ngoai_ngu",
          "ngoai_ngu",
          "ngoai_ngu",
          "ngoai_ngu",
          "ngoai_ngu",
          "ngoai_ngu",
          "ngoai_ngu",
          "ngoai_ngu",
          "ngoai_ngu",
          "ngoai_ngu",
          "ngoai_ngu",
          "ngoai_ngu",
          "ngoai_ngu",
          "ngoai_ngu",
          "ngoai_ngu",
          "ngoai_ngu",
          "ngoai_ngu",
          "ngoai_ngu",
          "ngoai_ngu"
         ],
         "x0": " ",
         "xaxis": "x3",
         "y": [
          6.477440118833942,
          6.879795735022932,
          6.2596365909192375,
          6.284564612326044,
          4.468770254136108,
          5.0592901050961725,
          5.042271982523211,
          5.352637423653526,
          5.077317507418398,
          5.612885095753539,
          5.237798886341303,
          5.6792813100842015,
          5.835661033797217,
          4.9774481236203085,
          5.852201417004049,
          6.743934260794349,
          6.137301587301587,
          5.859903663698731,
          6.065627760252366,
          5.971990990108706,
          5.904141159524667,
          4.986610966057442,
          5.83391048676903,
          6.131175072082553,
          5.803842144452718,
          6.112751166555566,
          5.254230502322105,
          5.14953506180943,
          5.8105409153952845,
          4.975114709851552,
          4.9640634039106795,
          5.265658844765343,
          5.001063384909493,
          5.556810831139527,
          5.026427061310782,
          5.541359727405484,
          4.946770870337478,
          4.9335111274599965,
          4.909701199135051,
          5.98670944741533,
          5.5724294426322505,
          5.345636329658008,
          6.963460185981089,
          4.974297872340426,
          5.339547270306259,
          5.264744244519525,
          6.270216497146318,
          5.791162456758697,
          5.451788801702354,
          5.533272316140842,
          6.333212226522392,
          5.465517700292787,
          5.2634973821989535,
          5.845740057400574,
          5.598748069262661,
          5.592679384138665,
          4.6468660818095335,
          4.866379569354032,
          5.543115546546078,
          4.651851851851852,
          4.867955714953999,
          4.523146526561588,
          4.4251030691708655
         ],
         "y0": " ",
         "yaxis": "y3"
        }
       ],
       "layout": {
        "height": 720,
        "template": {
         "data": {
          "bar": [
           {
            "error_x": {
             "color": "#2a3f5f"
            },
            "error_y": {
             "color": "#2a3f5f"
            },
            "marker": {
             "line": {
              "color": "#E5ECF6",
              "width": 0.5
             },
             "pattern": {
              "fillmode": "overlay",
              "size": 10,
              "solidity": 0.2
             }
            },
            "type": "bar"
           }
          ],
          "barpolar": [
           {
            "marker": {
             "line": {
              "color": "#E5ECF6",
              "width": 0.5
             },
             "pattern": {
              "fillmode": "overlay",
              "size": 10,
              "solidity": 0.2
             }
            },
            "type": "barpolar"
           }
          ],
          "carpet": [
           {
            "aaxis": {
             "endlinecolor": "#2a3f5f",
             "gridcolor": "white",
             "linecolor": "white",
             "minorgridcolor": "white",
             "startlinecolor": "#2a3f5f"
            },
            "baxis": {
             "endlinecolor": "#2a3f5f",
             "gridcolor": "white",
             "linecolor": "white",
             "minorgridcolor": "white",
             "startlinecolor": "#2a3f5f"
            },
            "type": "carpet"
           }
          ],
          "choropleth": [
           {
            "colorbar": {
             "outlinewidth": 0,
             "ticks": ""
            },
            "type": "choropleth"
           }
          ],
          "contour": [
           {
            "colorbar": {
             "outlinewidth": 0,
             "ticks": ""
            },
            "colorscale": [
             [
              0,
              "#0d0887"
             ],
             [
              0.1111111111111111,
              "#46039f"
             ],
             [
              0.2222222222222222,
              "#7201a8"
             ],
             [
              0.3333333333333333,
              "#9c179e"
             ],
             [
              0.4444444444444444,
              "#bd3786"
             ],
             [
              0.5555555555555556,
              "#d8576b"
             ],
             [
              0.6666666666666666,
              "#ed7953"
             ],
             [
              0.7777777777777778,
              "#fb9f3a"
             ],
             [
              0.8888888888888888,
              "#fdca26"
             ],
             [
              1,
              "#f0f921"
             ]
            ],
            "type": "contour"
           }
          ],
          "contourcarpet": [
           {
            "colorbar": {
             "outlinewidth": 0,
             "ticks": ""
            },
            "type": "contourcarpet"
           }
          ],
          "heatmap": [
           {
            "colorbar": {
             "outlinewidth": 0,
             "ticks": ""
            },
            "colorscale": [
             [
              0,
              "#0d0887"
             ],
             [
              0.1111111111111111,
              "#46039f"
             ],
             [
              0.2222222222222222,
              "#7201a8"
             ],
             [
              0.3333333333333333,
              "#9c179e"
             ],
             [
              0.4444444444444444,
              "#bd3786"
             ],
             [
              0.5555555555555556,
              "#d8576b"
             ],
             [
              0.6666666666666666,
              "#ed7953"
             ],
             [
              0.7777777777777778,
              "#fb9f3a"
             ],
             [
              0.8888888888888888,
              "#fdca26"
             ],
             [
              1,
              "#f0f921"
             ]
            ],
            "type": "heatmap"
           }
          ],
          "heatmapgl": [
           {
            "colorbar": {
             "outlinewidth": 0,
             "ticks": ""
            },
            "colorscale": [
             [
              0,
              "#0d0887"
             ],
             [
              0.1111111111111111,
              "#46039f"
             ],
             [
              0.2222222222222222,
              "#7201a8"
             ],
             [
              0.3333333333333333,
              "#9c179e"
             ],
             [
              0.4444444444444444,
              "#bd3786"
             ],
             [
              0.5555555555555556,
              "#d8576b"
             ],
             [
              0.6666666666666666,
              "#ed7953"
             ],
             [
              0.7777777777777778,
              "#fb9f3a"
             ],
             [
              0.8888888888888888,
              "#fdca26"
             ],
             [
              1,
              "#f0f921"
             ]
            ],
            "type": "heatmapgl"
           }
          ],
          "histogram": [
           {
            "marker": {
             "pattern": {
              "fillmode": "overlay",
              "size": 10,
              "solidity": 0.2
             }
            },
            "type": "histogram"
           }
          ],
          "histogram2d": [
           {
            "colorbar": {
             "outlinewidth": 0,
             "ticks": ""
            },
            "colorscale": [
             [
              0,
              "#0d0887"
             ],
             [
              0.1111111111111111,
              "#46039f"
             ],
             [
              0.2222222222222222,
              "#7201a8"
             ],
             [
              0.3333333333333333,
              "#9c179e"
             ],
             [
              0.4444444444444444,
              "#bd3786"
             ],
             [
              0.5555555555555556,
              "#d8576b"
             ],
             [
              0.6666666666666666,
              "#ed7953"
             ],
             [
              0.7777777777777778,
              "#fb9f3a"
             ],
             [
              0.8888888888888888,
              "#fdca26"
             ],
             [
              1,
              "#f0f921"
             ]
            ],
            "type": "histogram2d"
           }
          ],
          "histogram2dcontour": [
           {
            "colorbar": {
             "outlinewidth": 0,
             "ticks": ""
            },
            "colorscale": [
             [
              0,
              "#0d0887"
             ],
             [
              0.1111111111111111,
              "#46039f"
             ],
             [
              0.2222222222222222,
              "#7201a8"
             ],
             [
              0.3333333333333333,
              "#9c179e"
             ],
             [
              0.4444444444444444,
              "#bd3786"
             ],
             [
              0.5555555555555556,
              "#d8576b"
             ],
             [
              0.6666666666666666,
              "#ed7953"
             ],
             [
              0.7777777777777778,
              "#fb9f3a"
             ],
             [
              0.8888888888888888,
              "#fdca26"
             ],
             [
              1,
              "#f0f921"
             ]
            ],
            "type": "histogram2dcontour"
           }
          ],
          "mesh3d": [
           {
            "colorbar": {
             "outlinewidth": 0,
             "ticks": ""
            },
            "type": "mesh3d"
           }
          ],
          "parcoords": [
           {
            "line": {
             "colorbar": {
              "outlinewidth": 0,
              "ticks": ""
             }
            },
            "type": "parcoords"
           }
          ],
          "pie": [
           {
            "automargin": true,
            "type": "pie"
           }
          ],
          "scatter": [
           {
            "fillpattern": {
             "fillmode": "overlay",
             "size": 10,
             "solidity": 0.2
            },
            "type": "scatter"
           }
          ],
          "scatter3d": [
           {
            "line": {
             "colorbar": {
              "outlinewidth": 0,
              "ticks": ""
             }
            },
            "marker": {
             "colorbar": {
              "outlinewidth": 0,
              "ticks": ""
             }
            },
            "type": "scatter3d"
           }
          ],
          "scattercarpet": [
           {
            "marker": {
             "colorbar": {
              "outlinewidth": 0,
              "ticks": ""
             }
            },
            "type": "scattercarpet"
           }
          ],
          "scattergeo": [
           {
            "marker": {
             "colorbar": {
              "outlinewidth": 0,
              "ticks": ""
             }
            },
            "type": "scattergeo"
           }
          ],
          "scattergl": [
           {
            "marker": {
             "colorbar": {
              "outlinewidth": 0,
              "ticks": ""
             }
            },
            "type": "scattergl"
           }
          ],
          "scattermapbox": [
           {
            "marker": {
             "colorbar": {
              "outlinewidth": 0,
              "ticks": ""
             }
            },
            "type": "scattermapbox"
           }
          ],
          "scatterpolar": [
           {
            "marker": {
             "colorbar": {
              "outlinewidth": 0,
              "ticks": ""
             }
            },
            "type": "scatterpolar"
           }
          ],
          "scatterpolargl": [
           {
            "marker": {
             "colorbar": {
              "outlinewidth": 0,
              "ticks": ""
             }
            },
            "type": "scatterpolargl"
           }
          ],
          "scatterternary": [
           {
            "marker": {
             "colorbar": {
              "outlinewidth": 0,
              "ticks": ""
             }
            },
            "type": "scatterternary"
           }
          ],
          "surface": [
           {
            "colorbar": {
             "outlinewidth": 0,
             "ticks": ""
            },
            "colorscale": [
             [
              0,
              "#0d0887"
             ],
             [
              0.1111111111111111,
              "#46039f"
             ],
             [
              0.2222222222222222,
              "#7201a8"
             ],
             [
              0.3333333333333333,
              "#9c179e"
             ],
             [
              0.4444444444444444,
              "#bd3786"
             ],
             [
              0.5555555555555556,
              "#d8576b"
             ],
             [
              0.6666666666666666,
              "#ed7953"
             ],
             [
              0.7777777777777778,
              "#fb9f3a"
             ],
             [
              0.8888888888888888,
              "#fdca26"
             ],
             [
              1,
              "#f0f921"
             ]
            ],
            "type": "surface"
           }
          ],
          "table": [
           {
            "cells": {
             "fill": {
              "color": "#EBF0F8"
             },
             "line": {
              "color": "white"
             }
            },
            "header": {
             "fill": {
              "color": "#C8D4E3"
             },
             "line": {
              "color": "white"
             }
            },
            "type": "table"
           }
          ]
         },
         "layout": {
          "annotationdefaults": {
           "arrowcolor": "#2a3f5f",
           "arrowhead": 0,
           "arrowwidth": 1
          },
          "autotypenumbers": "strict",
          "coloraxis": {
           "colorbar": {
            "outlinewidth": 0,
            "ticks": ""
           }
          },
          "colorscale": {
           "diverging": [
            [
             0,
             "#8e0152"
            ],
            [
             0.1,
             "#c51b7d"
            ],
            [
             0.2,
             "#de77ae"
            ],
            [
             0.3,
             "#f1b6da"
            ],
            [
             0.4,
             "#fde0ef"
            ],
            [
             0.5,
             "#f7f7f7"
            ],
            [
             0.6,
             "#e6f5d0"
            ],
            [
             0.7,
             "#b8e186"
            ],
            [
             0.8,
             "#7fbc41"
            ],
            [
             0.9,
             "#4d9221"
            ],
            [
             1,
             "#276419"
            ]
           ],
           "sequential": [
            [
             0,
             "#0d0887"
            ],
            [
             0.1111111111111111,
             "#46039f"
            ],
            [
             0.2222222222222222,
             "#7201a8"
            ],
            [
             0.3333333333333333,
             "#9c179e"
            ],
            [
             0.4444444444444444,
             "#bd3786"
            ],
            [
             0.5555555555555556,
             "#d8576b"
            ],
            [
             0.6666666666666666,
             "#ed7953"
            ],
            [
             0.7777777777777778,
             "#fb9f3a"
            ],
            [
             0.8888888888888888,
             "#fdca26"
            ],
            [
             1,
             "#f0f921"
            ]
           ],
           "sequentialminus": [
            [
             0,
             "#0d0887"
            ],
            [
             0.1111111111111111,
             "#46039f"
            ],
            [
             0.2222222222222222,
             "#7201a8"
            ],
            [
             0.3333333333333333,
             "#9c179e"
            ],
            [
             0.4444444444444444,
             "#bd3786"
            ],
            [
             0.5555555555555556,
             "#d8576b"
            ],
            [
             0.6666666666666666,
             "#ed7953"
            ],
            [
             0.7777777777777778,
             "#fb9f3a"
            ],
            [
             0.8888888888888888,
             "#fdca26"
            ],
            [
             1,
             "#f0f921"
            ]
           ]
          },
          "colorway": [
           "#636efa",
           "#EF553B",
           "#00cc96",
           "#ab63fa",
           "#FFA15A",
           "#19d3f3",
           "#FF6692",
           "#B6E880",
           "#FF97FF",
           "#FECB52"
          ],
          "font": {
           "color": "#2a3f5f"
          },
          "geo": {
           "bgcolor": "white",
           "lakecolor": "white",
           "landcolor": "#E5ECF6",
           "showlakes": true,
           "showland": true,
           "subunitcolor": "white"
          },
          "hoverlabel": {
           "align": "left"
          },
          "hovermode": "closest",
          "mapbox": {
           "style": "light"
          },
          "paper_bgcolor": "white",
          "plot_bgcolor": "#E5ECF6",
          "polar": {
           "angularaxis": {
            "gridcolor": "white",
            "linecolor": "white",
            "ticks": ""
           },
           "bgcolor": "#E5ECF6",
           "radialaxis": {
            "gridcolor": "white",
            "linecolor": "white",
            "ticks": ""
           }
          },
          "scene": {
           "xaxis": {
            "backgroundcolor": "#E5ECF6",
            "gridcolor": "white",
            "gridwidth": 2,
            "linecolor": "white",
            "showbackground": true,
            "ticks": "",
            "zerolinecolor": "white"
           },
           "yaxis": {
            "backgroundcolor": "#E5ECF6",
            "gridcolor": "white",
            "gridwidth": 2,
            "linecolor": "white",
            "showbackground": true,
            "ticks": "",
            "zerolinecolor": "white"
           },
           "zaxis": {
            "backgroundcolor": "#E5ECF6",
            "gridcolor": "white",
            "gridwidth": 2,
            "linecolor": "white",
            "showbackground": true,
            "ticks": "",
            "zerolinecolor": "white"
           }
          },
          "shapedefaults": {
           "line": {
            "color": "#2a3f5f"
           }
          },
          "ternary": {
           "aaxis": {
            "gridcolor": "white",
            "linecolor": "white",
            "ticks": ""
           },
           "baxis": {
            "gridcolor": "white",
            "linecolor": "white",
            "ticks": ""
           },
           "bgcolor": "#E5ECF6",
           "caxis": {
            "gridcolor": "white",
            "linecolor": "white",
            "ticks": ""
           }
          },
          "title": {
           "x": 0.05
          },
          "xaxis": {
           "automargin": true,
           "gridcolor": "white",
           "linecolor": "white",
           "ticks": "",
           "title": {
            "standoff": 15
           },
           "zerolinecolor": "white",
           "zerolinewidth": 2
          },
          "yaxis": {
           "automargin": true,
           "gridcolor": "white",
           "linecolor": "white",
           "ticks": "",
           "title": {
            "standoff": 15
           },
           "zerolinecolor": "white",
           "zerolinewidth": 2
          }
         }
        },
        "title": {
         "text": "Box plot of mean score of 63 province"
        },
        "width": 1366,
        "xaxis": {
         "anchor": "y",
         "domain": [
          0,
          0.2888888888888889
         ]
        },
        "xaxis2": {
         "anchor": "y2",
         "domain": [
          0.35555555555555557,
          0.6444444444444445
         ]
        },
        "xaxis3": {
         "anchor": "y3",
         "domain": [
          0.7111111111111111,
          1
         ]
        },
        "yaxis": {
         "anchor": "x",
         "domain": [
          0,
          1
         ]
        },
        "yaxis2": {
         "anchor": "x2",
         "domain": [
          0,
          1
         ]
        },
        "yaxis3": {
         "anchor": "x3",
         "domain": [
          0,
          1
         ]
        }
       }
      }
     },
     "metadata": {},
     "output_type": "display_data"
    }
   ],
   "source": [
    "import plotly.express as px\n",
    "from plotly.subplots import make_subplots\n",
    "fig = make_subplots(rows=1, cols=3)\n",
    "fig1 = px.box(val[\"toan\"])\n",
    "fig2 = px.box(val[\"ngu_van\"])\n",
    "fig3 = px.box(val[\"ngoai_ngu\"])\n",
    "fig.add_trace(fig1[\"data\"][0], row=1, col=1)\n",
    "fig.add_trace(fig2[\"data\"][0], row=1, col=2)\n",
    "fig.add_trace(fig3[\"data\"][0], row=1, col=3)\n",
    "fig.update_layout(height=720, width=1366, title_text=\"Box plot of mean score of 63 province\")"
   ]
  },
  {
   "cell_type": "code",
   "execution_count": 311,
   "metadata": {},
   "outputs": [
    {
     "name": "stderr",
     "output_type": "stream",
     "text": [
      "C:\\Users\\DELL\\AppData\\Local\\Temp\\ipykernel_22456\\1753538804.py:3: FutureWarning:\n",
      "\n",
      "The series.append method is deprecated and will be removed from pandas in a future version. Use pandas.concat instead.\n",
      "\n"
     ]
    },
    {
     "data": {
      "application/vnd.plotly.v1+json": {
       "config": {
        "plotlyServerURL": "https://plot.ly"
       },
       "data": [
        {
         "alignmentgroup": "True",
         "hovertemplate": "color=Nam Định<br>x=%{x}<br>y=%{y}<br>text=%{text}<extra></extra>",
         "legendgroup": "Nam Định",
         "marker": {
          "color": "#636efa",
          "pattern": {
           "shape": ""
          }
         },
         "name": "Nam Định",
         "offsetgroup": "Nam Định",
         "orientation": "v",
         "showlegend": true,
         "text": [
          7.4
         ],
         "textposition": "auto",
         "type": "bar",
         "x": [
          "Nam Định"
         ],
         "xaxis": "x",
         "y": [
          7.4021762343011135
         ],
         "yaxis": "y"
        },
        {
         "alignmentgroup": "True",
         "hovertemplate": "color=Bình Dương<br>x=%{x}<br>y=%{y}<br>text=%{text}<extra></extra>",
         "legendgroup": "Bình Dương",
         "marker": {
          "color": "#EF553B",
          "pattern": {
           "shape": ""
          }
         },
         "name": "Bình Dương",
         "offsetgroup": "Bình Dương",
         "orientation": "v",
         "showlegend": true,
         "text": [
          7.15
         ],
         "textposition": "auto",
         "type": "bar",
         "x": [
          "Bình Dương"
         ],
         "xaxis": "x",
         "y": [
          7.145337012219157
         ],
         "yaxis": "y"
        },
        {
         "alignmentgroup": "True",
         "hovertemplate": "color=TP. Hồ Chí Minh<br>x=%{x}<br>y=%{y}<br>text=%{text}<extra></extra>",
         "legendgroup": "TP. Hồ Chí Minh",
         "marker": {
          "color": "#00cc96",
          "pattern": {
           "shape": ""
          }
         },
         "name": "TP. Hồ Chí Minh",
         "offsetgroup": "TP. Hồ Chí Minh",
         "orientation": "v",
         "showlegend": true,
         "text": [
          7.06
         ],
         "textposition": "auto",
         "type": "bar",
         "x": [
          "TP. Hồ Chí Minh"
         ],
         "xaxis": "x",
         "y": [
          7.057076604751826
         ],
         "yaxis": "y"
        },
        {
         "alignmentgroup": "True",
         "hovertemplate": "color=Ninh Bình<br>x=%{x}<br>y=%{y}<br>text=%{text}<extra></extra>",
         "legendgroup": "Ninh Bình",
         "marker": {
          "color": "#ab63fa",
          "pattern": {
           "shape": ""
          }
         },
         "name": "Ninh Bình",
         "offsetgroup": "Ninh Bình",
         "orientation": "v",
         "showlegend": true,
         "text": [
          7
         ],
         "textposition": "auto",
         "type": "bar",
         "x": [
          "Ninh Bình"
         ],
         "xaxis": "x",
         "y": [
          6.999479467900521
         ],
         "yaxis": "y"
        },
        {
         "alignmentgroup": "True",
         "hovertemplate": "color=Thái Bình<br>x=%{x}<br>y=%{y}<br>text=%{text}<extra></extra>",
         "legendgroup": "Thái Bình",
         "marker": {
          "color": "#FFA15A",
          "pattern": {
           "shape": ""
          }
         },
         "name": "Thái Bình",
         "offsetgroup": "Thái Bình",
         "orientation": "v",
         "showlegend": true,
         "text": [
          7
         ],
         "textposition": "auto",
         "type": "bar",
         "x": [
          "Thái Bình"
         ],
         "xaxis": "x",
         "y": [
          6.997300269973003
         ],
         "yaxis": "y"
        },
        {
         "alignmentgroup": "True",
         "hovertemplate": "color=Hà Nam<br>x=%{x}<br>y=%{y}<br>text=%{text}<extra></extra>",
         "legendgroup": "Hà Nam",
         "marker": {
          "color": "#19d3f3",
          "pattern": {
           "shape": ""
          }
         },
         "name": "Hà Nam",
         "offsetgroup": "Hà Nam",
         "orientation": "v",
         "showlegend": true,
         "text": [
          6.98
         ],
         "textposition": "auto",
         "type": "bar",
         "x": [
          "Hà Nam"
         ],
         "xaxis": "x",
         "y": [
          6.981420523583343
         ],
         "yaxis": "y"
        },
        {
         "alignmentgroup": "True",
         "hovertemplate": "color=Vĩnh Phúc<br>x=%{x}<br>y=%{y}<br>text=%{text}<extra></extra>",
         "legendgroup": "Vĩnh Phúc",
         "marker": {
          "color": "#FF6692",
          "pattern": {
           "shape": ""
          }
         },
         "name": "Vĩnh Phúc",
         "offsetgroup": "Vĩnh Phúc",
         "orientation": "v",
         "showlegend": true,
         "text": [
          6.92
         ],
         "textposition": "auto",
         "type": "bar",
         "x": [
          "Vĩnh Phúc"
         ],
         "xaxis": "x",
         "y": [
          6.91986301369863
         ],
         "yaxis": "y"
        },
        {
         "alignmentgroup": "True",
         "hovertemplate": "color=Hải Phòng<br>x=%{x}<br>y=%{y}<br>text=%{text}<extra></extra>",
         "legendgroup": "Hải Phòng",
         "marker": {
          "color": "#B6E880",
          "pattern": {
           "shape": ""
          }
         },
         "name": "Hải Phòng",
         "offsetgroup": "Hải Phòng",
         "orientation": "v",
         "showlegend": true,
         "text": [
          6.92
         ],
         "textposition": "auto",
         "type": "bar",
         "x": [
          "Hải Phòng"
         ],
         "xaxis": "x",
         "y": [
          6.916196709553056
         ],
         "yaxis": "y"
        },
        {
         "alignmentgroup": "True",
         "hovertemplate": "color=Bắc Ninh<br>x=%{x}<br>y=%{y}<br>text=%{text}<extra></extra>",
         "legendgroup": "Bắc Ninh",
         "marker": {
          "color": "#FF97FF",
          "pattern": {
           "shape": ""
          }
         },
         "name": "Bắc Ninh",
         "offsetgroup": "Bắc Ninh",
         "orientation": "v",
         "showlegend": true,
         "text": [
          6.88
         ],
         "textposition": "auto",
         "type": "bar",
         "x": [
          "Bắc Ninh"
         ],
         "xaxis": "x",
         "y": [
          6.875250666328214
         ],
         "yaxis": "y"
        },
        {
         "alignmentgroup": "True",
         "hovertemplate": "color=Tiền Giang<br>x=%{x}<br>y=%{y}<br>text=%{text}<extra></extra>",
         "legendgroup": "Tiền Giang",
         "marker": {
          "color": "#FECB52",
          "pattern": {
           "shape": ""
          }
         },
         "name": "Tiền Giang",
         "offsetgroup": "Tiền Giang",
         "orientation": "v",
         "showlegend": true,
         "text": [
          6.82
         ],
         "textposition": "auto",
         "type": "bar",
         "x": [
          "Tiền Giang"
         ],
         "xaxis": "x",
         "y": [
          6.820937268876488
         ],
         "yaxis": "y"
        },
        {
         "alignmentgroup": "True",
         "hovertemplate": "color=Tuyên Quang<br>x=%{x}<br>y=%{y}<br>text=%{text}<extra></extra>",
         "legendgroup": "Tuyên Quang",
         "marker": {
          "color": "#636efa",
          "pattern": {
           "shape": ""
          }
         },
         "name": "Tuyên Quang",
         "offsetgroup": "Tuyên Quang",
         "orientation": "v",
         "showlegend": true,
         "text": [
          5.79
         ],
         "textposition": "auto",
         "type": "bar",
         "x": [
          "Tuyên Quang"
         ],
         "xaxis": "x",
         "y": [
          5.790142042005585
         ],
         "yaxis": "y"
        },
        {
         "alignmentgroup": "True",
         "hovertemplate": "color=Trà Vinh<br>x=%{x}<br>y=%{y}<br>text=%{text}<extra></extra>",
         "legendgroup": "Trà Vinh",
         "marker": {
          "color": "#EF553B",
          "pattern": {
           "shape": ""
          }
         },
         "name": "Trà Vinh",
         "offsetgroup": "Trà Vinh",
         "orientation": "v",
         "showlegend": true,
         "text": [
          5.75
         ],
         "textposition": "auto",
         "type": "bar",
         "x": [
          "Trà Vinh"
         ],
         "xaxis": "x",
         "y": [
          5.745022064363362
         ],
         "yaxis": "y"
        },
        {
         "alignmentgroup": "True",
         "hovertemplate": "color=Yên Bái<br>x=%{x}<br>y=%{y}<br>text=%{text}<extra></extra>",
         "legendgroup": "Yên Bái",
         "marker": {
          "color": "#00cc96",
          "pattern": {
           "shape": ""
          }
         },
         "name": "Yên Bái",
         "offsetgroup": "Yên Bái",
         "orientation": "v",
         "showlegend": true,
         "text": [
          5.62
         ],
         "textposition": "auto",
         "type": "bar",
         "x": [
          "Yên Bái"
         ],
         "xaxis": "x",
         "y": [
          5.62193910052236
         ],
         "yaxis": "y"
        },
        {
         "alignmentgroup": "True",
         "hovertemplate": "color=Bắc Kạn<br>x=%{x}<br>y=%{y}<br>text=%{text}<extra></extra>",
         "legendgroup": "Bắc Kạn",
         "marker": {
          "color": "#ab63fa",
          "pattern": {
           "shape": ""
          }
         },
         "name": "Bắc Kạn",
         "offsetgroup": "Bắc Kạn",
         "orientation": "v",
         "showlegend": true,
         "text": [
          5.55
         ],
         "textposition": "auto",
         "type": "bar",
         "x": [
          "Bắc Kạn"
         ],
         "xaxis": "x",
         "y": [
          5.551523545706371
         ],
         "yaxis": "y"
        },
        {
         "alignmentgroup": "True",
         "hovertemplate": "color=Lạng Sơn<br>x=%{x}<br>y=%{y}<br>text=%{text}<extra></extra>",
         "legendgroup": "Lạng Sơn",
         "marker": {
          "color": "#FFA15A",
          "pattern": {
           "shape": ""
          }
         },
         "name": "Lạng Sơn",
         "offsetgroup": "Lạng Sơn",
         "orientation": "v",
         "showlegend": true,
         "text": [
          5.53
         ],
         "textposition": "auto",
         "type": "bar",
         "x": [
          "Lạng Sơn"
         ],
         "xaxis": "x",
         "y": [
          5.530193727924649
         ],
         "yaxis": "y"
        },
        {
         "alignmentgroup": "True",
         "hovertemplate": "color=Điện Biên<br>x=%{x}<br>y=%{y}<br>text=%{text}<extra></extra>",
         "legendgroup": "Điện Biên",
         "marker": {
          "color": "#19d3f3",
          "pattern": {
           "shape": ""
          }
         },
         "name": "Điện Biên",
         "offsetgroup": "Điện Biên",
         "orientation": "v",
         "showlegend": true,
         "text": [
          5.48
         ],
         "textposition": "auto",
         "type": "bar",
         "x": [
          "Điện Biên"
         ],
         "xaxis": "x",
         "y": [
          5.481237458193981
         ],
         "yaxis": "y"
        },
        {
         "alignmentgroup": "True",
         "hovertemplate": "color=Hoà Bình<br>x=%{x}<br>y=%{y}<br>text=%{text}<extra></extra>",
         "legendgroup": "Hoà Bình",
         "marker": {
          "color": "#FF6692",
          "pattern": {
           "shape": ""
          }
         },
         "name": "Hoà Bình",
         "offsetgroup": "Hoà Bình",
         "orientation": "v",
         "showlegend": true,
         "text": [
          5.34
         ],
         "textposition": "auto",
         "type": "bar",
         "x": [
          "Hoà Bình"
         ],
         "xaxis": "x",
         "y": [
          5.341972428419937
         ],
         "yaxis": "y"
        },
        {
         "alignmentgroup": "True",
         "hovertemplate": "color=Sơn La<br>x=%{x}<br>y=%{y}<br>text=%{text}<extra></extra>",
         "legendgroup": "Sơn La",
         "marker": {
          "color": "#B6E880",
          "pattern": {
           "shape": ""
          }
         },
         "name": "Sơn La",
         "offsetgroup": "Sơn La",
         "orientation": "v",
         "showlegend": true,
         "text": [
          5.29
         ],
         "textposition": "auto",
         "type": "bar",
         "x": [
          "Sơn La"
         ],
         "xaxis": "x",
         "y": [
          5.287386888273315
         ],
         "yaxis": "y"
        },
        {
         "alignmentgroup": "True",
         "hovertemplate": "color=Cao Bằng<br>x=%{x}<br>y=%{y}<br>text=%{text}<extra></extra>",
         "legendgroup": "Cao Bằng",
         "marker": {
          "color": "#FF97FF",
          "pattern": {
           "shape": ""
          }
         },
         "name": "Cao Bằng",
         "offsetgroup": "Cao Bằng",
         "orientation": "v",
         "showlegend": true,
         "text": [
          5.17
         ],
         "textposition": "auto",
         "type": "bar",
         "x": [
          "Cao Bằng"
         ],
         "xaxis": "x",
         "y": [
          5.173134328358208
         ],
         "yaxis": "y"
        },
        {
         "alignmentgroup": "True",
         "hovertemplate": "color=Hà Giang<br>x=%{x}<br>y=%{y}<br>text=%{text}<extra></extra>",
         "legendgroup": "Hà Giang",
         "marker": {
          "color": "#FECB52",
          "pattern": {
           "shape": ""
          }
         },
         "name": "Hà Giang",
         "offsetgroup": "Hà Giang",
         "orientation": "v",
         "showlegend": true,
         "text": [
          4.7
         ],
         "textposition": "auto",
         "type": "bar",
         "x": [
          "Hà Giang"
         ],
         "xaxis": "x",
         "y": [
          4.696837323082299
         ],
         "yaxis": "y"
        }
       ],
       "layout": {
        "barmode": "relative",
        "legend": {
         "title": {
          "text": "color"
         },
         "tracegroupgap": 0
        },
        "margin": {
         "t": 60
        },
        "showlegend": false,
        "template": {
         "data": {
          "bar": [
           {
            "error_x": {
             "color": "#2a3f5f"
            },
            "error_y": {
             "color": "#2a3f5f"
            },
            "marker": {
             "line": {
              "color": "#E5ECF6",
              "width": 0.5
             },
             "pattern": {
              "fillmode": "overlay",
              "size": 10,
              "solidity": 0.2
             }
            },
            "type": "bar"
           }
          ],
          "barpolar": [
           {
            "marker": {
             "line": {
              "color": "#E5ECF6",
              "width": 0.5
             },
             "pattern": {
              "fillmode": "overlay",
              "size": 10,
              "solidity": 0.2
             }
            },
            "type": "barpolar"
           }
          ],
          "carpet": [
           {
            "aaxis": {
             "endlinecolor": "#2a3f5f",
             "gridcolor": "white",
             "linecolor": "white",
             "minorgridcolor": "white",
             "startlinecolor": "#2a3f5f"
            },
            "baxis": {
             "endlinecolor": "#2a3f5f",
             "gridcolor": "white",
             "linecolor": "white",
             "minorgridcolor": "white",
             "startlinecolor": "#2a3f5f"
            },
            "type": "carpet"
           }
          ],
          "choropleth": [
           {
            "colorbar": {
             "outlinewidth": 0,
             "ticks": ""
            },
            "type": "choropleth"
           }
          ],
          "contour": [
           {
            "colorbar": {
             "outlinewidth": 0,
             "ticks": ""
            },
            "colorscale": [
             [
              0,
              "#0d0887"
             ],
             [
              0.1111111111111111,
              "#46039f"
             ],
             [
              0.2222222222222222,
              "#7201a8"
             ],
             [
              0.3333333333333333,
              "#9c179e"
             ],
             [
              0.4444444444444444,
              "#bd3786"
             ],
             [
              0.5555555555555556,
              "#d8576b"
             ],
             [
              0.6666666666666666,
              "#ed7953"
             ],
             [
              0.7777777777777778,
              "#fb9f3a"
             ],
             [
              0.8888888888888888,
              "#fdca26"
             ],
             [
              1,
              "#f0f921"
             ]
            ],
            "type": "contour"
           }
          ],
          "contourcarpet": [
           {
            "colorbar": {
             "outlinewidth": 0,
             "ticks": ""
            },
            "type": "contourcarpet"
           }
          ],
          "heatmap": [
           {
            "colorbar": {
             "outlinewidth": 0,
             "ticks": ""
            },
            "colorscale": [
             [
              0,
              "#0d0887"
             ],
             [
              0.1111111111111111,
              "#46039f"
             ],
             [
              0.2222222222222222,
              "#7201a8"
             ],
             [
              0.3333333333333333,
              "#9c179e"
             ],
             [
              0.4444444444444444,
              "#bd3786"
             ],
             [
              0.5555555555555556,
              "#d8576b"
             ],
             [
              0.6666666666666666,
              "#ed7953"
             ],
             [
              0.7777777777777778,
              "#fb9f3a"
             ],
             [
              0.8888888888888888,
              "#fdca26"
             ],
             [
              1,
              "#f0f921"
             ]
            ],
            "type": "heatmap"
           }
          ],
          "heatmapgl": [
           {
            "colorbar": {
             "outlinewidth": 0,
             "ticks": ""
            },
            "colorscale": [
             [
              0,
              "#0d0887"
             ],
             [
              0.1111111111111111,
              "#46039f"
             ],
             [
              0.2222222222222222,
              "#7201a8"
             ],
             [
              0.3333333333333333,
              "#9c179e"
             ],
             [
              0.4444444444444444,
              "#bd3786"
             ],
             [
              0.5555555555555556,
              "#d8576b"
             ],
             [
              0.6666666666666666,
              "#ed7953"
             ],
             [
              0.7777777777777778,
              "#fb9f3a"
             ],
             [
              0.8888888888888888,
              "#fdca26"
             ],
             [
              1,
              "#f0f921"
             ]
            ],
            "type": "heatmapgl"
           }
          ],
          "histogram": [
           {
            "marker": {
             "pattern": {
              "fillmode": "overlay",
              "size": 10,
              "solidity": 0.2
             }
            },
            "type": "histogram"
           }
          ],
          "histogram2d": [
           {
            "colorbar": {
             "outlinewidth": 0,
             "ticks": ""
            },
            "colorscale": [
             [
              0,
              "#0d0887"
             ],
             [
              0.1111111111111111,
              "#46039f"
             ],
             [
              0.2222222222222222,
              "#7201a8"
             ],
             [
              0.3333333333333333,
              "#9c179e"
             ],
             [
              0.4444444444444444,
              "#bd3786"
             ],
             [
              0.5555555555555556,
              "#d8576b"
             ],
             [
              0.6666666666666666,
              "#ed7953"
             ],
             [
              0.7777777777777778,
              "#fb9f3a"
             ],
             [
              0.8888888888888888,
              "#fdca26"
             ],
             [
              1,
              "#f0f921"
             ]
            ],
            "type": "histogram2d"
           }
          ],
          "histogram2dcontour": [
           {
            "colorbar": {
             "outlinewidth": 0,
             "ticks": ""
            },
            "colorscale": [
             [
              0,
              "#0d0887"
             ],
             [
              0.1111111111111111,
              "#46039f"
             ],
             [
              0.2222222222222222,
              "#7201a8"
             ],
             [
              0.3333333333333333,
              "#9c179e"
             ],
             [
              0.4444444444444444,
              "#bd3786"
             ],
             [
              0.5555555555555556,
              "#d8576b"
             ],
             [
              0.6666666666666666,
              "#ed7953"
             ],
             [
              0.7777777777777778,
              "#fb9f3a"
             ],
             [
              0.8888888888888888,
              "#fdca26"
             ],
             [
              1,
              "#f0f921"
             ]
            ],
            "type": "histogram2dcontour"
           }
          ],
          "mesh3d": [
           {
            "colorbar": {
             "outlinewidth": 0,
             "ticks": ""
            },
            "type": "mesh3d"
           }
          ],
          "parcoords": [
           {
            "line": {
             "colorbar": {
              "outlinewidth": 0,
              "ticks": ""
             }
            },
            "type": "parcoords"
           }
          ],
          "pie": [
           {
            "automargin": true,
            "type": "pie"
           }
          ],
          "scatter": [
           {
            "fillpattern": {
             "fillmode": "overlay",
             "size": 10,
             "solidity": 0.2
            },
            "type": "scatter"
           }
          ],
          "scatter3d": [
           {
            "line": {
             "colorbar": {
              "outlinewidth": 0,
              "ticks": ""
             }
            },
            "marker": {
             "colorbar": {
              "outlinewidth": 0,
              "ticks": ""
             }
            },
            "type": "scatter3d"
           }
          ],
          "scattercarpet": [
           {
            "marker": {
             "colorbar": {
              "outlinewidth": 0,
              "ticks": ""
             }
            },
            "type": "scattercarpet"
           }
          ],
          "scattergeo": [
           {
            "marker": {
             "colorbar": {
              "outlinewidth": 0,
              "ticks": ""
             }
            },
            "type": "scattergeo"
           }
          ],
          "scattergl": [
           {
            "marker": {
             "colorbar": {
              "outlinewidth": 0,
              "ticks": ""
             }
            },
            "type": "scattergl"
           }
          ],
          "scattermapbox": [
           {
            "marker": {
             "colorbar": {
              "outlinewidth": 0,
              "ticks": ""
             }
            },
            "type": "scattermapbox"
           }
          ],
          "scatterpolar": [
           {
            "marker": {
             "colorbar": {
              "outlinewidth": 0,
              "ticks": ""
             }
            },
            "type": "scatterpolar"
           }
          ],
          "scatterpolargl": [
           {
            "marker": {
             "colorbar": {
              "outlinewidth": 0,
              "ticks": ""
             }
            },
            "type": "scatterpolargl"
           }
          ],
          "scatterternary": [
           {
            "marker": {
             "colorbar": {
              "outlinewidth": 0,
              "ticks": ""
             }
            },
            "type": "scatterternary"
           }
          ],
          "surface": [
           {
            "colorbar": {
             "outlinewidth": 0,
             "ticks": ""
            },
            "colorscale": [
             [
              0,
              "#0d0887"
             ],
             [
              0.1111111111111111,
              "#46039f"
             ],
             [
              0.2222222222222222,
              "#7201a8"
             ],
             [
              0.3333333333333333,
              "#9c179e"
             ],
             [
              0.4444444444444444,
              "#bd3786"
             ],
             [
              0.5555555555555556,
              "#d8576b"
             ],
             [
              0.6666666666666666,
              "#ed7953"
             ],
             [
              0.7777777777777778,
              "#fb9f3a"
             ],
             [
              0.8888888888888888,
              "#fdca26"
             ],
             [
              1,
              "#f0f921"
             ]
            ],
            "type": "surface"
           }
          ],
          "table": [
           {
            "cells": {
             "fill": {
              "color": "#EBF0F8"
             },
             "line": {
              "color": "white"
             }
            },
            "header": {
             "fill": {
              "color": "#C8D4E3"
             },
             "line": {
              "color": "white"
             }
            },
            "type": "table"
           }
          ]
         },
         "layout": {
          "annotationdefaults": {
           "arrowcolor": "#2a3f5f",
           "arrowhead": 0,
           "arrowwidth": 1
          },
          "autotypenumbers": "strict",
          "coloraxis": {
           "colorbar": {
            "outlinewidth": 0,
            "ticks": ""
           }
          },
          "colorscale": {
           "diverging": [
            [
             0,
             "#8e0152"
            ],
            [
             0.1,
             "#c51b7d"
            ],
            [
             0.2,
             "#de77ae"
            ],
            [
             0.3,
             "#f1b6da"
            ],
            [
             0.4,
             "#fde0ef"
            ],
            [
             0.5,
             "#f7f7f7"
            ],
            [
             0.6,
             "#e6f5d0"
            ],
            [
             0.7,
             "#b8e186"
            ],
            [
             0.8,
             "#7fbc41"
            ],
            [
             0.9,
             "#4d9221"
            ],
            [
             1,
             "#276419"
            ]
           ],
           "sequential": [
            [
             0,
             "#0d0887"
            ],
            [
             0.1111111111111111,
             "#46039f"
            ],
            [
             0.2222222222222222,
             "#7201a8"
            ],
            [
             0.3333333333333333,
             "#9c179e"
            ],
            [
             0.4444444444444444,
             "#bd3786"
            ],
            [
             0.5555555555555556,
             "#d8576b"
            ],
            [
             0.6666666666666666,
             "#ed7953"
            ],
            [
             0.7777777777777778,
             "#fb9f3a"
            ],
            [
             0.8888888888888888,
             "#fdca26"
            ],
            [
             1,
             "#f0f921"
            ]
           ],
           "sequentialminus": [
            [
             0,
             "#0d0887"
            ],
            [
             0.1111111111111111,
             "#46039f"
            ],
            [
             0.2222222222222222,
             "#7201a8"
            ],
            [
             0.3333333333333333,
             "#9c179e"
            ],
            [
             0.4444444444444444,
             "#bd3786"
            ],
            [
             0.5555555555555556,
             "#d8576b"
            ],
            [
             0.6666666666666666,
             "#ed7953"
            ],
            [
             0.7777777777777778,
             "#fb9f3a"
            ],
            [
             0.8888888888888888,
             "#fdca26"
            ],
            [
             1,
             "#f0f921"
            ]
           ]
          },
          "colorway": [
           "#636efa",
           "#EF553B",
           "#00cc96",
           "#ab63fa",
           "#FFA15A",
           "#19d3f3",
           "#FF6692",
           "#B6E880",
           "#FF97FF",
           "#FECB52"
          ],
          "font": {
           "color": "#2a3f5f"
          },
          "geo": {
           "bgcolor": "white",
           "lakecolor": "white",
           "landcolor": "#E5ECF6",
           "showlakes": true,
           "showland": true,
           "subunitcolor": "white"
          },
          "hoverlabel": {
           "align": "left"
          },
          "hovermode": "closest",
          "mapbox": {
           "style": "light"
          },
          "paper_bgcolor": "white",
          "plot_bgcolor": "#E5ECF6",
          "polar": {
           "angularaxis": {
            "gridcolor": "white",
            "linecolor": "white",
            "ticks": ""
           },
           "bgcolor": "#E5ECF6",
           "radialaxis": {
            "gridcolor": "white",
            "linecolor": "white",
            "ticks": ""
           }
          },
          "scene": {
           "xaxis": {
            "backgroundcolor": "#E5ECF6",
            "gridcolor": "white",
            "gridwidth": 2,
            "linecolor": "white",
            "showbackground": true,
            "ticks": "",
            "zerolinecolor": "white"
           },
           "yaxis": {
            "backgroundcolor": "#E5ECF6",
            "gridcolor": "white",
            "gridwidth": 2,
            "linecolor": "white",
            "showbackground": true,
            "ticks": "",
            "zerolinecolor": "white"
           },
           "zaxis": {
            "backgroundcolor": "#E5ECF6",
            "gridcolor": "white",
            "gridwidth": 2,
            "linecolor": "white",
            "showbackground": true,
            "ticks": "",
            "zerolinecolor": "white"
           }
          },
          "shapedefaults": {
           "line": {
            "color": "#2a3f5f"
           }
          },
          "ternary": {
           "aaxis": {
            "gridcolor": "white",
            "linecolor": "white",
            "ticks": ""
           },
           "baxis": {
            "gridcolor": "white",
            "linecolor": "white",
            "ticks": ""
           },
           "bgcolor": "#E5ECF6",
           "caxis": {
            "gridcolor": "white",
            "linecolor": "white",
            "ticks": ""
           }
          },
          "title": {
           "x": 0.05
          },
          "xaxis": {
           "automargin": true,
           "gridcolor": "white",
           "linecolor": "white",
           "ticks": "",
           "title": {
            "standoff": 15
           },
           "zerolinecolor": "white",
           "zerolinewidth": 2
          },
          "yaxis": {
           "automargin": true,
           "gridcolor": "white",
           "linecolor": "white",
           "ticks": "",
           "title": {
            "standoff": 15
           },
           "zerolinecolor": "white",
           "zerolinewidth": 2
          }
         }
        },
        "title": {
         "text": "Top 10 province with the highest and lowest average in math"
        },
        "xaxis": {
         "anchor": "y",
         "domain": [
          0,
          1
         ],
         "title": {
          "text": "Province"
         }
        },
        "yaxis": {
         "anchor": "x",
         "domain": [
          0,
          1
         ],
         "title": {
          "text": "Average score"
         }
        }
       }
      }
     },
     "metadata": {},
     "output_type": "display_data"
    }
   ],
   "source": [
    "top10van = val.nlargest(10, \"toan\")[\"toan\"]\n",
    "meomeo = val.nsmallest(10, \"toan\")[\"toan\"]\n",
    "top10van = top10van.append(meomeo[::-1])\n",
    "top10van\n",
    "hoi_dong = [prov[i-1] for i in top10van.index]\n",
    "fig = px.bar(x=hoi_dong, y=top10van.values, color=hoi_dong, text=top10van.values.round(2))\n",
    "fig.update_layout(title=\"Top 10 province with the highest and lowest average in math\", xaxis_title=\"Province\",yaxis_title=\"Average score\",showlegend=False)"
   ]
  },
  {
   "cell_type": "code",
   "execution_count": 310,
   "metadata": {},
   "outputs": [
    {
     "name": "stderr",
     "output_type": "stream",
     "text": [
      "C:\\Users\\DELL\\AppData\\Local\\Temp\\ipykernel_22456\\1801152651.py:3: FutureWarning:\n",
      "\n",
      "The series.append method is deprecated and will be removed from pandas in a future version. Use pandas.concat instead.\n",
      "\n"
     ]
    },
    {
     "data": {
      "application/vnd.plotly.v1+json": {
       "config": {
        "plotlyServerURL": "https://plot.ly"
       },
       "data": [
        {
         "alignmentgroup": "True",
         "hovertemplate": "color=Hải Phòng<br>x=%{x}<br>y=%{y}<br>text=%{text}<extra></extra>",
         "legendgroup": "Hải Phòng",
         "marker": {
          "color": "#636efa",
          "pattern": {
           "shape": ""
          }
         },
         "name": "Hải Phòng",
         "offsetgroup": "Hải Phòng",
         "orientation": "v",
         "showlegend": true,
         "text": [
          7.69
         ],
         "textposition": "auto",
         "type": "bar",
         "x": [
          "Hải Phòng"
         ],
         "xaxis": "x",
         "y": [
          7.687661279369822
         ],
         "yaxis": "y"
        },
        {
         "alignmentgroup": "True",
         "hovertemplate": "color=Vĩnh Phúc<br>x=%{x}<br>y=%{y}<br>text=%{text}<extra></extra>",
         "legendgroup": "Vĩnh Phúc",
         "marker": {
          "color": "#EF553B",
          "pattern": {
           "shape": ""
          }
         },
         "name": "Vĩnh Phúc",
         "offsetgroup": "Vĩnh Phúc",
         "orientation": "v",
         "showlegend": true,
         "text": [
          7.44
         ],
         "textposition": "auto",
         "type": "bar",
         "x": [
          "Vĩnh Phúc"
         ],
         "xaxis": "x",
         "y": [
          7.436695639471186
         ],
         "yaxis": "y"
        },
        {
         "alignmentgroup": "True",
         "hovertemplate": "color=Hà Nam<br>x=%{x}<br>y=%{y}<br>text=%{text}<extra></extra>",
         "legendgroup": "Hà Nam",
         "marker": {
          "color": "#00cc96",
          "pattern": {
           "shape": ""
          }
         },
         "name": "Hà Nam",
         "offsetgroup": "Hà Nam",
         "orientation": "v",
         "showlegend": true,
         "text": [
          7.36
         ],
         "textposition": "auto",
         "type": "bar",
         "x": [
          "Hà Nam"
         ],
         "xaxis": "x",
         "y": [
          7.362562257885999
         ],
         "yaxis": "y"
        },
        {
         "alignmentgroup": "True",
         "hovertemplate": "color=Ninh Bình<br>x=%{x}<br>y=%{y}<br>text=%{text}<extra></extra>",
         "legendgroup": "Ninh Bình",
         "marker": {
          "color": "#ab63fa",
          "pattern": {
           "shape": ""
          }
         },
         "name": "Ninh Bình",
         "offsetgroup": "Ninh Bình",
         "orientation": "v",
         "showlegend": true,
         "text": [
          7.36
         ],
         "textposition": "auto",
         "type": "bar",
         "x": [
          "Ninh Bình"
         ],
         "xaxis": "x",
         "y": [
          7.356489104116223
         ],
         "yaxis": "y"
        },
        {
         "alignmentgroup": "True",
         "hovertemplate": "color=Hà Tĩnh<br>x=%{x}<br>y=%{y}<br>text=%{text}<extra></extra>",
         "legendgroup": "Hà Tĩnh",
         "marker": {
          "color": "#FFA15A",
          "pattern": {
           "shape": ""
          }
         },
         "name": "Hà Tĩnh",
         "offsetgroup": "Hà Tĩnh",
         "orientation": "v",
         "showlegend": true,
         "text": [
          7.34
         ],
         "textposition": "auto",
         "type": "bar",
         "x": [
          "Hà Tĩnh"
         ],
         "xaxis": "x",
         "y": [
          7.340900223292984
         ],
         "yaxis": "y"
        },
        {
         "alignmentgroup": "True",
         "hovertemplate": "color=Nam Định<br>x=%{x}<br>y=%{y}<br>text=%{text}<extra></extra>",
         "legendgroup": "Nam Định",
         "marker": {
          "color": "#19d3f3",
          "pattern": {
           "shape": ""
          }
         },
         "name": "Nam Định",
         "offsetgroup": "Nam Định",
         "orientation": "v",
         "showlegend": true,
         "text": [
          7.21
         ],
         "textposition": "auto",
         "type": "bar",
         "x": [
          "Nam Định"
         ],
         "xaxis": "x",
         "y": [
          7.214383279212412
         ],
         "yaxis": "y"
        },
        {
         "alignmentgroup": "True",
         "hovertemplate": "color=Nghệ An<br>x=%{x}<br>y=%{y}<br>text=%{text}<extra></extra>",
         "legendgroup": "Nghệ An",
         "marker": {
          "color": "#FF6692",
          "pattern": {
           "shape": ""
          }
         },
         "name": "Nghệ An",
         "offsetgroup": "Nghệ An",
         "orientation": "v",
         "showlegend": true,
         "text": [
          7.21
         ],
         "textposition": "auto",
         "type": "bar",
         "x": [
          "Nghệ An"
         ],
         "xaxis": "x",
         "y": [
          7.208493891894907
         ],
         "yaxis": "y"
        },
        {
         "alignmentgroup": "True",
         "hovertemplate": "color=Thanh Hoá<br>x=%{x}<br>y=%{y}<br>text=%{text}<extra></extra>",
         "legendgroup": "Thanh Hoá",
         "marker": {
          "color": "#B6E880",
          "pattern": {
           "shape": ""
          }
         },
         "name": "Thanh Hoá",
         "offsetgroup": "Thanh Hoá",
         "orientation": "v",
         "showlegend": true,
         "text": [
          7.18
         ],
         "textposition": "auto",
         "type": "bar",
         "x": [
          "Thanh Hoá"
         ],
         "xaxis": "x",
         "y": [
          7.181820450907511
         ],
         "yaxis": "y"
        },
        {
         "alignmentgroup": "True",
         "hovertemplate": "color=Bắc Ninh<br>x=%{x}<br>y=%{y}<br>text=%{text}<extra></extra>",
         "legendgroup": "Bắc Ninh",
         "marker": {
          "color": "#FF97FF",
          "pattern": {
           "shape": ""
          }
         },
         "name": "Bắc Ninh",
         "offsetgroup": "Bắc Ninh",
         "orientation": "v",
         "showlegend": true,
         "text": [
          7.08
         ],
         "textposition": "auto",
         "type": "bar",
         "x": [
          "Bắc Ninh"
         ],
         "xaxis": "x",
         "y": [
          7.083445083014048
         ],
         "yaxis": "y"
        },
        {
         "alignmentgroup": "True",
         "hovertemplate": "color=Bình Dương<br>x=%{x}<br>y=%{y}<br>text=%{text}<extra></extra>",
         "legendgroup": "Bình Dương",
         "marker": {
          "color": "#FECB52",
          "pattern": {
           "shape": ""
          }
         },
         "name": "Bình Dương",
         "offsetgroup": "Bình Dương",
         "orientation": "v",
         "showlegend": true,
         "text": [
          7.08
         ],
         "textposition": "auto",
         "type": "bar",
         "x": [
          "Bình Dương"
         ],
         "xaxis": "x",
         "y": [
          7.081905063291139
         ],
         "yaxis": "y"
        },
        {
         "alignmentgroup": "True",
         "hovertemplate": "color=Sơn La<br>x=%{x}<br>y=%{y}<br>text=%{text}<extra></extra>",
         "legendgroup": "Sơn La",
         "marker": {
          "color": "#636efa",
          "pattern": {
           "shape": ""
          }
         },
         "name": "Sơn La",
         "offsetgroup": "Sơn La",
         "orientation": "v",
         "showlegend": true,
         "text": [
          5.8
         ],
         "textposition": "auto",
         "type": "bar",
         "x": [
          "Sơn La"
         ],
         "xaxis": "x",
         "y": [
          5.79533160991264
         ],
         "yaxis": "y"
        },
        {
         "alignmentgroup": "True",
         "hovertemplate": "color=Trà Vinh<br>x=%{x}<br>y=%{y}<br>text=%{text}<extra></extra>",
         "legendgroup": "Trà Vinh",
         "marker": {
          "color": "#EF553B",
          "pattern": {
           "shape": ""
          }
         },
         "name": "Trà Vinh",
         "offsetgroup": "Trà Vinh",
         "orientation": "v",
         "showlegend": true,
         "text": [
          5.76
         ],
         "textposition": "auto",
         "type": "bar",
         "x": [
          "Trà Vinh"
         ],
         "xaxis": "x",
         "y": [
          5.759635917147128
         ],
         "yaxis": "y"
        },
        {
         "alignmentgroup": "True",
         "hovertemplate": "color=Hưng Yên<br>x=%{x}<br>y=%{y}<br>text=%{text}<extra></extra>",
         "legendgroup": "Hưng Yên",
         "marker": {
          "color": "#00cc96",
          "pattern": {
           "shape": ""
          }
         },
         "name": "Hưng Yên",
         "offsetgroup": "Hưng Yên",
         "orientation": "v",
         "showlegend": true,
         "text": [
          5.76
         ],
         "textposition": "auto",
         "type": "bar",
         "x": [
          "Hưng Yên"
         ],
         "xaxis": "x",
         "y": [
          5.759279636150235
         ],
         "yaxis": "y"
        },
        {
         "alignmentgroup": "True",
         "hovertemplate": "color=Cao Bằng<br>x=%{x}<br>y=%{y}<br>text=%{text}<extra></extra>",
         "legendgroup": "Cao Bằng",
         "marker": {
          "color": "#ab63fa",
          "pattern": {
           "shape": ""
          }
         },
         "name": "Cao Bằng",
         "offsetgroup": "Cao Bằng",
         "orientation": "v",
         "showlegend": true,
         "text": [
          5.74
         ],
         "textposition": "auto",
         "type": "bar",
         "x": [
          "Cao Bằng"
         ],
         "xaxis": "x",
         "y": [
          5.735427704752275
         ],
         "yaxis": "y"
        },
        {
         "alignmentgroup": "True",
         "hovertemplate": "color=Quảng Trị<br>x=%{x}<br>y=%{y}<br>text=%{text}<extra></extra>",
         "legendgroup": "Quảng Trị",
         "marker": {
          "color": "#FFA15A",
          "pattern": {
           "shape": ""
          }
         },
         "name": "Quảng Trị",
         "offsetgroup": "Quảng Trị",
         "orientation": "v",
         "showlegend": true,
         "text": [
          5.6
         ],
         "textposition": "auto",
         "type": "bar",
         "x": [
          "Quảng Trị"
         ],
         "xaxis": "x",
         "y": [
          5.602258255414842
         ],
         "yaxis": "y"
        },
        {
         "alignmentgroup": "True",
         "hovertemplate": "color=Phú Yên<br>x=%{x}<br>y=%{y}<br>text=%{text}<extra></extra>",
         "legendgroup": "Phú Yên",
         "marker": {
          "color": "#19d3f3",
          "pattern": {
           "shape": ""
          }
         },
         "name": "Phú Yên",
         "offsetgroup": "Phú Yên",
         "orientation": "v",
         "showlegend": true,
         "text": [
          5.57
         ],
         "textposition": "auto",
         "type": "bar",
         "x": [
          "Phú Yên"
         ],
         "xaxis": "x",
         "y": [
          5.568154346815435
         ],
         "yaxis": "y"
        },
        {
         "alignmentgroup": "True",
         "hovertemplate": "color=Đăk Nông<br>x=%{x}<br>y=%{y}<br>text=%{text}<extra></extra>",
         "legendgroup": "Đăk Nông",
         "marker": {
          "color": "#FF6692",
          "pattern": {
           "shape": ""
          }
         },
         "name": "Đăk Nông",
         "offsetgroup": "Đăk Nông",
         "orientation": "v",
         "showlegend": true,
         "text": [
          5.41
         ],
         "textposition": "auto",
         "type": "bar",
         "x": [
          "Đăk Nông"
         ],
         "xaxis": "x",
         "y": [
          5.40585623050646
         ],
         "yaxis": "y"
        },
        {
         "alignmentgroup": "True",
         "hovertemplate": "color=Kon Tum<br>x=%{x}<br>y=%{y}<br>text=%{text}<extra></extra>",
         "legendgroup": "Kon Tum",
         "marker": {
          "color": "#B6E880",
          "pattern": {
           "shape": ""
          }
         },
         "name": "Kon Tum",
         "offsetgroup": "Kon Tum",
         "orientation": "v",
         "showlegend": true,
         "text": [
          5.37
         ],
         "textposition": "auto",
         "type": "bar",
         "x": [
          "Kon Tum"
         ],
         "xaxis": "x",
         "y": [
          5.373183673469387
         ],
         "yaxis": "y"
        },
        {
         "alignmentgroup": "True",
         "hovertemplate": "color=Hà Giang<br>x=%{x}<br>y=%{y}<br>text=%{text}<extra></extra>",
         "legendgroup": "Hà Giang",
         "marker": {
          "color": "#FF97FF",
          "pattern": {
           "shape": ""
          }
         },
         "name": "Hà Giang",
         "offsetgroup": "Hà Giang",
         "orientation": "v",
         "showlegend": true,
         "text": [
          5.25
         ],
         "textposition": "auto",
         "type": "bar",
         "x": [
          "Hà Giang"
         ],
         "xaxis": "x",
         "y": [
          5.252194870029265
         ],
         "yaxis": "y"
        },
        {
         "alignmentgroup": "True",
         "hovertemplate": "color=Lai Châu<br>x=%{x}<br>y=%{y}<br>text=%{text}<extra></extra>",
         "legendgroup": "Lai Châu",
         "marker": {
          "color": "#FECB52",
          "pattern": {
           "shape": ""
          }
         },
         "name": "Lai Châu",
         "offsetgroup": "Lai Châu",
         "orientation": "v",
         "showlegend": true,
         "text": [
          5.04
         ],
         "textposition": "auto",
         "type": "bar",
         "x": [
          "Lai Châu"
         ],
         "xaxis": "x",
         "y": [
          5.039666114790287
         ],
         "yaxis": "y"
        }
       ],
       "layout": {
        "barmode": "relative",
        "legend": {
         "title": {
          "text": "color"
         },
         "tracegroupgap": 0
        },
        "margin": {
         "t": 60
        },
        "showlegend": false,
        "template": {
         "data": {
          "bar": [
           {
            "error_x": {
             "color": "#2a3f5f"
            },
            "error_y": {
             "color": "#2a3f5f"
            },
            "marker": {
             "line": {
              "color": "#E5ECF6",
              "width": 0.5
             },
             "pattern": {
              "fillmode": "overlay",
              "size": 10,
              "solidity": 0.2
             }
            },
            "type": "bar"
           }
          ],
          "barpolar": [
           {
            "marker": {
             "line": {
              "color": "#E5ECF6",
              "width": 0.5
             },
             "pattern": {
              "fillmode": "overlay",
              "size": 10,
              "solidity": 0.2
             }
            },
            "type": "barpolar"
           }
          ],
          "carpet": [
           {
            "aaxis": {
             "endlinecolor": "#2a3f5f",
             "gridcolor": "white",
             "linecolor": "white",
             "minorgridcolor": "white",
             "startlinecolor": "#2a3f5f"
            },
            "baxis": {
             "endlinecolor": "#2a3f5f",
             "gridcolor": "white",
             "linecolor": "white",
             "minorgridcolor": "white",
             "startlinecolor": "#2a3f5f"
            },
            "type": "carpet"
           }
          ],
          "choropleth": [
           {
            "colorbar": {
             "outlinewidth": 0,
             "ticks": ""
            },
            "type": "choropleth"
           }
          ],
          "contour": [
           {
            "colorbar": {
             "outlinewidth": 0,
             "ticks": ""
            },
            "colorscale": [
             [
              0,
              "#0d0887"
             ],
             [
              0.1111111111111111,
              "#46039f"
             ],
             [
              0.2222222222222222,
              "#7201a8"
             ],
             [
              0.3333333333333333,
              "#9c179e"
             ],
             [
              0.4444444444444444,
              "#bd3786"
             ],
             [
              0.5555555555555556,
              "#d8576b"
             ],
             [
              0.6666666666666666,
              "#ed7953"
             ],
             [
              0.7777777777777778,
              "#fb9f3a"
             ],
             [
              0.8888888888888888,
              "#fdca26"
             ],
             [
              1,
              "#f0f921"
             ]
            ],
            "type": "contour"
           }
          ],
          "contourcarpet": [
           {
            "colorbar": {
             "outlinewidth": 0,
             "ticks": ""
            },
            "type": "contourcarpet"
           }
          ],
          "heatmap": [
           {
            "colorbar": {
             "outlinewidth": 0,
             "ticks": ""
            },
            "colorscale": [
             [
              0,
              "#0d0887"
             ],
             [
              0.1111111111111111,
              "#46039f"
             ],
             [
              0.2222222222222222,
              "#7201a8"
             ],
             [
              0.3333333333333333,
              "#9c179e"
             ],
             [
              0.4444444444444444,
              "#bd3786"
             ],
             [
              0.5555555555555556,
              "#d8576b"
             ],
             [
              0.6666666666666666,
              "#ed7953"
             ],
             [
              0.7777777777777778,
              "#fb9f3a"
             ],
             [
              0.8888888888888888,
              "#fdca26"
             ],
             [
              1,
              "#f0f921"
             ]
            ],
            "type": "heatmap"
           }
          ],
          "heatmapgl": [
           {
            "colorbar": {
             "outlinewidth": 0,
             "ticks": ""
            },
            "colorscale": [
             [
              0,
              "#0d0887"
             ],
             [
              0.1111111111111111,
              "#46039f"
             ],
             [
              0.2222222222222222,
              "#7201a8"
             ],
             [
              0.3333333333333333,
              "#9c179e"
             ],
             [
              0.4444444444444444,
              "#bd3786"
             ],
             [
              0.5555555555555556,
              "#d8576b"
             ],
             [
              0.6666666666666666,
              "#ed7953"
             ],
             [
              0.7777777777777778,
              "#fb9f3a"
             ],
             [
              0.8888888888888888,
              "#fdca26"
             ],
             [
              1,
              "#f0f921"
             ]
            ],
            "type": "heatmapgl"
           }
          ],
          "histogram": [
           {
            "marker": {
             "pattern": {
              "fillmode": "overlay",
              "size": 10,
              "solidity": 0.2
             }
            },
            "type": "histogram"
           }
          ],
          "histogram2d": [
           {
            "colorbar": {
             "outlinewidth": 0,
             "ticks": ""
            },
            "colorscale": [
             [
              0,
              "#0d0887"
             ],
             [
              0.1111111111111111,
              "#46039f"
             ],
             [
              0.2222222222222222,
              "#7201a8"
             ],
             [
              0.3333333333333333,
              "#9c179e"
             ],
             [
              0.4444444444444444,
              "#bd3786"
             ],
             [
              0.5555555555555556,
              "#d8576b"
             ],
             [
              0.6666666666666666,
              "#ed7953"
             ],
             [
              0.7777777777777778,
              "#fb9f3a"
             ],
             [
              0.8888888888888888,
              "#fdca26"
             ],
             [
              1,
              "#f0f921"
             ]
            ],
            "type": "histogram2d"
           }
          ],
          "histogram2dcontour": [
           {
            "colorbar": {
             "outlinewidth": 0,
             "ticks": ""
            },
            "colorscale": [
             [
              0,
              "#0d0887"
             ],
             [
              0.1111111111111111,
              "#46039f"
             ],
             [
              0.2222222222222222,
              "#7201a8"
             ],
             [
              0.3333333333333333,
              "#9c179e"
             ],
             [
              0.4444444444444444,
              "#bd3786"
             ],
             [
              0.5555555555555556,
              "#d8576b"
             ],
             [
              0.6666666666666666,
              "#ed7953"
             ],
             [
              0.7777777777777778,
              "#fb9f3a"
             ],
             [
              0.8888888888888888,
              "#fdca26"
             ],
             [
              1,
              "#f0f921"
             ]
            ],
            "type": "histogram2dcontour"
           }
          ],
          "mesh3d": [
           {
            "colorbar": {
             "outlinewidth": 0,
             "ticks": ""
            },
            "type": "mesh3d"
           }
          ],
          "parcoords": [
           {
            "line": {
             "colorbar": {
              "outlinewidth": 0,
              "ticks": ""
             }
            },
            "type": "parcoords"
           }
          ],
          "pie": [
           {
            "automargin": true,
            "type": "pie"
           }
          ],
          "scatter": [
           {
            "fillpattern": {
             "fillmode": "overlay",
             "size": 10,
             "solidity": 0.2
            },
            "type": "scatter"
           }
          ],
          "scatter3d": [
           {
            "line": {
             "colorbar": {
              "outlinewidth": 0,
              "ticks": ""
             }
            },
            "marker": {
             "colorbar": {
              "outlinewidth": 0,
              "ticks": ""
             }
            },
            "type": "scatter3d"
           }
          ],
          "scattercarpet": [
           {
            "marker": {
             "colorbar": {
              "outlinewidth": 0,
              "ticks": ""
             }
            },
            "type": "scattercarpet"
           }
          ],
          "scattergeo": [
           {
            "marker": {
             "colorbar": {
              "outlinewidth": 0,
              "ticks": ""
             }
            },
            "type": "scattergeo"
           }
          ],
          "scattergl": [
           {
            "marker": {
             "colorbar": {
              "outlinewidth": 0,
              "ticks": ""
             }
            },
            "type": "scattergl"
           }
          ],
          "scattermapbox": [
           {
            "marker": {
             "colorbar": {
              "outlinewidth": 0,
              "ticks": ""
             }
            },
            "type": "scattermapbox"
           }
          ],
          "scatterpolar": [
           {
            "marker": {
             "colorbar": {
              "outlinewidth": 0,
              "ticks": ""
             }
            },
            "type": "scatterpolar"
           }
          ],
          "scatterpolargl": [
           {
            "marker": {
             "colorbar": {
              "outlinewidth": 0,
              "ticks": ""
             }
            },
            "type": "scatterpolargl"
           }
          ],
          "scatterternary": [
           {
            "marker": {
             "colorbar": {
              "outlinewidth": 0,
              "ticks": ""
             }
            },
            "type": "scatterternary"
           }
          ],
          "surface": [
           {
            "colorbar": {
             "outlinewidth": 0,
             "ticks": ""
            },
            "colorscale": [
             [
              0,
              "#0d0887"
             ],
             [
              0.1111111111111111,
              "#46039f"
             ],
             [
              0.2222222222222222,
              "#7201a8"
             ],
             [
              0.3333333333333333,
              "#9c179e"
             ],
             [
              0.4444444444444444,
              "#bd3786"
             ],
             [
              0.5555555555555556,
              "#d8576b"
             ],
             [
              0.6666666666666666,
              "#ed7953"
             ],
             [
              0.7777777777777778,
              "#fb9f3a"
             ],
             [
              0.8888888888888888,
              "#fdca26"
             ],
             [
              1,
              "#f0f921"
             ]
            ],
            "type": "surface"
           }
          ],
          "table": [
           {
            "cells": {
             "fill": {
              "color": "#EBF0F8"
             },
             "line": {
              "color": "white"
             }
            },
            "header": {
             "fill": {
              "color": "#C8D4E3"
             },
             "line": {
              "color": "white"
             }
            },
            "type": "table"
           }
          ]
         },
         "layout": {
          "annotationdefaults": {
           "arrowcolor": "#2a3f5f",
           "arrowhead": 0,
           "arrowwidth": 1
          },
          "autotypenumbers": "strict",
          "coloraxis": {
           "colorbar": {
            "outlinewidth": 0,
            "ticks": ""
           }
          },
          "colorscale": {
           "diverging": [
            [
             0,
             "#8e0152"
            ],
            [
             0.1,
             "#c51b7d"
            ],
            [
             0.2,
             "#de77ae"
            ],
            [
             0.3,
             "#f1b6da"
            ],
            [
             0.4,
             "#fde0ef"
            ],
            [
             0.5,
             "#f7f7f7"
            ],
            [
             0.6,
             "#e6f5d0"
            ],
            [
             0.7,
             "#b8e186"
            ],
            [
             0.8,
             "#7fbc41"
            ],
            [
             0.9,
             "#4d9221"
            ],
            [
             1,
             "#276419"
            ]
           ],
           "sequential": [
            [
             0,
             "#0d0887"
            ],
            [
             0.1111111111111111,
             "#46039f"
            ],
            [
             0.2222222222222222,
             "#7201a8"
            ],
            [
             0.3333333333333333,
             "#9c179e"
            ],
            [
             0.4444444444444444,
             "#bd3786"
            ],
            [
             0.5555555555555556,
             "#d8576b"
            ],
            [
             0.6666666666666666,
             "#ed7953"
            ],
            [
             0.7777777777777778,
             "#fb9f3a"
            ],
            [
             0.8888888888888888,
             "#fdca26"
            ],
            [
             1,
             "#f0f921"
            ]
           ],
           "sequentialminus": [
            [
             0,
             "#0d0887"
            ],
            [
             0.1111111111111111,
             "#46039f"
            ],
            [
             0.2222222222222222,
             "#7201a8"
            ],
            [
             0.3333333333333333,
             "#9c179e"
            ],
            [
             0.4444444444444444,
             "#bd3786"
            ],
            [
             0.5555555555555556,
             "#d8576b"
            ],
            [
             0.6666666666666666,
             "#ed7953"
            ],
            [
             0.7777777777777778,
             "#fb9f3a"
            ],
            [
             0.8888888888888888,
             "#fdca26"
            ],
            [
             1,
             "#f0f921"
            ]
           ]
          },
          "colorway": [
           "#636efa",
           "#EF553B",
           "#00cc96",
           "#ab63fa",
           "#FFA15A",
           "#19d3f3",
           "#FF6692",
           "#B6E880",
           "#FF97FF",
           "#FECB52"
          ],
          "font": {
           "color": "#2a3f5f"
          },
          "geo": {
           "bgcolor": "white",
           "lakecolor": "white",
           "landcolor": "#E5ECF6",
           "showlakes": true,
           "showland": true,
           "subunitcolor": "white"
          },
          "hoverlabel": {
           "align": "left"
          },
          "hovermode": "closest",
          "mapbox": {
           "style": "light"
          },
          "paper_bgcolor": "white",
          "plot_bgcolor": "#E5ECF6",
          "polar": {
           "angularaxis": {
            "gridcolor": "white",
            "linecolor": "white",
            "ticks": ""
           },
           "bgcolor": "#E5ECF6",
           "radialaxis": {
            "gridcolor": "white",
            "linecolor": "white",
            "ticks": ""
           }
          },
          "scene": {
           "xaxis": {
            "backgroundcolor": "#E5ECF6",
            "gridcolor": "white",
            "gridwidth": 2,
            "linecolor": "white",
            "showbackground": true,
            "ticks": "",
            "zerolinecolor": "white"
           },
           "yaxis": {
            "backgroundcolor": "#E5ECF6",
            "gridcolor": "white",
            "gridwidth": 2,
            "linecolor": "white",
            "showbackground": true,
            "ticks": "",
            "zerolinecolor": "white"
           },
           "zaxis": {
            "backgroundcolor": "#E5ECF6",
            "gridcolor": "white",
            "gridwidth": 2,
            "linecolor": "white",
            "showbackground": true,
            "ticks": "",
            "zerolinecolor": "white"
           }
          },
          "shapedefaults": {
           "line": {
            "color": "#2a3f5f"
           }
          },
          "ternary": {
           "aaxis": {
            "gridcolor": "white",
            "linecolor": "white",
            "ticks": ""
           },
           "baxis": {
            "gridcolor": "white",
            "linecolor": "white",
            "ticks": ""
           },
           "bgcolor": "#E5ECF6",
           "caxis": {
            "gridcolor": "white",
            "linecolor": "white",
            "ticks": ""
           }
          },
          "title": {
           "x": 0.05
          },
          "xaxis": {
           "automargin": true,
           "gridcolor": "white",
           "linecolor": "white",
           "ticks": "",
           "title": {
            "standoff": 15
           },
           "zerolinecolor": "white",
           "zerolinewidth": 2
          },
          "yaxis": {
           "automargin": true,
           "gridcolor": "white",
           "linecolor": "white",
           "ticks": "",
           "title": {
            "standoff": 15
           },
           "zerolinecolor": "white",
           "zerolinewidth": 2
          }
         }
        },
        "title": {
         "text": "Top 10 province with the highest and lowest average in literature"
        },
        "xaxis": {
         "anchor": "y",
         "domain": [
          0,
          1
         ],
         "title": {
          "text": "Province"
         }
        },
        "yaxis": {
         "anchor": "x",
         "domain": [
          0,
          1
         ],
         "title": {
          "text": "Average score"
         }
        }
       }
      }
     },
     "metadata": {},
     "output_type": "display_data"
    }
   ],
   "source": [
    "top10van = val.nlargest(10, \"ngu_van\")[\"ngu_van\"]\n",
    "meomeo = val.nsmallest(10, \"ngu_van\")[\"ngu_van\"]\n",
    "top10van = top10van.append(meomeo[::-1])\n",
    "top10van\n",
    "hoi_dong = [prov[i-1] for i in top10van.index]\n",
    "fig = px.bar(x=hoi_dong, y=top10van.values, color=hoi_dong, text=top10van.values.round(2))\n",
    "fig.update_layout(title=\"Top 10 province with the highest and lowest average in literature\", xaxis_title=\"Province\",yaxis_title=\"Average score\",showlegend=False)"
   ]
  },
  {
   "cell_type": "code",
   "execution_count": 308,
   "metadata": {},
   "outputs": [
    {
     "name": "stderr",
     "output_type": "stream",
     "text": [
      "C:\\Users\\DELL\\AppData\\Local\\Temp\\ipykernel_22456\\1938207106.py:4: FutureWarning:\n",
      "\n",
      "The series.append method is deprecated and will be removed from pandas in a future version. Use pandas.concat instead.\n",
      "\n"
     ]
    },
    {
     "data": {
      "application/vnd.plotly.v1+json": {
       "config": {
        "plotlyServerURL": "https://plot.ly"
       },
       "data": [
        {
         "alignmentgroup": "True",
         "hovertemplate": "color=Bình Dương<br>x=%{x}<br>y=%{y}<br>text=%{text}<extra></extra>",
         "legendgroup": "Bình Dương",
         "marker": {
          "color": "#636efa",
          "pattern": {
           "shape": ""
          }
         },
         "name": "Bình Dương",
         "offsetgroup": "Bình Dương",
         "orientation": "v",
         "showlegend": true,
         "text": [
          6.96
         ],
         "textposition": "auto",
         "type": "bar",
         "x": [
          "Bình Dương"
         ],
         "xaxis": "x",
         "y": [
          6.963460185981089
         ],
         "yaxis": "y"
        },
        {
         "alignmentgroup": "True",
         "hovertemplate": "color=TP. Hồ Chí Minh<br>x=%{x}<br>y=%{y}<br>text=%{text}<extra></extra>",
         "legendgroup": "TP. Hồ Chí Minh",
         "marker": {
          "color": "#EF553B",
          "pattern": {
           "shape": ""
          }
         },
         "name": "TP. Hồ Chí Minh",
         "offsetgroup": "TP. Hồ Chí Minh",
         "orientation": "v",
         "showlegend": true,
         "text": [
          6.88
         ],
         "textposition": "auto",
         "type": "bar",
         "x": [
          "TP. Hồ Chí Minh"
         ],
         "xaxis": "x",
         "y": [
          6.879795735022932
         ],
         "yaxis": "y"
        },
        {
         "alignmentgroup": "True",
         "hovertemplate": "color=Vĩnh Phúc<br>x=%{x}<br>y=%{y}<br>text=%{text}<extra></extra>",
         "legendgroup": "Vĩnh Phúc",
         "marker": {
          "color": "#00cc96",
          "pattern": {
           "shape": ""
          }
         },
         "name": "Vĩnh Phúc",
         "offsetgroup": "Vĩnh Phúc",
         "orientation": "v",
         "showlegend": true,
         "text": [
          6.74
         ],
         "textposition": "auto",
         "type": "bar",
         "x": [
          "Vĩnh Phúc"
         ],
         "xaxis": "x",
         "y": [
          6.743934260794349
         ],
         "yaxis": "y"
        },
        {
         "alignmentgroup": "True",
         "hovertemplate": "color=Hà Nội<br>x=%{x}<br>y=%{y}<br>text=%{text}<extra></extra>",
         "legendgroup": "Hà Nội",
         "marker": {
          "color": "#ab63fa",
          "pattern": {
           "shape": ""
          }
         },
         "name": "Hà Nội",
         "offsetgroup": "Hà Nội",
         "orientation": "v",
         "showlegend": true,
         "text": [
          6.48
         ],
         "textposition": "auto",
         "type": "bar",
         "x": [
          "Hà Nội"
         ],
         "xaxis": "x",
         "y": [
          6.477440118833942
         ],
         "yaxis": "y"
        },
        {
         "alignmentgroup": "True",
         "hovertemplate": "color=Bà Rịa-Vũng Tàu<br>x=%{x}<br>y=%{y}<br>text=%{text}<extra></extra>",
         "legendgroup": "Bà Rịa-Vũng Tàu",
         "marker": {
          "color": "#FFA15A",
          "pattern": {
           "shape": ""
          }
         },
         "name": "Bà Rịa-Vũng Tàu",
         "offsetgroup": "Bà Rịa-Vũng Tàu",
         "orientation": "v",
         "showlegend": true,
         "text": [
          6.33
         ],
         "textposition": "auto",
         "type": "bar",
         "x": [
          "Bà Rịa-Vũng Tàu"
         ],
         "xaxis": "x",
         "y": [
          6.333212226522392
         ],
         "yaxis": "y"
        },
        {
         "alignmentgroup": "True",
         "hovertemplate": "color=Đà Nẵng<br>x=%{x}<br>y=%{y}<br>text=%{text}<extra></extra>",
         "legendgroup": "Đà Nẵng",
         "marker": {
          "color": "#19d3f3",
          "pattern": {
           "shape": ""
          }
         },
         "name": "Đà Nẵng",
         "offsetgroup": "Đà Nẵng",
         "orientation": "v",
         "showlegend": true,
         "text": [
          6.28
         ],
         "textposition": "auto",
         "type": "bar",
         "x": [
          "Đà Nẵng"
         ],
         "xaxis": "x",
         "y": [
          6.284564612326044
         ],
         "yaxis": "y"
        },
        {
         "alignmentgroup": "True",
         "hovertemplate": "color=Đồng Nai<br>x=%{x}<br>y=%{y}<br>text=%{text}<extra></extra>",
         "legendgroup": "Đồng Nai",
         "marker": {
          "color": "#FF6692",
          "pattern": {
           "shape": ""
          }
         },
         "name": "Đồng Nai",
         "offsetgroup": "Đồng Nai",
         "orientation": "v",
         "showlegend": true,
         "text": [
          6.27
         ],
         "textposition": "auto",
         "type": "bar",
         "x": [
          "Đồng Nai"
         ],
         "xaxis": "x",
         "y": [
          6.270216497146318
         ],
         "yaxis": "y"
        },
        {
         "alignmentgroup": "True",
         "hovertemplate": "color=Hải Phòng<br>x=%{x}<br>y=%{y}<br>text=%{text}<extra></extra>",
         "legendgroup": "Hải Phòng",
         "marker": {
          "color": "#B6E880",
          "pattern": {
           "shape": ""
          }
         },
         "name": "Hải Phòng",
         "offsetgroup": "Hải Phòng",
         "orientation": "v",
         "showlegend": true,
         "text": [
          6.26
         ],
         "textposition": "auto",
         "type": "bar",
         "x": [
          "Hải Phòng"
         ],
         "xaxis": "x",
         "y": [
          6.2596365909192375
         ],
         "yaxis": "y"
        },
        {
         "alignmentgroup": "True",
         "hovertemplate": "color=Quảng Ninh<br>x=%{x}<br>y=%{y}<br>text=%{text}<extra></extra>",
         "legendgroup": "Quảng Ninh",
         "marker": {
          "color": "#FF97FF",
          "pattern": {
           "shape": ""
          }
         },
         "name": "Quảng Ninh",
         "offsetgroup": "Quảng Ninh",
         "orientation": "v",
         "showlegend": true,
         "text": [
          6.14
         ],
         "textposition": "auto",
         "type": "bar",
         "x": [
          "Quảng Ninh"
         ],
         "xaxis": "x",
         "y": [
          6.137301587301587
         ],
         "yaxis": "y"
        },
        {
         "alignmentgroup": "True",
         "hovertemplate": "color=Nam Định<br>x=%{x}<br>y=%{y}<br>text=%{text}<extra></extra>",
         "legendgroup": "Nam Định",
         "marker": {
          "color": "#FECB52",
          "pattern": {
           "shape": ""
          }
         },
         "name": "Nam Định",
         "offsetgroup": "Nam Định",
         "orientation": "v",
         "showlegend": true,
         "text": [
          6.13
         ],
         "textposition": "auto",
         "type": "bar",
         "x": [
          "Nam Định"
         ],
         "xaxis": "x",
         "y": [
          6.131175072082553
         ],
         "yaxis": "y"
        },
        {
         "alignmentgroup": "True",
         "hovertemplate": "color=Gia Lai<br>x=%{x}<br>y=%{y}<br>text=%{text}<extra></extra>",
         "legendgroup": "Gia Lai",
         "marker": {
          "color": "#636efa",
          "pattern": {
           "shape": ""
          }
         },
         "name": "Gia Lai",
         "offsetgroup": "Gia Lai",
         "orientation": "v",
         "showlegend": true,
         "text": [
          4.95
         ],
         "textposition": "auto",
         "type": "bar",
         "x": [
          "Gia Lai"
         ],
         "xaxis": "x",
         "y": [
          4.946770870337478
         ],
         "yaxis": "y"
        },
        {
         "alignmentgroup": "True",
         "hovertemplate": "color=Phú Yên<br>x=%{x}<br>y=%{y}<br>text=%{text}<extra></extra>",
         "legendgroup": "Phú Yên",
         "marker": {
          "color": "#EF553B",
          "pattern": {
           "shape": ""
          }
         },
         "name": "Phú Yên",
         "offsetgroup": "Phú Yên",
         "orientation": "v",
         "showlegend": true,
         "text": [
          4.93
         ],
         "textposition": "auto",
         "type": "bar",
         "x": [
          "Phú Yên"
         ],
         "xaxis": "x",
         "y": [
          4.9335111274599965
         ],
         "yaxis": "y"
        },
        {
         "alignmentgroup": "True",
         "hovertemplate": "color=Đắk Lắk<br>x=%{x}<br>y=%{y}<br>text=%{text}<extra></extra>",
         "legendgroup": "Đắk Lắk",
         "marker": {
          "color": "#00cc96",
          "pattern": {
           "shape": ""
          }
         },
         "name": "Đắk Lắk",
         "offsetgroup": "Đắk Lắk",
         "orientation": "v",
         "showlegend": true,
         "text": [
          4.91
         ],
         "textposition": "auto",
         "type": "bar",
         "x": [
          "Đắk Lắk"
         ],
         "xaxis": "x",
         "y": [
          4.909701199135051
         ],
         "yaxis": "y"
        },
        {
         "alignmentgroup": "True",
         "hovertemplate": "color=Điện Biên<br>x=%{x}<br>y=%{y}<br>text=%{text}<extra></extra>",
         "legendgroup": "Điện Biên",
         "marker": {
          "color": "#ab63fa",
          "pattern": {
           "shape": ""
          }
         },
         "name": "Điện Biên",
         "offsetgroup": "Điện Biên",
         "orientation": "v",
         "showlegend": true,
         "text": [
          4.87
         ],
         "textposition": "auto",
         "type": "bar",
         "x": [
          "Điện Biên"
         ],
         "xaxis": "x",
         "y": [
          4.867955714953999
         ],
         "yaxis": "y"
        },
        {
         "alignmentgroup": "True",
         "hovertemplate": "color=Sóc Trăng<br>x=%{x}<br>y=%{y}<br>text=%{text}<extra></extra>",
         "legendgroup": "Sóc Trăng",
         "marker": {
          "color": "#FFA15A",
          "pattern": {
           "shape": ""
          }
         },
         "name": "Sóc Trăng",
         "offsetgroup": "Sóc Trăng",
         "orientation": "v",
         "showlegend": true,
         "text": [
          4.87
         ],
         "textposition": "auto",
         "type": "bar",
         "x": [
          "Sóc Trăng"
         ],
         "xaxis": "x",
         "y": [
          4.866379569354032
         ],
         "yaxis": "y"
        },
        {
         "alignmentgroup": "True",
         "hovertemplate": "color=Cà Mau<br>x=%{x}<br>y=%{y}<br>text=%{text}<extra></extra>",
         "legendgroup": "Cà Mau",
         "marker": {
          "color": "#19d3f3",
          "pattern": {
           "shape": ""
          }
         },
         "name": "Cà Mau",
         "offsetgroup": "Cà Mau",
         "orientation": "v",
         "showlegend": true,
         "text": [
          4.65
         ],
         "textposition": "auto",
         "type": "bar",
         "x": [
          "Cà Mau"
         ],
         "xaxis": "x",
         "y": [
          4.651851851851852
         ],
         "yaxis": "y"
        },
        {
         "alignmentgroup": "True",
         "hovertemplate": "color=Trà Vinh<br>x=%{x}<br>y=%{y}<br>text=%{text}<extra></extra>",
         "legendgroup": "Trà Vinh",
         "marker": {
          "color": "#FF6692",
          "pattern": {
           "shape": ""
          }
         },
         "name": "Trà Vinh",
         "offsetgroup": "Trà Vinh",
         "orientation": "v",
         "showlegend": true,
         "text": [
          4.65
         ],
         "textposition": "auto",
         "type": "bar",
         "x": [
          "Trà Vinh"
         ],
         "xaxis": "x",
         "y": [
          4.6468660818095335
         ],
         "yaxis": "y"
        },
        {
         "alignmentgroup": "True",
         "hovertemplate": "color=Đăk Nông<br>x=%{x}<br>y=%{y}<br>text=%{text}<extra></extra>",
         "legendgroup": "Đăk Nông",
         "marker": {
          "color": "#B6E880",
          "pattern": {
           "shape": ""
          }
         },
         "name": "Đăk Nông",
         "offsetgroup": "Đăk Nông",
         "orientation": "v",
         "showlegend": true,
         "text": [
          4.52
         ],
         "textposition": "auto",
         "type": "bar",
         "x": [
          "Đăk Nông"
         ],
         "xaxis": "x",
         "y": [
          4.523146526561588
         ],
         "yaxis": "y"
        },
        {
         "alignmentgroup": "True",
         "hovertemplate": "color=Hà Giang<br>x=%{x}<br>y=%{y}<br>text=%{text}<extra></extra>",
         "legendgroup": "Hà Giang",
         "marker": {
          "color": "#FF97FF",
          "pattern": {
           "shape": ""
          }
         },
         "name": "Hà Giang",
         "offsetgroup": "Hà Giang",
         "orientation": "v",
         "showlegend": true,
         "text": [
          4.47
         ],
         "textposition": "auto",
         "type": "bar",
         "x": [
          "Hà Giang"
         ],
         "xaxis": "x",
         "y": [
          4.468770254136108
         ],
         "yaxis": "y"
        },
        {
         "alignmentgroup": "True",
         "hovertemplate": "color=Hậu Giang<br>x=%{x}<br>y=%{y}<br>text=%{text}<extra></extra>",
         "legendgroup": "Hậu Giang",
         "marker": {
          "color": "#FECB52",
          "pattern": {
           "shape": ""
          }
         },
         "name": "Hậu Giang",
         "offsetgroup": "Hậu Giang",
         "orientation": "v",
         "showlegend": true,
         "text": [
          4.43
         ],
         "textposition": "auto",
         "type": "bar",
         "x": [
          "Hậu Giang"
         ],
         "xaxis": "x",
         "y": [
          4.4251030691708655
         ],
         "yaxis": "y"
        }
       ],
       "layout": {
        "barmode": "relative",
        "legend": {
         "title": {
          "text": "color"
         },
         "tracegroupgap": 0
        },
        "margin": {
         "t": 60
        },
        "showlegend": false,
        "template": {
         "data": {
          "bar": [
           {
            "error_x": {
             "color": "#2a3f5f"
            },
            "error_y": {
             "color": "#2a3f5f"
            },
            "marker": {
             "line": {
              "color": "#E5ECF6",
              "width": 0.5
             },
             "pattern": {
              "fillmode": "overlay",
              "size": 10,
              "solidity": 0.2
             }
            },
            "type": "bar"
           }
          ],
          "barpolar": [
           {
            "marker": {
             "line": {
              "color": "#E5ECF6",
              "width": 0.5
             },
             "pattern": {
              "fillmode": "overlay",
              "size": 10,
              "solidity": 0.2
             }
            },
            "type": "barpolar"
           }
          ],
          "carpet": [
           {
            "aaxis": {
             "endlinecolor": "#2a3f5f",
             "gridcolor": "white",
             "linecolor": "white",
             "minorgridcolor": "white",
             "startlinecolor": "#2a3f5f"
            },
            "baxis": {
             "endlinecolor": "#2a3f5f",
             "gridcolor": "white",
             "linecolor": "white",
             "minorgridcolor": "white",
             "startlinecolor": "#2a3f5f"
            },
            "type": "carpet"
           }
          ],
          "choropleth": [
           {
            "colorbar": {
             "outlinewidth": 0,
             "ticks": ""
            },
            "type": "choropleth"
           }
          ],
          "contour": [
           {
            "colorbar": {
             "outlinewidth": 0,
             "ticks": ""
            },
            "colorscale": [
             [
              0,
              "#0d0887"
             ],
             [
              0.1111111111111111,
              "#46039f"
             ],
             [
              0.2222222222222222,
              "#7201a8"
             ],
             [
              0.3333333333333333,
              "#9c179e"
             ],
             [
              0.4444444444444444,
              "#bd3786"
             ],
             [
              0.5555555555555556,
              "#d8576b"
             ],
             [
              0.6666666666666666,
              "#ed7953"
             ],
             [
              0.7777777777777778,
              "#fb9f3a"
             ],
             [
              0.8888888888888888,
              "#fdca26"
             ],
             [
              1,
              "#f0f921"
             ]
            ],
            "type": "contour"
           }
          ],
          "contourcarpet": [
           {
            "colorbar": {
             "outlinewidth": 0,
             "ticks": ""
            },
            "type": "contourcarpet"
           }
          ],
          "heatmap": [
           {
            "colorbar": {
             "outlinewidth": 0,
             "ticks": ""
            },
            "colorscale": [
             [
              0,
              "#0d0887"
             ],
             [
              0.1111111111111111,
              "#46039f"
             ],
             [
              0.2222222222222222,
              "#7201a8"
             ],
             [
              0.3333333333333333,
              "#9c179e"
             ],
             [
              0.4444444444444444,
              "#bd3786"
             ],
             [
              0.5555555555555556,
              "#d8576b"
             ],
             [
              0.6666666666666666,
              "#ed7953"
             ],
             [
              0.7777777777777778,
              "#fb9f3a"
             ],
             [
              0.8888888888888888,
              "#fdca26"
             ],
             [
              1,
              "#f0f921"
             ]
            ],
            "type": "heatmap"
           }
          ],
          "heatmapgl": [
           {
            "colorbar": {
             "outlinewidth": 0,
             "ticks": ""
            },
            "colorscale": [
             [
              0,
              "#0d0887"
             ],
             [
              0.1111111111111111,
              "#46039f"
             ],
             [
              0.2222222222222222,
              "#7201a8"
             ],
             [
              0.3333333333333333,
              "#9c179e"
             ],
             [
              0.4444444444444444,
              "#bd3786"
             ],
             [
              0.5555555555555556,
              "#d8576b"
             ],
             [
              0.6666666666666666,
              "#ed7953"
             ],
             [
              0.7777777777777778,
              "#fb9f3a"
             ],
             [
              0.8888888888888888,
              "#fdca26"
             ],
             [
              1,
              "#f0f921"
             ]
            ],
            "type": "heatmapgl"
           }
          ],
          "histogram": [
           {
            "marker": {
             "pattern": {
              "fillmode": "overlay",
              "size": 10,
              "solidity": 0.2
             }
            },
            "type": "histogram"
           }
          ],
          "histogram2d": [
           {
            "colorbar": {
             "outlinewidth": 0,
             "ticks": ""
            },
            "colorscale": [
             [
              0,
              "#0d0887"
             ],
             [
              0.1111111111111111,
              "#46039f"
             ],
             [
              0.2222222222222222,
              "#7201a8"
             ],
             [
              0.3333333333333333,
              "#9c179e"
             ],
             [
              0.4444444444444444,
              "#bd3786"
             ],
             [
              0.5555555555555556,
              "#d8576b"
             ],
             [
              0.6666666666666666,
              "#ed7953"
             ],
             [
              0.7777777777777778,
              "#fb9f3a"
             ],
             [
              0.8888888888888888,
              "#fdca26"
             ],
             [
              1,
              "#f0f921"
             ]
            ],
            "type": "histogram2d"
           }
          ],
          "histogram2dcontour": [
           {
            "colorbar": {
             "outlinewidth": 0,
             "ticks": ""
            },
            "colorscale": [
             [
              0,
              "#0d0887"
             ],
             [
              0.1111111111111111,
              "#46039f"
             ],
             [
              0.2222222222222222,
              "#7201a8"
             ],
             [
              0.3333333333333333,
              "#9c179e"
             ],
             [
              0.4444444444444444,
              "#bd3786"
             ],
             [
              0.5555555555555556,
              "#d8576b"
             ],
             [
              0.6666666666666666,
              "#ed7953"
             ],
             [
              0.7777777777777778,
              "#fb9f3a"
             ],
             [
              0.8888888888888888,
              "#fdca26"
             ],
             [
              1,
              "#f0f921"
             ]
            ],
            "type": "histogram2dcontour"
           }
          ],
          "mesh3d": [
           {
            "colorbar": {
             "outlinewidth": 0,
             "ticks": ""
            },
            "type": "mesh3d"
           }
          ],
          "parcoords": [
           {
            "line": {
             "colorbar": {
              "outlinewidth": 0,
              "ticks": ""
             }
            },
            "type": "parcoords"
           }
          ],
          "pie": [
           {
            "automargin": true,
            "type": "pie"
           }
          ],
          "scatter": [
           {
            "fillpattern": {
             "fillmode": "overlay",
             "size": 10,
             "solidity": 0.2
            },
            "type": "scatter"
           }
          ],
          "scatter3d": [
           {
            "line": {
             "colorbar": {
              "outlinewidth": 0,
              "ticks": ""
             }
            },
            "marker": {
             "colorbar": {
              "outlinewidth": 0,
              "ticks": ""
             }
            },
            "type": "scatter3d"
           }
          ],
          "scattercarpet": [
           {
            "marker": {
             "colorbar": {
              "outlinewidth": 0,
              "ticks": ""
             }
            },
            "type": "scattercarpet"
           }
          ],
          "scattergeo": [
           {
            "marker": {
             "colorbar": {
              "outlinewidth": 0,
              "ticks": ""
             }
            },
            "type": "scattergeo"
           }
          ],
          "scattergl": [
           {
            "marker": {
             "colorbar": {
              "outlinewidth": 0,
              "ticks": ""
             }
            },
            "type": "scattergl"
           }
          ],
          "scattermapbox": [
           {
            "marker": {
             "colorbar": {
              "outlinewidth": 0,
              "ticks": ""
             }
            },
            "type": "scattermapbox"
           }
          ],
          "scatterpolar": [
           {
            "marker": {
             "colorbar": {
              "outlinewidth": 0,
              "ticks": ""
             }
            },
            "type": "scatterpolar"
           }
          ],
          "scatterpolargl": [
           {
            "marker": {
             "colorbar": {
              "outlinewidth": 0,
              "ticks": ""
             }
            },
            "type": "scatterpolargl"
           }
          ],
          "scatterternary": [
           {
            "marker": {
             "colorbar": {
              "outlinewidth": 0,
              "ticks": ""
             }
            },
            "type": "scatterternary"
           }
          ],
          "surface": [
           {
            "colorbar": {
             "outlinewidth": 0,
             "ticks": ""
            },
            "colorscale": [
             [
              0,
              "#0d0887"
             ],
             [
              0.1111111111111111,
              "#46039f"
             ],
             [
              0.2222222222222222,
              "#7201a8"
             ],
             [
              0.3333333333333333,
              "#9c179e"
             ],
             [
              0.4444444444444444,
              "#bd3786"
             ],
             [
              0.5555555555555556,
              "#d8576b"
             ],
             [
              0.6666666666666666,
              "#ed7953"
             ],
             [
              0.7777777777777778,
              "#fb9f3a"
             ],
             [
              0.8888888888888888,
              "#fdca26"
             ],
             [
              1,
              "#f0f921"
             ]
            ],
            "type": "surface"
           }
          ],
          "table": [
           {
            "cells": {
             "fill": {
              "color": "#EBF0F8"
             },
             "line": {
              "color": "white"
             }
            },
            "header": {
             "fill": {
              "color": "#C8D4E3"
             },
             "line": {
              "color": "white"
             }
            },
            "type": "table"
           }
          ]
         },
         "layout": {
          "annotationdefaults": {
           "arrowcolor": "#2a3f5f",
           "arrowhead": 0,
           "arrowwidth": 1
          },
          "autotypenumbers": "strict",
          "coloraxis": {
           "colorbar": {
            "outlinewidth": 0,
            "ticks": ""
           }
          },
          "colorscale": {
           "diverging": [
            [
             0,
             "#8e0152"
            ],
            [
             0.1,
             "#c51b7d"
            ],
            [
             0.2,
             "#de77ae"
            ],
            [
             0.3,
             "#f1b6da"
            ],
            [
             0.4,
             "#fde0ef"
            ],
            [
             0.5,
             "#f7f7f7"
            ],
            [
             0.6,
             "#e6f5d0"
            ],
            [
             0.7,
             "#b8e186"
            ],
            [
             0.8,
             "#7fbc41"
            ],
            [
             0.9,
             "#4d9221"
            ],
            [
             1,
             "#276419"
            ]
           ],
           "sequential": [
            [
             0,
             "#0d0887"
            ],
            [
             0.1111111111111111,
             "#46039f"
            ],
            [
             0.2222222222222222,
             "#7201a8"
            ],
            [
             0.3333333333333333,
             "#9c179e"
            ],
            [
             0.4444444444444444,
             "#bd3786"
            ],
            [
             0.5555555555555556,
             "#d8576b"
            ],
            [
             0.6666666666666666,
             "#ed7953"
            ],
            [
             0.7777777777777778,
             "#fb9f3a"
            ],
            [
             0.8888888888888888,
             "#fdca26"
            ],
            [
             1,
             "#f0f921"
            ]
           ],
           "sequentialminus": [
            [
             0,
             "#0d0887"
            ],
            [
             0.1111111111111111,
             "#46039f"
            ],
            [
             0.2222222222222222,
             "#7201a8"
            ],
            [
             0.3333333333333333,
             "#9c179e"
            ],
            [
             0.4444444444444444,
             "#bd3786"
            ],
            [
             0.5555555555555556,
             "#d8576b"
            ],
            [
             0.6666666666666666,
             "#ed7953"
            ],
            [
             0.7777777777777778,
             "#fb9f3a"
            ],
            [
             0.8888888888888888,
             "#fdca26"
            ],
            [
             1,
             "#f0f921"
            ]
           ]
          },
          "colorway": [
           "#636efa",
           "#EF553B",
           "#00cc96",
           "#ab63fa",
           "#FFA15A",
           "#19d3f3",
           "#FF6692",
           "#B6E880",
           "#FF97FF",
           "#FECB52"
          ],
          "font": {
           "color": "#2a3f5f"
          },
          "geo": {
           "bgcolor": "white",
           "lakecolor": "white",
           "landcolor": "#E5ECF6",
           "showlakes": true,
           "showland": true,
           "subunitcolor": "white"
          },
          "hoverlabel": {
           "align": "left"
          },
          "hovermode": "closest",
          "mapbox": {
           "style": "light"
          },
          "paper_bgcolor": "white",
          "plot_bgcolor": "#E5ECF6",
          "polar": {
           "angularaxis": {
            "gridcolor": "white",
            "linecolor": "white",
            "ticks": ""
           },
           "bgcolor": "#E5ECF6",
           "radialaxis": {
            "gridcolor": "white",
            "linecolor": "white",
            "ticks": ""
           }
          },
          "scene": {
           "xaxis": {
            "backgroundcolor": "#E5ECF6",
            "gridcolor": "white",
            "gridwidth": 2,
            "linecolor": "white",
            "showbackground": true,
            "ticks": "",
            "zerolinecolor": "white"
           },
           "yaxis": {
            "backgroundcolor": "#E5ECF6",
            "gridcolor": "white",
            "gridwidth": 2,
            "linecolor": "white",
            "showbackground": true,
            "ticks": "",
            "zerolinecolor": "white"
           },
           "zaxis": {
            "backgroundcolor": "#E5ECF6",
            "gridcolor": "white",
            "gridwidth": 2,
            "linecolor": "white",
            "showbackground": true,
            "ticks": "",
            "zerolinecolor": "white"
           }
          },
          "shapedefaults": {
           "line": {
            "color": "#2a3f5f"
           }
          },
          "ternary": {
           "aaxis": {
            "gridcolor": "white",
            "linecolor": "white",
            "ticks": ""
           },
           "baxis": {
            "gridcolor": "white",
            "linecolor": "white",
            "ticks": ""
           },
           "bgcolor": "#E5ECF6",
           "caxis": {
            "gridcolor": "white",
            "linecolor": "white",
            "ticks": ""
           }
          },
          "title": {
           "x": 0.05
          },
          "xaxis": {
           "automargin": true,
           "gridcolor": "white",
           "linecolor": "white",
           "ticks": "",
           "title": {
            "standoff": 15
           },
           "zerolinecolor": "white",
           "zerolinewidth": 2
          },
          "yaxis": {
           "automargin": true,
           "gridcolor": "white",
           "linecolor": "white",
           "ticks": "",
           "title": {
            "standoff": 15
           },
           "zerolinecolor": "white",
           "zerolinewidth": 2
          }
         }
        },
        "title": {
         "text": "Top 10 province with the highest and lowest average in foreign language"
        },
        "xaxis": {
         "anchor": "y",
         "domain": [
          0,
          1
         ],
         "title": {
          "text": "Province"
         }
        },
        "yaxis": {
         "anchor": "x",
         "domain": [
          0,
          1
         ],
         "title": {
          "text": "Average score"
         }
        }
       }
      }
     },
     "metadata": {},
     "output_type": "display_data"
    }
   ],
   "source": [
    "top10ngoai_ngu = val.nlargest(10, \"ngoai_ngu\")[\"ngoai_ngu\"]#+val.nsmallest(10, \"ngoai_ngu\")[\"ngoai_ngu\"]\n",
    "meomeo = val.nsmallest(10, \"ngoai_ngu\")[\"ngoai_ngu\"]\n",
    "top10ngoai_ngu = top10ngoai_ngu.append(meomeo[::-1])\n",
    "top10ngoai_ngu\n",
    "hoi_dong = [prov[i-1] for i in top10ngoai_ngu.index]\n",
    "fig = px.bar(x=hoi_dong, y=top10ngoai_ngu.values, color=hoi_dong, text=top10ngoai_ngu.values.round(2))\n",
    "fig.update_layout(title=\"Top 10 province with the highest and lowest average in foreign language\", xaxis_title=\"Province\",yaxis_title=\"Average score\",showlegend=False)"
   ]
  },
  {
   "cell_type": "code",
   "execution_count": 221,
   "metadata": {},
   "outputs": [
    {
     "name": "stderr",
     "output_type": "stream",
     "text": [
      "C:\\Users\\DELL\\AppData\\Local\\Temp\\ipykernel_22456\\1498177237.py:1: SettingWithCopyWarning:\n",
      "\n",
      "\n",
      "A value is trying to be set on a copy of a slice from a DataFrame.\n",
      "Try using .loc[row_indexer,col_indexer] = value instead\n",
      "\n",
      "See the caveats in the documentation: https://pandas.pydata.org/pandas-docs/stable/user_guide/indexing.html#returning-a-view-versus-a-copy\n",
      "\n"
     ]
    },
    {
     "data": {
      "text/html": [
       "<div>\n",
       "<style scoped>\n",
       "    .dataframe tbody tr th:only-of-type {\n",
       "        vertical-align: middle;\n",
       "    }\n",
       "\n",
       "    .dataframe tbody tr th {\n",
       "        vertical-align: top;\n",
       "    }\n",
       "\n",
       "    .dataframe thead th {\n",
       "        text-align: right;\n",
       "    }\n",
       "</style>\n",
       "<table border=\"1\" class=\"dataframe\">\n",
       "  <thead>\n",
       "    <tr style=\"text-align: right;\">\n",
       "      <th></th>\n",
       "      <th>sbd</th>\n",
       "      <th>toan</th>\n",
       "      <th>ngu_van</th>\n",
       "      <th>ngoai_ngu</th>\n",
       "      <th>vat_li</th>\n",
       "      <th>hoa_hoc</th>\n",
       "      <th>sinh_hoc</th>\n",
       "      <th>hoi_dong</th>\n",
       "      <th>ma_tinh</th>\n",
       "      <th>avg</th>\n",
       "    </tr>\n",
       "  </thead>\n",
       "  <tbody>\n",
       "    <tr>\n",
       "      <th>10</th>\n",
       "      <td>1000011</td>\n",
       "      <td>6.4</td>\n",
       "      <td>7.25</td>\n",
       "      <td>7.6</td>\n",
       "      <td>3.50</td>\n",
       "      <td>8.00</td>\n",
       "      <td>3.00</td>\n",
       "      <td>Sở GDĐT Hà Nội</td>\n",
       "      <td>1</td>\n",
       "      <td>4.833333</td>\n",
       "    </tr>\n",
       "    <tr>\n",
       "      <th>14</th>\n",
       "      <td>1000015</td>\n",
       "      <td>8.6</td>\n",
       "      <td>7.25</td>\n",
       "      <td>9.6</td>\n",
       "      <td>8.25</td>\n",
       "      <td>3.25</td>\n",
       "      <td>4.25</td>\n",
       "      <td>Sở GDĐT Hà Nội</td>\n",
       "      <td>1</td>\n",
       "      <td>5.250000</td>\n",
       "    </tr>\n",
       "    <tr>\n",
       "      <th>15</th>\n",
       "      <td>1000016</td>\n",
       "      <td>7.8</td>\n",
       "      <td>5.75</td>\n",
       "      <td>8.4</td>\n",
       "      <td>4.25</td>\n",
       "      <td>8.00</td>\n",
       "      <td>4.75</td>\n",
       "      <td>Sở GDĐT Hà Nội</td>\n",
       "      <td>1</td>\n",
       "      <td>5.666667</td>\n",
       "    </tr>\n",
       "    <tr>\n",
       "      <th>16</th>\n",
       "      <td>1000017</td>\n",
       "      <td>8.6</td>\n",
       "      <td>6.25</td>\n",
       "      <td>7.0</td>\n",
       "      <td>7.00</td>\n",
       "      <td>3.50</td>\n",
       "      <td>3.75</td>\n",
       "      <td>Sở GDĐT Hà Nội</td>\n",
       "      <td>1</td>\n",
       "      <td>4.750000</td>\n",
       "    </tr>\n",
       "    <tr>\n",
       "      <th>22</th>\n",
       "      <td>1000023</td>\n",
       "      <td>6.8</td>\n",
       "      <td>6.00</td>\n",
       "      <td>6.8</td>\n",
       "      <td>2.50</td>\n",
       "      <td>5.50</td>\n",
       "      <td>3.00</td>\n",
       "      <td>Sở GDĐT Hà Nội</td>\n",
       "      <td>1</td>\n",
       "      <td>3.666667</td>\n",
       "    </tr>\n",
       "  </tbody>\n",
       "</table>\n",
       "</div>"
      ],
      "text/plain": [
       "        sbd  toan  ngu_van  ngoai_ngu  vat_li  hoa_hoc  sinh_hoc  \\\n",
       "10  1000011   6.4     7.25        7.6    3.50     8.00      3.00   \n",
       "14  1000015   8.6     7.25        9.6    8.25     3.25      4.25   \n",
       "15  1000016   7.8     5.75        8.4    4.25     8.00      4.75   \n",
       "16  1000017   8.6     6.25        7.0    7.00     3.50      3.75   \n",
       "22  1000023   6.8     6.00        6.8    2.50     5.50      3.00   \n",
       "\n",
       "          hoi_dong  ma_tinh       avg  \n",
       "10  Sở GDĐT Hà Nội        1  4.833333  \n",
       "14  Sở GDĐT Hà Nội        1  5.250000  \n",
       "15  Sở GDĐT Hà Nội        1  5.666667  \n",
       "16  Sở GDĐT Hà Nội        1  4.750000  \n",
       "22  Sở GDĐT Hà Nội        1  3.666667  "
      ]
     },
     "execution_count": 221,
     "metadata": {},
     "output_type": "execute_result"
    }
   ],
   "source": [
    "khoi_tu_nhien[\"avg\"] = (khoi_tu_nhien[\"vat_li\"] + khoi_tu_nhien.hoa_hoc + khoi_tu_nhien.sinh_hoc) / 3\n",
    "khoi_tu_nhien.head()"
   ]
  },
  {
   "cell_type": "code",
   "execution_count": 325,
   "metadata": {},
   "outputs": [],
   "source": [
    "val_tn = khoi_tu_nhien.groupby(\"ma_tinh\").mean()"
   ]
  },
  {
   "cell_type": "code",
   "execution_count": 257,
   "metadata": {},
   "outputs": [
    {
     "name": "stderr",
     "output_type": "stream",
     "text": [
      "C:\\Users\\DELL\\AppData\\Local\\Temp\\ipykernel_22456\\2563041848.py:1: SettingWithCopyWarning:\n",
      "\n",
      "\n",
      "A value is trying to be set on a copy of a slice from a DataFrame.\n",
      "Try using .loc[row_indexer,col_indexer] = value instead\n",
      "\n",
      "See the caveats in the documentation: https://pandas.pydata.org/pandas-docs/stable/user_guide/indexing.html#returning-a-view-versus-a-copy\n",
      "\n"
     ]
    },
    {
     "data": {
      "text/html": [
       "<div>\n",
       "<style scoped>\n",
       "    .dataframe tbody tr th:only-of-type {\n",
       "        vertical-align: middle;\n",
       "    }\n",
       "\n",
       "    .dataframe tbody tr th {\n",
       "        vertical-align: top;\n",
       "    }\n",
       "\n",
       "    .dataframe thead th {\n",
       "        text-align: right;\n",
       "    }\n",
       "</style>\n",
       "<table border=\"1\" class=\"dataframe\">\n",
       "  <thead>\n",
       "    <tr style=\"text-align: right;\">\n",
       "      <th></th>\n",
       "      <th>sbd</th>\n",
       "      <th>toan</th>\n",
       "      <th>ngu_van</th>\n",
       "      <th>ngoai_ngu</th>\n",
       "      <th>lich_su</th>\n",
       "      <th>dia_li</th>\n",
       "      <th>gdcd</th>\n",
       "      <th>hoi_dong</th>\n",
       "      <th>ma_tinh</th>\n",
       "      <th>avg</th>\n",
       "    </tr>\n",
       "  </thead>\n",
       "  <tbody>\n",
       "    <tr>\n",
       "      <th>0</th>\n",
       "      <td>1000001</td>\n",
       "      <td>3.6</td>\n",
       "      <td>5.00</td>\n",
       "      <td>4.0</td>\n",
       "      <td>2.75</td>\n",
       "      <td>6.0</td>\n",
       "      <td>8.75</td>\n",
       "      <td>Sở GDĐT Hà Nội</td>\n",
       "      <td>1</td>\n",
       "      <td>5.833333</td>\n",
       "    </tr>\n",
       "    <tr>\n",
       "      <th>1</th>\n",
       "      <td>1000002</td>\n",
       "      <td>8.4</td>\n",
       "      <td>6.75</td>\n",
       "      <td>7.6</td>\n",
       "      <td>8.50</td>\n",
       "      <td>7.5</td>\n",
       "      <td>8.25</td>\n",
       "      <td>Sở GDĐT Hà Nội</td>\n",
       "      <td>1</td>\n",
       "      <td>8.083333</td>\n",
       "    </tr>\n",
       "    <tr>\n",
       "      <th>2</th>\n",
       "      <td>1000003</td>\n",
       "      <td>5.8</td>\n",
       "      <td>7.50</td>\n",
       "      <td>5.0</td>\n",
       "      <td>7.25</td>\n",
       "      <td>5.5</td>\n",
       "      <td>8.75</td>\n",
       "      <td>Sở GDĐT Hà Nội</td>\n",
       "      <td>1</td>\n",
       "      <td>7.166667</td>\n",
       "    </tr>\n",
       "    <tr>\n",
       "      <th>3</th>\n",
       "      <td>1000004</td>\n",
       "      <td>7.4</td>\n",
       "      <td>7.50</td>\n",
       "      <td>8.6</td>\n",
       "      <td>7.50</td>\n",
       "      <td>6.5</td>\n",
       "      <td>7.50</td>\n",
       "      <td>Sở GDĐT Hà Nội</td>\n",
       "      <td>1</td>\n",
       "      <td>7.166667</td>\n",
       "    </tr>\n",
       "    <tr>\n",
       "      <th>4</th>\n",
       "      <td>1000005</td>\n",
       "      <td>7.2</td>\n",
       "      <td>8.50</td>\n",
       "      <td>9.0</td>\n",
       "      <td>8.00</td>\n",
       "      <td>8.5</td>\n",
       "      <td>8.25</td>\n",
       "      <td>Sở GDĐT Hà Nội</td>\n",
       "      <td>1</td>\n",
       "      <td>8.250000</td>\n",
       "    </tr>\n",
       "  </tbody>\n",
       "</table>\n",
       "</div>"
      ],
      "text/plain": [
       "       sbd  toan  ngu_van  ngoai_ngu  lich_su  dia_li  gdcd        hoi_dong  \\\n",
       "0  1000001   3.6     5.00        4.0     2.75     6.0  8.75  Sở GDĐT Hà Nội   \n",
       "1  1000002   8.4     6.75        7.6     8.50     7.5  8.25  Sở GDĐT Hà Nội   \n",
       "2  1000003   5.8     7.50        5.0     7.25     5.5  8.75  Sở GDĐT Hà Nội   \n",
       "3  1000004   7.4     7.50        8.6     7.50     6.5  7.50  Sở GDĐT Hà Nội   \n",
       "4  1000005   7.2     8.50        9.0     8.00     8.5  8.25  Sở GDĐT Hà Nội   \n",
       "\n",
       "   ma_tinh       avg  \n",
       "0        1  5.833333  \n",
       "1        1  8.083333  \n",
       "2        1  7.166667  \n",
       "3        1  7.166667  \n",
       "4        1  8.250000  "
      ]
     },
     "execution_count": 257,
     "metadata": {},
     "output_type": "execute_result"
    }
   ],
   "source": [
    "khoi_xa_hoi[\"avg\"] = (khoi_xa_hoi.lich_su + khoi_xa_hoi.dia_li + khoi_xa_hoi.gdcd) / 3\n",
    "khoi_xa_hoi.head()"
   ]
  },
  {
   "cell_type": "code",
   "execution_count": 316,
   "metadata": {},
   "outputs": [],
   "source": [
    "val_xh = khoi_xa_hoi.groupby(\"ma_tinh\").mean()"
   ]
  },
  {
   "cell_type": "code",
   "execution_count": 313,
   "metadata": {},
   "outputs": [
    {
     "data": {
      "application/vnd.plotly.v1+json": {
       "config": {
        "plotlyServerURL": "https://plot.ly"
       },
       "data": [
        {
         "histnorm": "percent",
         "marker": {
          "color": "#EB89B5"
         },
         "name": "Science",
         "nbinsx": 20,
         "opacity": 0.75,
         "type": "histogram",
         "x": [
          5.9194762801894445,
          5.9989165529047215,
          6.358544665295865,
          5.880243463737393,
          5.949034334763948,
          6.298987707881418,
          6.019085081585081,
          6.5198445739661395,
          6.802870090634441,
          6.15327380952381,
          6.168326693227091,
          6.125752296484004,
          6.516726403823178,
          6.4656113537117905,
          6.51484674329502,
          6.67375397223616,
          6.13611218319825,
          6.37602296953442,
          6.541404029168212,
          6.262457482993197,
          6.1322798903734155,
          6.39212807606264,
          6.427378358750908,
          6.686043514126624,
          6.381815968841285,
          6.738876845256529,
          6.151483285366393,
          6.3130003684721805,
          6.510915668662674,
          6.1855128205128205,
          6.112308622078968,
          6.266675004168752,
          6.327542117930205,
          6.140780141843972,
          6.247107618423925,
          6.403797786720322,
          6.184377416860015,
          5.925240907677961,
          5.7469423881557775,
          5.878995242093478,
          6.245028997514499,
          5.6855069276446,
          6.607811375089993,
          5.874948368442792,
          5.919448596578642,
          6.113587838414894,
          5.881705704571213,
          6.111883147113595,
          6.100819021708326,
          6.186787590445039,
          5.681918689381376,
          6.147389151474229,
          5.846504623738017,
          6.187154259522681,
          6.169981845449522,
          6.464909443725744,
          5.9471480307831595,
          5.836042402826855,
          6.216982551143201,
          5.706998494947324,
          6.104079740380157,
          5.803732866724993,
          5.93501326259947
         ]
        },
        {
         "histnorm": "percent",
         "marker": {
          "color": "#330C73"
         },
         "name": "Social",
         "nbinsx": 20,
         "opacity": 0.75,
         "type": "histogram",
         "x": [
          7.090787834114323,
          7.178512172823621,
          7.663017664638702,
          6.6849651324965125,
          6.29369551350202,
          6.865203209027594,
          7.013995891114535,
          7.365126652340953,
          7.266404783081332,
          7.115829251593196,
          7.229185418541854,
          6.8894654431578175,
          6.941520721345587,
          6.979455109559821,
          7.590976882923191,
          8.040777379654152,
          7.004054187679225,
          7.351602125432735,
          7.391140500568828,
          7.3035331582601355,
          6.966254092111754,
          7.07262804366079,
          7.525016801075269,
          7.813454656541852,
          7.452059272172587,
          7.800477688453921,
          7.05058173859202,
          7.073743037232482,
          7.483441599796205,
          6.945869874377815,
          6.656433284457478,
          6.8291172121648085,
          6.705141912908243,
          6.5548095368594135,
          6.908137184973847,
          7.014585848134736,
          6.867092214749801,
          6.445663975829675,
          6.4418111047820545,
          6.799061072576552,
          7.059306210691823,
          6.86562277118589,
          7.768546441495778,
          6.55810975080316,
          6.875470809792844,
          6.862102068623808,
          6.797641842759124,
          7.287641322402615,
          7.180715239202515,
          7.392621715792448,
          7.019179608858211,
          7.185677466863034,
          7.016285636919268,
          7.138726265822785,
          7.1844682478959445,
          7.369320937752628,
          6.701097573514291,
          6.800981617455606,
          7.312523728170083,
          7.021624565742212,
          6.820899415692821,
          6.759086825124561,
          6.915822735123253
         ]
        }
       ],
       "layout": {
        "bargap": 0.2,
        "bargroupgap": 0.1,
        "template": {
         "data": {
          "bar": [
           {
            "error_x": {
             "color": "#2a3f5f"
            },
            "error_y": {
             "color": "#2a3f5f"
            },
            "marker": {
             "line": {
              "color": "#E5ECF6",
              "width": 0.5
             },
             "pattern": {
              "fillmode": "overlay",
              "size": 10,
              "solidity": 0.2
             }
            },
            "type": "bar"
           }
          ],
          "barpolar": [
           {
            "marker": {
             "line": {
              "color": "#E5ECF6",
              "width": 0.5
             },
             "pattern": {
              "fillmode": "overlay",
              "size": 10,
              "solidity": 0.2
             }
            },
            "type": "barpolar"
           }
          ],
          "carpet": [
           {
            "aaxis": {
             "endlinecolor": "#2a3f5f",
             "gridcolor": "white",
             "linecolor": "white",
             "minorgridcolor": "white",
             "startlinecolor": "#2a3f5f"
            },
            "baxis": {
             "endlinecolor": "#2a3f5f",
             "gridcolor": "white",
             "linecolor": "white",
             "minorgridcolor": "white",
             "startlinecolor": "#2a3f5f"
            },
            "type": "carpet"
           }
          ],
          "choropleth": [
           {
            "colorbar": {
             "outlinewidth": 0,
             "ticks": ""
            },
            "type": "choropleth"
           }
          ],
          "contour": [
           {
            "colorbar": {
             "outlinewidth": 0,
             "ticks": ""
            },
            "colorscale": [
             [
              0,
              "#0d0887"
             ],
             [
              0.1111111111111111,
              "#46039f"
             ],
             [
              0.2222222222222222,
              "#7201a8"
             ],
             [
              0.3333333333333333,
              "#9c179e"
             ],
             [
              0.4444444444444444,
              "#bd3786"
             ],
             [
              0.5555555555555556,
              "#d8576b"
             ],
             [
              0.6666666666666666,
              "#ed7953"
             ],
             [
              0.7777777777777778,
              "#fb9f3a"
             ],
             [
              0.8888888888888888,
              "#fdca26"
             ],
             [
              1,
              "#f0f921"
             ]
            ],
            "type": "contour"
           }
          ],
          "contourcarpet": [
           {
            "colorbar": {
             "outlinewidth": 0,
             "ticks": ""
            },
            "type": "contourcarpet"
           }
          ],
          "heatmap": [
           {
            "colorbar": {
             "outlinewidth": 0,
             "ticks": ""
            },
            "colorscale": [
             [
              0,
              "#0d0887"
             ],
             [
              0.1111111111111111,
              "#46039f"
             ],
             [
              0.2222222222222222,
              "#7201a8"
             ],
             [
              0.3333333333333333,
              "#9c179e"
             ],
             [
              0.4444444444444444,
              "#bd3786"
             ],
             [
              0.5555555555555556,
              "#d8576b"
             ],
             [
              0.6666666666666666,
              "#ed7953"
             ],
             [
              0.7777777777777778,
              "#fb9f3a"
             ],
             [
              0.8888888888888888,
              "#fdca26"
             ],
             [
              1,
              "#f0f921"
             ]
            ],
            "type": "heatmap"
           }
          ],
          "heatmapgl": [
           {
            "colorbar": {
             "outlinewidth": 0,
             "ticks": ""
            },
            "colorscale": [
             [
              0,
              "#0d0887"
             ],
             [
              0.1111111111111111,
              "#46039f"
             ],
             [
              0.2222222222222222,
              "#7201a8"
             ],
             [
              0.3333333333333333,
              "#9c179e"
             ],
             [
              0.4444444444444444,
              "#bd3786"
             ],
             [
              0.5555555555555556,
              "#d8576b"
             ],
             [
              0.6666666666666666,
              "#ed7953"
             ],
             [
              0.7777777777777778,
              "#fb9f3a"
             ],
             [
              0.8888888888888888,
              "#fdca26"
             ],
             [
              1,
              "#f0f921"
             ]
            ],
            "type": "heatmapgl"
           }
          ],
          "histogram": [
           {
            "marker": {
             "pattern": {
              "fillmode": "overlay",
              "size": 10,
              "solidity": 0.2
             }
            },
            "type": "histogram"
           }
          ],
          "histogram2d": [
           {
            "colorbar": {
             "outlinewidth": 0,
             "ticks": ""
            },
            "colorscale": [
             [
              0,
              "#0d0887"
             ],
             [
              0.1111111111111111,
              "#46039f"
             ],
             [
              0.2222222222222222,
              "#7201a8"
             ],
             [
              0.3333333333333333,
              "#9c179e"
             ],
             [
              0.4444444444444444,
              "#bd3786"
             ],
             [
              0.5555555555555556,
              "#d8576b"
             ],
             [
              0.6666666666666666,
              "#ed7953"
             ],
             [
              0.7777777777777778,
              "#fb9f3a"
             ],
             [
              0.8888888888888888,
              "#fdca26"
             ],
             [
              1,
              "#f0f921"
             ]
            ],
            "type": "histogram2d"
           }
          ],
          "histogram2dcontour": [
           {
            "colorbar": {
             "outlinewidth": 0,
             "ticks": ""
            },
            "colorscale": [
             [
              0,
              "#0d0887"
             ],
             [
              0.1111111111111111,
              "#46039f"
             ],
             [
              0.2222222222222222,
              "#7201a8"
             ],
             [
              0.3333333333333333,
              "#9c179e"
             ],
             [
              0.4444444444444444,
              "#bd3786"
             ],
             [
              0.5555555555555556,
              "#d8576b"
             ],
             [
              0.6666666666666666,
              "#ed7953"
             ],
             [
              0.7777777777777778,
              "#fb9f3a"
             ],
             [
              0.8888888888888888,
              "#fdca26"
             ],
             [
              1,
              "#f0f921"
             ]
            ],
            "type": "histogram2dcontour"
           }
          ],
          "mesh3d": [
           {
            "colorbar": {
             "outlinewidth": 0,
             "ticks": ""
            },
            "type": "mesh3d"
           }
          ],
          "parcoords": [
           {
            "line": {
             "colorbar": {
              "outlinewidth": 0,
              "ticks": ""
             }
            },
            "type": "parcoords"
           }
          ],
          "pie": [
           {
            "automargin": true,
            "type": "pie"
           }
          ],
          "scatter": [
           {
            "fillpattern": {
             "fillmode": "overlay",
             "size": 10,
             "solidity": 0.2
            },
            "type": "scatter"
           }
          ],
          "scatter3d": [
           {
            "line": {
             "colorbar": {
              "outlinewidth": 0,
              "ticks": ""
             }
            },
            "marker": {
             "colorbar": {
              "outlinewidth": 0,
              "ticks": ""
             }
            },
            "type": "scatter3d"
           }
          ],
          "scattercarpet": [
           {
            "marker": {
             "colorbar": {
              "outlinewidth": 0,
              "ticks": ""
             }
            },
            "type": "scattercarpet"
           }
          ],
          "scattergeo": [
           {
            "marker": {
             "colorbar": {
              "outlinewidth": 0,
              "ticks": ""
             }
            },
            "type": "scattergeo"
           }
          ],
          "scattergl": [
           {
            "marker": {
             "colorbar": {
              "outlinewidth": 0,
              "ticks": ""
             }
            },
            "type": "scattergl"
           }
          ],
          "scattermapbox": [
           {
            "marker": {
             "colorbar": {
              "outlinewidth": 0,
              "ticks": ""
             }
            },
            "type": "scattermapbox"
           }
          ],
          "scatterpolar": [
           {
            "marker": {
             "colorbar": {
              "outlinewidth": 0,
              "ticks": ""
             }
            },
            "type": "scatterpolar"
           }
          ],
          "scatterpolargl": [
           {
            "marker": {
             "colorbar": {
              "outlinewidth": 0,
              "ticks": ""
             }
            },
            "type": "scatterpolargl"
           }
          ],
          "scatterternary": [
           {
            "marker": {
             "colorbar": {
              "outlinewidth": 0,
              "ticks": ""
             }
            },
            "type": "scatterternary"
           }
          ],
          "surface": [
           {
            "colorbar": {
             "outlinewidth": 0,
             "ticks": ""
            },
            "colorscale": [
             [
              0,
              "#0d0887"
             ],
             [
              0.1111111111111111,
              "#46039f"
             ],
             [
              0.2222222222222222,
              "#7201a8"
             ],
             [
              0.3333333333333333,
              "#9c179e"
             ],
             [
              0.4444444444444444,
              "#bd3786"
             ],
             [
              0.5555555555555556,
              "#d8576b"
             ],
             [
              0.6666666666666666,
              "#ed7953"
             ],
             [
              0.7777777777777778,
              "#fb9f3a"
             ],
             [
              0.8888888888888888,
              "#fdca26"
             ],
             [
              1,
              "#f0f921"
             ]
            ],
            "type": "surface"
           }
          ],
          "table": [
           {
            "cells": {
             "fill": {
              "color": "#EBF0F8"
             },
             "line": {
              "color": "white"
             }
            },
            "header": {
             "fill": {
              "color": "#C8D4E3"
             },
             "line": {
              "color": "white"
             }
            },
            "type": "table"
           }
          ]
         },
         "layout": {
          "annotationdefaults": {
           "arrowcolor": "#2a3f5f",
           "arrowhead": 0,
           "arrowwidth": 1
          },
          "autotypenumbers": "strict",
          "coloraxis": {
           "colorbar": {
            "outlinewidth": 0,
            "ticks": ""
           }
          },
          "colorscale": {
           "diverging": [
            [
             0,
             "#8e0152"
            ],
            [
             0.1,
             "#c51b7d"
            ],
            [
             0.2,
             "#de77ae"
            ],
            [
             0.3,
             "#f1b6da"
            ],
            [
             0.4,
             "#fde0ef"
            ],
            [
             0.5,
             "#f7f7f7"
            ],
            [
             0.6,
             "#e6f5d0"
            ],
            [
             0.7,
             "#b8e186"
            ],
            [
             0.8,
             "#7fbc41"
            ],
            [
             0.9,
             "#4d9221"
            ],
            [
             1,
             "#276419"
            ]
           ],
           "sequential": [
            [
             0,
             "#0d0887"
            ],
            [
             0.1111111111111111,
             "#46039f"
            ],
            [
             0.2222222222222222,
             "#7201a8"
            ],
            [
             0.3333333333333333,
             "#9c179e"
            ],
            [
             0.4444444444444444,
             "#bd3786"
            ],
            [
             0.5555555555555556,
             "#d8576b"
            ],
            [
             0.6666666666666666,
             "#ed7953"
            ],
            [
             0.7777777777777778,
             "#fb9f3a"
            ],
            [
             0.8888888888888888,
             "#fdca26"
            ],
            [
             1,
             "#f0f921"
            ]
           ],
           "sequentialminus": [
            [
             0,
             "#0d0887"
            ],
            [
             0.1111111111111111,
             "#46039f"
            ],
            [
             0.2222222222222222,
             "#7201a8"
            ],
            [
             0.3333333333333333,
             "#9c179e"
            ],
            [
             0.4444444444444444,
             "#bd3786"
            ],
            [
             0.5555555555555556,
             "#d8576b"
            ],
            [
             0.6666666666666666,
             "#ed7953"
            ],
            [
             0.7777777777777778,
             "#fb9f3a"
            ],
            [
             0.8888888888888888,
             "#fdca26"
            ],
            [
             1,
             "#f0f921"
            ]
           ]
          },
          "colorway": [
           "#636efa",
           "#EF553B",
           "#00cc96",
           "#ab63fa",
           "#FFA15A",
           "#19d3f3",
           "#FF6692",
           "#B6E880",
           "#FF97FF",
           "#FECB52"
          ],
          "font": {
           "color": "#2a3f5f"
          },
          "geo": {
           "bgcolor": "white",
           "lakecolor": "white",
           "landcolor": "#E5ECF6",
           "showlakes": true,
           "showland": true,
           "subunitcolor": "white"
          },
          "hoverlabel": {
           "align": "left"
          },
          "hovermode": "closest",
          "mapbox": {
           "style": "light"
          },
          "paper_bgcolor": "white",
          "plot_bgcolor": "#E5ECF6",
          "polar": {
           "angularaxis": {
            "gridcolor": "white",
            "linecolor": "white",
            "ticks": ""
           },
           "bgcolor": "#E5ECF6",
           "radialaxis": {
            "gridcolor": "white",
            "linecolor": "white",
            "ticks": ""
           }
          },
          "scene": {
           "xaxis": {
            "backgroundcolor": "#E5ECF6",
            "gridcolor": "white",
            "gridwidth": 2,
            "linecolor": "white",
            "showbackground": true,
            "ticks": "",
            "zerolinecolor": "white"
           },
           "yaxis": {
            "backgroundcolor": "#E5ECF6",
            "gridcolor": "white",
            "gridwidth": 2,
            "linecolor": "white",
            "showbackground": true,
            "ticks": "",
            "zerolinecolor": "white"
           },
           "zaxis": {
            "backgroundcolor": "#E5ECF6",
            "gridcolor": "white",
            "gridwidth": 2,
            "linecolor": "white",
            "showbackground": true,
            "ticks": "",
            "zerolinecolor": "white"
           }
          },
          "shapedefaults": {
           "line": {
            "color": "#2a3f5f"
           }
          },
          "ternary": {
           "aaxis": {
            "gridcolor": "white",
            "linecolor": "white",
            "ticks": ""
           },
           "baxis": {
            "gridcolor": "white",
            "linecolor": "white",
            "ticks": ""
           },
           "bgcolor": "#E5ECF6",
           "caxis": {
            "gridcolor": "white",
            "linecolor": "white",
            "ticks": ""
           }
          },
          "title": {
           "x": 0.05
          },
          "xaxis": {
           "automargin": true,
           "gridcolor": "white",
           "linecolor": "white",
           "ticks": "",
           "title": {
            "standoff": 15
           },
           "zerolinecolor": "white",
           "zerolinewidth": 2
          },
          "yaxis": {
           "automargin": true,
           "gridcolor": "white",
           "linecolor": "white",
           "ticks": "",
           "title": {
            "standoff": 15
           },
           "zerolinecolor": "white",
           "zerolinewidth": 2
          }
         }
        },
        "title": {
         "text": "Histogram to compare social vs science"
        },
        "xaxis": {
         "title": {
          "text": "Average score of three subject in each category"
         }
        },
        "yaxis": {
         "title": {
          "text": "Count"
         }
        }
       }
      }
     },
     "metadata": {},
     "output_type": "display_data"
    }
   ],
   "source": [
    "import plotly.graph_objects as go\n",
    "\n",
    "import numpy as np\n",
    "x0 = val_tn[\"avg\"]\n",
    "x1 = val_xh[\"avg\"]\n",
    "\n",
    "fig = go.Figure()\n",
    "fig.add_trace(go.Histogram(\n",
    "    x=x0,\n",
    "    histnorm='percent',\n",
    "    name='Science',\n",
    "    nbinsx=20,\n",
    "    marker_color='#EB89B5',\n",
    "    opacity=0.75\n",
    "))\n",
    "fig.add_trace(go.Histogram(\n",
    "    x=x1,\n",
    "    histnorm='percent',\n",
    "    name='Social',\n",
    "    nbinsx=20,\n",
    "    marker_color='#330C73',\n",
    "    opacity=0.75\n",
    "))\n",
    "\n",
    "fig.update_layout(\n",
    "    title_text='Histogram to compare social vs science', \n",
    "    xaxis_title_text='Average score of three subject in each category',\n",
    "    yaxis_title_text='Count',\n",
    "    bargap=0.2,\n",
    "    bargroupgap=0.1\n",
    ")\n",
    "\n",
    "fig.show()"
   ]
  },
  {
   "cell_type": "code",
   "execution_count": 328,
   "metadata": {},
   "outputs": [
    {
     "name": "stderr",
     "output_type": "stream",
     "text": [
      "C:\\Users\\DELL\\AppData\\Local\\Temp\\ipykernel_22456\\812519156.py:3: FutureWarning:\n",
      "\n",
      "The series.append method is deprecated and will be removed from pandas in a future version. Use pandas.concat instead.\n",
      "\n"
     ]
    },
    {
     "data": {
      "application/vnd.plotly.v1+json": {
       "config": {
        "plotlyServerURL": "https://plot.ly"
       },
       "data": [
        {
         "alignmentgroup": "True",
         "hovertemplate": "color=Tuyên Quang<br>x=%{x}<br>y=%{y}<br>text=%{text}<extra></extra>",
         "legendgroup": "Tuyên Quang",
         "marker": {
          "color": "#636efa",
          "pattern": {
           "shape": ""
          }
         },
         "name": "Tuyên Quang",
         "offsetgroup": "Tuyên Quang",
         "orientation": "v",
         "showlegend": true,
         "text": [
          6.8
         ],
         "textposition": "auto",
         "type": "bar",
         "x": [
          "Tuyên Quang"
         ],
         "xaxis": "x",
         "y": [
          6.802870090634441
         ],
         "yaxis": "y"
        },
        {
         "alignmentgroup": "True",
         "hovertemplate": "color=Ninh Bình<br>x=%{x}<br>y=%{y}<br>text=%{text}<extra></extra>",
         "legendgroup": "Ninh Bình",
         "marker": {
          "color": "#EF553B",
          "pattern": {
           "shape": ""
          }
         },
         "name": "Ninh Bình",
         "offsetgroup": "Ninh Bình",
         "orientation": "v",
         "showlegend": true,
         "text": [
          6.74
         ],
         "textposition": "auto",
         "type": "bar",
         "x": [
          "Ninh Bình"
         ],
         "xaxis": "x",
         "y": [
          6.738876845256529
         ],
         "yaxis": "y"
        },
        {
         "alignmentgroup": "True",
         "hovertemplate": "color=Nam Định<br>x=%{x}<br>y=%{y}<br>text=%{text}<extra></extra>",
         "legendgroup": "Nam Định",
         "marker": {
          "color": "#00cc96",
          "pattern": {
           "shape": ""
          }
         },
         "name": "Nam Định",
         "offsetgroup": "Nam Định",
         "orientation": "v",
         "showlegend": true,
         "text": [
          6.69
         ],
         "textposition": "auto",
         "type": "bar",
         "x": [
          "Nam Định"
         ],
         "xaxis": "x",
         "y": [
          6.686043514126624
         ],
         "yaxis": "y"
        },
        {
         "alignmentgroup": "True",
         "hovertemplate": "color=Vĩnh Phúc<br>x=%{x}<br>y=%{y}<br>text=%{text}<extra></extra>",
         "legendgroup": "Vĩnh Phúc",
         "marker": {
          "color": "#ab63fa",
          "pattern": {
           "shape": ""
          }
         },
         "name": "Vĩnh Phúc",
         "offsetgroup": "Vĩnh Phúc",
         "orientation": "v",
         "showlegend": true,
         "text": [
          6.67
         ],
         "textposition": "auto",
         "type": "bar",
         "x": [
          "Vĩnh Phúc"
         ],
         "xaxis": "x",
         "y": [
          6.67375397223616
         ],
         "yaxis": "y"
        },
        {
         "alignmentgroup": "True",
         "hovertemplate": "color=Bình Dương<br>x=%{x}<br>y=%{y}<br>text=%{text}<extra></extra>",
         "legendgroup": "Bình Dương",
         "marker": {
          "color": "#FFA15A",
          "pattern": {
           "shape": ""
          }
         },
         "name": "Bình Dương",
         "offsetgroup": "Bình Dương",
         "orientation": "v",
         "showlegend": true,
         "text": [
          6.61
         ],
         "textposition": "auto",
         "type": "bar",
         "x": [
          "Bình Dương"
         ],
         "xaxis": "x",
         "y": [
          6.607811375089993
         ],
         "yaxis": "y"
        },
        {
         "alignmentgroup": "True",
         "hovertemplate": "color=Bắc Ninh<br>x=%{x}<br>y=%{y}<br>text=%{text}<extra></extra>",
         "legendgroup": "Bắc Ninh",
         "marker": {
          "color": "#19d3f3",
          "pattern": {
           "shape": ""
          }
         },
         "name": "Bắc Ninh",
         "offsetgroup": "Bắc Ninh",
         "orientation": "v",
         "showlegend": true,
         "text": [
          6.54
         ],
         "textposition": "auto",
         "type": "bar",
         "x": [
          "Bắc Ninh"
         ],
         "xaxis": "x",
         "y": [
          6.541404029168212
         ],
         "yaxis": "y"
        },
        {
         "alignmentgroup": "True",
         "hovertemplate": "color=Lào Cai<br>x=%{x}<br>y=%{y}<br>text=%{text}<extra></extra>",
         "legendgroup": "Lào Cai",
         "marker": {
          "color": "#FF6692",
          "pattern": {
           "shape": ""
          }
         },
         "name": "Lào Cai",
         "offsetgroup": "Lào Cai",
         "orientation": "v",
         "showlegend": true,
         "text": [
          6.52
         ],
         "textposition": "auto",
         "type": "bar",
         "x": [
          "Lào Cai"
         ],
         "xaxis": "x",
         "y": [
          6.5198445739661395
         ],
         "yaxis": "y"
        },
        {
         "alignmentgroup": "True",
         "hovertemplate": "color=Yên Bái<br>x=%{x}<br>y=%{y}<br>text=%{text}<extra></extra>",
         "legendgroup": "Yên Bái",
         "marker": {
          "color": "#B6E880",
          "pattern": {
           "shape": ""
          }
         },
         "name": "Yên Bái",
         "offsetgroup": "Yên Bái",
         "orientation": "v",
         "showlegend": true,
         "text": [
          6.52
         ],
         "textposition": "auto",
         "type": "bar",
         "x": [
          "Yên Bái"
         ],
         "xaxis": "x",
         "y": [
          6.516726403823178
         ],
         "yaxis": "y"
        },
        {
         "alignmentgroup": "True",
         "hovertemplate": "color=Phú Thọ<br>x=%{x}<br>y=%{y}<br>text=%{text}<extra></extra>",
         "legendgroup": "Phú Thọ",
         "marker": {
          "color": "#FF97FF",
          "pattern": {
           "shape": ""
          }
         },
         "name": "Phú Thọ",
         "offsetgroup": "Phú Thọ",
         "orientation": "v",
         "showlegend": true,
         "text": [
          6.51
         ],
         "textposition": "auto",
         "type": "bar",
         "x": [
          "Phú Thọ"
         ],
         "xaxis": "x",
         "y": [
          6.51484674329502
         ],
         "yaxis": "y"
        },
        {
         "alignmentgroup": "True",
         "hovertemplate": "color=Hà Tĩnh<br>x=%{x}<br>y=%{y}<br>text=%{text}<extra></extra>",
         "legendgroup": "Hà Tĩnh",
         "marker": {
          "color": "#FECB52",
          "pattern": {
           "shape": ""
          }
         },
         "name": "Hà Tĩnh",
         "offsetgroup": "Hà Tĩnh",
         "orientation": "v",
         "showlegend": true,
         "text": [
          6.51
         ],
         "textposition": "auto",
         "type": "bar",
         "x": [
          "Hà Tĩnh"
         ],
         "xaxis": "x",
         "y": [
          6.510915668662674
         ],
         "yaxis": "y"
        },
        {
         "alignmentgroup": "True",
         "hovertemplate": "color=Đà Nẵng<br>x=%{x}<br>y=%{y}<br>text=%{text}<extra></extra>",
         "legendgroup": "Đà Nẵng",
         "marker": {
          "color": "#636efa",
          "pattern": {
           "shape": ""
          }
         },
         "name": "Đà Nẵng",
         "offsetgroup": "Đà Nẵng",
         "orientation": "v",
         "showlegend": true,
         "text": [
          5.88
         ],
         "textposition": "auto",
         "type": "bar",
         "x": [
          "Đà Nẵng"
         ],
         "xaxis": "x",
         "y": [
          5.880243463737393
         ],
         "yaxis": "y"
        },
        {
         "alignmentgroup": "True",
         "hovertemplate": "color=Khánh Hoà<br>x=%{x}<br>y=%{y}<br>text=%{text}<extra></extra>",
         "legendgroup": "Khánh Hoà",
         "marker": {
          "color": "#EF553B",
          "pattern": {
           "shape": ""
          }
         },
         "name": "Khánh Hoà",
         "offsetgroup": "Khánh Hoà",
         "orientation": "v",
         "showlegend": true,
         "text": [
          5.88
         ],
         "textposition": "auto",
         "type": "bar",
         "x": [
          "Khánh Hoà"
         ],
         "xaxis": "x",
         "y": [
          5.878995242093478
         ],
         "yaxis": "y"
        },
        {
         "alignmentgroup": "True",
         "hovertemplate": "color=Ninh Thuận<br>x=%{x}<br>y=%{y}<br>text=%{text}<extra></extra>",
         "legendgroup": "Ninh Thuận",
         "marker": {
          "color": "#00cc96",
          "pattern": {
           "shape": ""
          }
         },
         "name": "Ninh Thuận",
         "offsetgroup": "Ninh Thuận",
         "orientation": "v",
         "showlegend": true,
         "text": [
          5.87
         ],
         "textposition": "auto",
         "type": "bar",
         "x": [
          "Ninh Thuận"
         ],
         "xaxis": "x",
         "y": [
          5.874948368442792
         ],
         "yaxis": "y"
        },
        {
         "alignmentgroup": "True",
         "hovertemplate": "color=Kiên Giang<br>x=%{x}<br>y=%{y}<br>text=%{text}<extra></extra>",
         "legendgroup": "Kiên Giang",
         "marker": {
          "color": "#ab63fa",
          "pattern": {
           "shape": ""
          }
         },
         "name": "Kiên Giang",
         "offsetgroup": "Kiên Giang",
         "orientation": "v",
         "showlegend": true,
         "text": [
          5.85
         ],
         "textposition": "auto",
         "type": "bar",
         "x": [
          "Kiên Giang"
         ],
         "xaxis": "x",
         "y": [
          5.846504623738017
         ],
         "yaxis": "y"
        },
        {
         "alignmentgroup": "True",
         "hovertemplate": "color=Sóc Trăng<br>x=%{x}<br>y=%{y}<br>text=%{text}<extra></extra>",
         "legendgroup": "Sóc Trăng",
         "marker": {
          "color": "#FFA15A",
          "pattern": {
           "shape": ""
          }
         },
         "name": "Sóc Trăng",
         "offsetgroup": "Sóc Trăng",
         "orientation": "v",
         "showlegend": true,
         "text": [
          5.84
         ],
         "textposition": "auto",
         "type": "bar",
         "x": [
          "Sóc Trăng"
         ],
         "xaxis": "x",
         "y": [
          5.836042402826855
         ],
         "yaxis": "y"
        },
        {
         "alignmentgroup": "True",
         "hovertemplate": "color=Đăk Nông<br>x=%{x}<br>y=%{y}<br>text=%{text}<extra></extra>",
         "legendgroup": "Đăk Nông",
         "marker": {
          "color": "#19d3f3",
          "pattern": {
           "shape": ""
          }
         },
         "name": "Đăk Nông",
         "offsetgroup": "Đăk Nông",
         "orientation": "v",
         "showlegend": true,
         "text": [
          5.8
         ],
         "textposition": "auto",
         "type": "bar",
         "x": [
          "Đăk Nông"
         ],
         "xaxis": "x",
         "y": [
          5.803732866724993
         ],
         "yaxis": "y"
        },
        {
         "alignmentgroup": "True",
         "hovertemplate": "color=Đắk Lắk<br>x=%{x}<br>y=%{y}<br>text=%{text}<extra></extra>",
         "legendgroup": "Đắk Lắk",
         "marker": {
          "color": "#FF6692",
          "pattern": {
           "shape": ""
          }
         },
         "name": "Đắk Lắk",
         "offsetgroup": "Đắk Lắk",
         "orientation": "v",
         "showlegend": true,
         "text": [
          5.75
         ],
         "textposition": "auto",
         "type": "bar",
         "x": [
          "Đắk Lắk"
         ],
         "xaxis": "x",
         "y": [
          5.7469423881557775
         ],
         "yaxis": "y"
        },
        {
         "alignmentgroup": "True",
         "hovertemplate": "color=Cà Mau<br>x=%{x}<br>y=%{y}<br>text=%{text}<extra></extra>",
         "legendgroup": "Cà Mau",
         "marker": {
          "color": "#B6E880",
          "pattern": {
           "shape": ""
          }
         },
         "name": "Cà Mau",
         "offsetgroup": "Cà Mau",
         "orientation": "v",
         "showlegend": true,
         "text": [
          5.71
         ],
         "textposition": "auto",
         "type": "bar",
         "x": [
          "Cà Mau"
         ],
         "xaxis": "x",
         "y": [
          5.706998494947324
         ],
         "yaxis": "y"
        },
        {
         "alignmentgroup": "True",
         "hovertemplate": "color=Bình Phước<br>x=%{x}<br>y=%{y}<br>text=%{text}<extra></extra>",
         "legendgroup": "Bình Phước",
         "marker": {
          "color": "#FF97FF",
          "pattern": {
           "shape": ""
          }
         },
         "name": "Bình Phước",
         "offsetgroup": "Bình Phước",
         "orientation": "v",
         "showlegend": true,
         "text": [
          5.69
         ],
         "textposition": "auto",
         "type": "bar",
         "x": [
          "Bình Phước"
         ],
         "xaxis": "x",
         "y": [
          5.6855069276446
         ],
         "yaxis": "y"
        },
        {
         "alignmentgroup": "True",
         "hovertemplate": "color=Bà Rịa-Vũng Tàu<br>x=%{x}<br>y=%{y}<br>text=%{text}<extra></extra>",
         "legendgroup": "Bà Rịa-Vũng Tàu",
         "marker": {
          "color": "#FECB52",
          "pattern": {
           "shape": ""
          }
         },
         "name": "Bà Rịa-Vũng Tàu",
         "offsetgroup": "Bà Rịa-Vũng Tàu",
         "orientation": "v",
         "showlegend": true,
         "text": [
          5.68
         ],
         "textposition": "auto",
         "type": "bar",
         "x": [
          "Bà Rịa-Vũng Tàu"
         ],
         "xaxis": "x",
         "y": [
          5.681918689381376
         ],
         "yaxis": "y"
        }
       ],
       "layout": {
        "barmode": "relative",
        "legend": {
         "title": {
          "text": "color"
         },
         "tracegroupgap": 0
        },
        "margin": {
         "t": 60
        },
        "showlegend": false,
        "template": {
         "data": {
          "bar": [
           {
            "error_x": {
             "color": "#2a3f5f"
            },
            "error_y": {
             "color": "#2a3f5f"
            },
            "marker": {
             "line": {
              "color": "#E5ECF6",
              "width": 0.5
             },
             "pattern": {
              "fillmode": "overlay",
              "size": 10,
              "solidity": 0.2
             }
            },
            "type": "bar"
           }
          ],
          "barpolar": [
           {
            "marker": {
             "line": {
              "color": "#E5ECF6",
              "width": 0.5
             },
             "pattern": {
              "fillmode": "overlay",
              "size": 10,
              "solidity": 0.2
             }
            },
            "type": "barpolar"
           }
          ],
          "carpet": [
           {
            "aaxis": {
             "endlinecolor": "#2a3f5f",
             "gridcolor": "white",
             "linecolor": "white",
             "minorgridcolor": "white",
             "startlinecolor": "#2a3f5f"
            },
            "baxis": {
             "endlinecolor": "#2a3f5f",
             "gridcolor": "white",
             "linecolor": "white",
             "minorgridcolor": "white",
             "startlinecolor": "#2a3f5f"
            },
            "type": "carpet"
           }
          ],
          "choropleth": [
           {
            "colorbar": {
             "outlinewidth": 0,
             "ticks": ""
            },
            "type": "choropleth"
           }
          ],
          "contour": [
           {
            "colorbar": {
             "outlinewidth": 0,
             "ticks": ""
            },
            "colorscale": [
             [
              0,
              "#0d0887"
             ],
             [
              0.1111111111111111,
              "#46039f"
             ],
             [
              0.2222222222222222,
              "#7201a8"
             ],
             [
              0.3333333333333333,
              "#9c179e"
             ],
             [
              0.4444444444444444,
              "#bd3786"
             ],
             [
              0.5555555555555556,
              "#d8576b"
             ],
             [
              0.6666666666666666,
              "#ed7953"
             ],
             [
              0.7777777777777778,
              "#fb9f3a"
             ],
             [
              0.8888888888888888,
              "#fdca26"
             ],
             [
              1,
              "#f0f921"
             ]
            ],
            "type": "contour"
           }
          ],
          "contourcarpet": [
           {
            "colorbar": {
             "outlinewidth": 0,
             "ticks": ""
            },
            "type": "contourcarpet"
           }
          ],
          "heatmap": [
           {
            "colorbar": {
             "outlinewidth": 0,
             "ticks": ""
            },
            "colorscale": [
             [
              0,
              "#0d0887"
             ],
             [
              0.1111111111111111,
              "#46039f"
             ],
             [
              0.2222222222222222,
              "#7201a8"
             ],
             [
              0.3333333333333333,
              "#9c179e"
             ],
             [
              0.4444444444444444,
              "#bd3786"
             ],
             [
              0.5555555555555556,
              "#d8576b"
             ],
             [
              0.6666666666666666,
              "#ed7953"
             ],
             [
              0.7777777777777778,
              "#fb9f3a"
             ],
             [
              0.8888888888888888,
              "#fdca26"
             ],
             [
              1,
              "#f0f921"
             ]
            ],
            "type": "heatmap"
           }
          ],
          "heatmapgl": [
           {
            "colorbar": {
             "outlinewidth": 0,
             "ticks": ""
            },
            "colorscale": [
             [
              0,
              "#0d0887"
             ],
             [
              0.1111111111111111,
              "#46039f"
             ],
             [
              0.2222222222222222,
              "#7201a8"
             ],
             [
              0.3333333333333333,
              "#9c179e"
             ],
             [
              0.4444444444444444,
              "#bd3786"
             ],
             [
              0.5555555555555556,
              "#d8576b"
             ],
             [
              0.6666666666666666,
              "#ed7953"
             ],
             [
              0.7777777777777778,
              "#fb9f3a"
             ],
             [
              0.8888888888888888,
              "#fdca26"
             ],
             [
              1,
              "#f0f921"
             ]
            ],
            "type": "heatmapgl"
           }
          ],
          "histogram": [
           {
            "marker": {
             "pattern": {
              "fillmode": "overlay",
              "size": 10,
              "solidity": 0.2
             }
            },
            "type": "histogram"
           }
          ],
          "histogram2d": [
           {
            "colorbar": {
             "outlinewidth": 0,
             "ticks": ""
            },
            "colorscale": [
             [
              0,
              "#0d0887"
             ],
             [
              0.1111111111111111,
              "#46039f"
             ],
             [
              0.2222222222222222,
              "#7201a8"
             ],
             [
              0.3333333333333333,
              "#9c179e"
             ],
             [
              0.4444444444444444,
              "#bd3786"
             ],
             [
              0.5555555555555556,
              "#d8576b"
             ],
             [
              0.6666666666666666,
              "#ed7953"
             ],
             [
              0.7777777777777778,
              "#fb9f3a"
             ],
             [
              0.8888888888888888,
              "#fdca26"
             ],
             [
              1,
              "#f0f921"
             ]
            ],
            "type": "histogram2d"
           }
          ],
          "histogram2dcontour": [
           {
            "colorbar": {
             "outlinewidth": 0,
             "ticks": ""
            },
            "colorscale": [
             [
              0,
              "#0d0887"
             ],
             [
              0.1111111111111111,
              "#46039f"
             ],
             [
              0.2222222222222222,
              "#7201a8"
             ],
             [
              0.3333333333333333,
              "#9c179e"
             ],
             [
              0.4444444444444444,
              "#bd3786"
             ],
             [
              0.5555555555555556,
              "#d8576b"
             ],
             [
              0.6666666666666666,
              "#ed7953"
             ],
             [
              0.7777777777777778,
              "#fb9f3a"
             ],
             [
              0.8888888888888888,
              "#fdca26"
             ],
             [
              1,
              "#f0f921"
             ]
            ],
            "type": "histogram2dcontour"
           }
          ],
          "mesh3d": [
           {
            "colorbar": {
             "outlinewidth": 0,
             "ticks": ""
            },
            "type": "mesh3d"
           }
          ],
          "parcoords": [
           {
            "line": {
             "colorbar": {
              "outlinewidth": 0,
              "ticks": ""
             }
            },
            "type": "parcoords"
           }
          ],
          "pie": [
           {
            "automargin": true,
            "type": "pie"
           }
          ],
          "scatter": [
           {
            "fillpattern": {
             "fillmode": "overlay",
             "size": 10,
             "solidity": 0.2
            },
            "type": "scatter"
           }
          ],
          "scatter3d": [
           {
            "line": {
             "colorbar": {
              "outlinewidth": 0,
              "ticks": ""
             }
            },
            "marker": {
             "colorbar": {
              "outlinewidth": 0,
              "ticks": ""
             }
            },
            "type": "scatter3d"
           }
          ],
          "scattercarpet": [
           {
            "marker": {
             "colorbar": {
              "outlinewidth": 0,
              "ticks": ""
             }
            },
            "type": "scattercarpet"
           }
          ],
          "scattergeo": [
           {
            "marker": {
             "colorbar": {
              "outlinewidth": 0,
              "ticks": ""
             }
            },
            "type": "scattergeo"
           }
          ],
          "scattergl": [
           {
            "marker": {
             "colorbar": {
              "outlinewidth": 0,
              "ticks": ""
             }
            },
            "type": "scattergl"
           }
          ],
          "scattermapbox": [
           {
            "marker": {
             "colorbar": {
              "outlinewidth": 0,
              "ticks": ""
             }
            },
            "type": "scattermapbox"
           }
          ],
          "scatterpolar": [
           {
            "marker": {
             "colorbar": {
              "outlinewidth": 0,
              "ticks": ""
             }
            },
            "type": "scatterpolar"
           }
          ],
          "scatterpolargl": [
           {
            "marker": {
             "colorbar": {
              "outlinewidth": 0,
              "ticks": ""
             }
            },
            "type": "scatterpolargl"
           }
          ],
          "scatterternary": [
           {
            "marker": {
             "colorbar": {
              "outlinewidth": 0,
              "ticks": ""
             }
            },
            "type": "scatterternary"
           }
          ],
          "surface": [
           {
            "colorbar": {
             "outlinewidth": 0,
             "ticks": ""
            },
            "colorscale": [
             [
              0,
              "#0d0887"
             ],
             [
              0.1111111111111111,
              "#46039f"
             ],
             [
              0.2222222222222222,
              "#7201a8"
             ],
             [
              0.3333333333333333,
              "#9c179e"
             ],
             [
              0.4444444444444444,
              "#bd3786"
             ],
             [
              0.5555555555555556,
              "#d8576b"
             ],
             [
              0.6666666666666666,
              "#ed7953"
             ],
             [
              0.7777777777777778,
              "#fb9f3a"
             ],
             [
              0.8888888888888888,
              "#fdca26"
             ],
             [
              1,
              "#f0f921"
             ]
            ],
            "type": "surface"
           }
          ],
          "table": [
           {
            "cells": {
             "fill": {
              "color": "#EBF0F8"
             },
             "line": {
              "color": "white"
             }
            },
            "header": {
             "fill": {
              "color": "#C8D4E3"
             },
             "line": {
              "color": "white"
             }
            },
            "type": "table"
           }
          ]
         },
         "layout": {
          "annotationdefaults": {
           "arrowcolor": "#2a3f5f",
           "arrowhead": 0,
           "arrowwidth": 1
          },
          "autotypenumbers": "strict",
          "coloraxis": {
           "colorbar": {
            "outlinewidth": 0,
            "ticks": ""
           }
          },
          "colorscale": {
           "diverging": [
            [
             0,
             "#8e0152"
            ],
            [
             0.1,
             "#c51b7d"
            ],
            [
             0.2,
             "#de77ae"
            ],
            [
             0.3,
             "#f1b6da"
            ],
            [
             0.4,
             "#fde0ef"
            ],
            [
             0.5,
             "#f7f7f7"
            ],
            [
             0.6,
             "#e6f5d0"
            ],
            [
             0.7,
             "#b8e186"
            ],
            [
             0.8,
             "#7fbc41"
            ],
            [
             0.9,
             "#4d9221"
            ],
            [
             1,
             "#276419"
            ]
           ],
           "sequential": [
            [
             0,
             "#0d0887"
            ],
            [
             0.1111111111111111,
             "#46039f"
            ],
            [
             0.2222222222222222,
             "#7201a8"
            ],
            [
             0.3333333333333333,
             "#9c179e"
            ],
            [
             0.4444444444444444,
             "#bd3786"
            ],
            [
             0.5555555555555556,
             "#d8576b"
            ],
            [
             0.6666666666666666,
             "#ed7953"
            ],
            [
             0.7777777777777778,
             "#fb9f3a"
            ],
            [
             0.8888888888888888,
             "#fdca26"
            ],
            [
             1,
             "#f0f921"
            ]
           ],
           "sequentialminus": [
            [
             0,
             "#0d0887"
            ],
            [
             0.1111111111111111,
             "#46039f"
            ],
            [
             0.2222222222222222,
             "#7201a8"
            ],
            [
             0.3333333333333333,
             "#9c179e"
            ],
            [
             0.4444444444444444,
             "#bd3786"
            ],
            [
             0.5555555555555556,
             "#d8576b"
            ],
            [
             0.6666666666666666,
             "#ed7953"
            ],
            [
             0.7777777777777778,
             "#fb9f3a"
            ],
            [
             0.8888888888888888,
             "#fdca26"
            ],
            [
             1,
             "#f0f921"
            ]
           ]
          },
          "colorway": [
           "#636efa",
           "#EF553B",
           "#00cc96",
           "#ab63fa",
           "#FFA15A",
           "#19d3f3",
           "#FF6692",
           "#B6E880",
           "#FF97FF",
           "#FECB52"
          ],
          "font": {
           "color": "#2a3f5f"
          },
          "geo": {
           "bgcolor": "white",
           "lakecolor": "white",
           "landcolor": "#E5ECF6",
           "showlakes": true,
           "showland": true,
           "subunitcolor": "white"
          },
          "hoverlabel": {
           "align": "left"
          },
          "hovermode": "closest",
          "mapbox": {
           "style": "light"
          },
          "paper_bgcolor": "white",
          "plot_bgcolor": "#E5ECF6",
          "polar": {
           "angularaxis": {
            "gridcolor": "white",
            "linecolor": "white",
            "ticks": ""
           },
           "bgcolor": "#E5ECF6",
           "radialaxis": {
            "gridcolor": "white",
            "linecolor": "white",
            "ticks": ""
           }
          },
          "scene": {
           "xaxis": {
            "backgroundcolor": "#E5ECF6",
            "gridcolor": "white",
            "gridwidth": 2,
            "linecolor": "white",
            "showbackground": true,
            "ticks": "",
            "zerolinecolor": "white"
           },
           "yaxis": {
            "backgroundcolor": "#E5ECF6",
            "gridcolor": "white",
            "gridwidth": 2,
            "linecolor": "white",
            "showbackground": true,
            "ticks": "",
            "zerolinecolor": "white"
           },
           "zaxis": {
            "backgroundcolor": "#E5ECF6",
            "gridcolor": "white",
            "gridwidth": 2,
            "linecolor": "white",
            "showbackground": true,
            "ticks": "",
            "zerolinecolor": "white"
           }
          },
          "shapedefaults": {
           "line": {
            "color": "#2a3f5f"
           }
          },
          "ternary": {
           "aaxis": {
            "gridcolor": "white",
            "linecolor": "white",
            "ticks": ""
           },
           "baxis": {
            "gridcolor": "white",
            "linecolor": "white",
            "ticks": ""
           },
           "bgcolor": "#E5ECF6",
           "caxis": {
            "gridcolor": "white",
            "linecolor": "white",
            "ticks": ""
           }
          },
          "title": {
           "x": 0.05
          },
          "xaxis": {
           "automargin": true,
           "gridcolor": "white",
           "linecolor": "white",
           "ticks": "",
           "title": {
            "standoff": 15
           },
           "zerolinecolor": "white",
           "zerolinewidth": 2
          },
          "yaxis": {
           "automargin": true,
           "gridcolor": "white",
           "linecolor": "white",
           "ticks": "",
           "title": {
            "standoff": 15
           },
           "zerolinecolor": "white",
           "zerolinewidth": 2
          }
         }
        },
        "title": {
         "text": "Top 10 province with the highest and lowest average in science"
        },
        "xaxis": {
         "anchor": "y",
         "domain": [
          0,
          1
         ],
         "title": {
          "text": "Province"
         }
        },
        "yaxis": {
         "anchor": "x",
         "domain": [
          0,
          1
         ],
         "title": {
          "text": "Average score"
         }
        }
       }
      }
     },
     "metadata": {},
     "output_type": "display_data"
    }
   ],
   "source": [
    "tn = val_tn.nlargest(10, \"avg\")[\"avg\"]\n",
    "meomeo = val_tn.nsmallest(10, \"avg\")[\"avg\"]\n",
    "tn = tn.append(meomeo[::-1])\n",
    "hoi_dong = [prov[i-1] for i in tn.index]\n",
    "fig = px.bar(x=hoi_dong, y=tn.values, color=hoi_dong, text=tn.values.round(2))\n",
    "fig.update_layout(title=\"Top 10 province with the highest and lowest average in science\", xaxis_title=\"Province\",yaxis_title=\"Average score\",showlegend=False)"
   ]
  },
  {
   "cell_type": "code",
   "execution_count": 330,
   "metadata": {},
   "outputs": [
    {
     "name": "stderr",
     "output_type": "stream",
     "text": [
      "C:\\Users\\DELL\\AppData\\Local\\Temp\\ipykernel_22456\\4134242622.py:3: FutureWarning:\n",
      "\n",
      "The series.append method is deprecated and will be removed from pandas in a future version. Use pandas.concat instead.\n",
      "\n"
     ]
    },
    {
     "data": {
      "application/vnd.plotly.v1+json": {
       "config": {
        "plotlyServerURL": "https://plot.ly"
       },
       "data": [
        {
         "alignmentgroup": "True",
         "hovertemplate": "color=Vĩnh Phúc<br>x=%{x}<br>y=%{y}<br>text=%{text}<extra></extra>",
         "legendgroup": "Vĩnh Phúc",
         "marker": {
          "color": "#636efa",
          "pattern": {
           "shape": ""
          }
         },
         "name": "Vĩnh Phúc",
         "offsetgroup": "Vĩnh Phúc",
         "orientation": "v",
         "showlegend": true,
         "text": [
          8.04
         ],
         "textposition": "auto",
         "type": "bar",
         "x": [
          "Vĩnh Phúc"
         ],
         "xaxis": "x",
         "y": [
          8.040777379654152
         ],
         "yaxis": "y"
        },
        {
         "alignmentgroup": "True",
         "hovertemplate": "color=Nam Định<br>x=%{x}<br>y=%{y}<br>text=%{text}<extra></extra>",
         "legendgroup": "Nam Định",
         "marker": {
          "color": "#EF553B",
          "pattern": {
           "shape": ""
          }
         },
         "name": "Nam Định",
         "offsetgroup": "Nam Định",
         "orientation": "v",
         "showlegend": true,
         "text": [
          7.81
         ],
         "textposition": "auto",
         "type": "bar",
         "x": [
          "Nam Định"
         ],
         "xaxis": "x",
         "y": [
          7.813454656541852
         ],
         "yaxis": "y"
        },
        {
         "alignmentgroup": "True",
         "hovertemplate": "color=Ninh Bình<br>x=%{x}<br>y=%{y}<br>text=%{text}<extra></extra>",
         "legendgroup": "Ninh Bình",
         "marker": {
          "color": "#00cc96",
          "pattern": {
           "shape": ""
          }
         },
         "name": "Ninh Bình",
         "offsetgroup": "Ninh Bình",
         "orientation": "v",
         "showlegend": true,
         "text": [
          7.8
         ],
         "textposition": "auto",
         "type": "bar",
         "x": [
          "Ninh Bình"
         ],
         "xaxis": "x",
         "y": [
          7.800477688453921
         ],
         "yaxis": "y"
        },
        {
         "alignmentgroup": "True",
         "hovertemplate": "color=Bình Dương<br>x=%{x}<br>y=%{y}<br>text=%{text}<extra></extra>",
         "legendgroup": "Bình Dương",
         "marker": {
          "color": "#ab63fa",
          "pattern": {
           "shape": ""
          }
         },
         "name": "Bình Dương",
         "offsetgroup": "Bình Dương",
         "orientation": "v",
         "showlegend": true,
         "text": [
          7.77
         ],
         "textposition": "auto",
         "type": "bar",
         "x": [
          "Bình Dương"
         ],
         "xaxis": "x",
         "y": [
          7.768546441495778
         ],
         "yaxis": "y"
        },
        {
         "alignmentgroup": "True",
         "hovertemplate": "color=Hải Phòng<br>x=%{x}<br>y=%{y}<br>text=%{text}<extra></extra>",
         "legendgroup": "Hải Phòng",
         "marker": {
          "color": "#FFA15A",
          "pattern": {
           "shape": ""
          }
         },
         "name": "Hải Phòng",
         "offsetgroup": "Hải Phòng",
         "orientation": "v",
         "showlegend": true,
         "text": [
          7.66
         ],
         "textposition": "auto",
         "type": "bar",
         "x": [
          "Hải Phòng"
         ],
         "xaxis": "x",
         "y": [
          7.663017664638702
         ],
         "yaxis": "y"
        },
        {
         "alignmentgroup": "True",
         "hovertemplate": "color=Phú Thọ<br>x=%{x}<br>y=%{y}<br>text=%{text}<extra></extra>",
         "legendgroup": "Phú Thọ",
         "marker": {
          "color": "#19d3f3",
          "pattern": {
           "shape": ""
          }
         },
         "name": "Phú Thọ",
         "offsetgroup": "Phú Thọ",
         "orientation": "v",
         "showlegend": true,
         "text": [
          7.59
         ],
         "textposition": "auto",
         "type": "bar",
         "x": [
          "Phú Thọ"
         ],
         "xaxis": "x",
         "y": [
          7.590976882923191
         ],
         "yaxis": "y"
        },
        {
         "alignmentgroup": "True",
         "hovertemplate": "color=Hà Nam<br>x=%{x}<br>y=%{y}<br>text=%{text}<extra></extra>",
         "legendgroup": "Hà Nam",
         "marker": {
          "color": "#FF6692",
          "pattern": {
           "shape": ""
          }
         },
         "name": "Hà Nam",
         "offsetgroup": "Hà Nam",
         "orientation": "v",
         "showlegend": true,
         "text": [
          7.53
         ],
         "textposition": "auto",
         "type": "bar",
         "x": [
          "Hà Nam"
         ],
         "xaxis": "x",
         "y": [
          7.525016801075269
         ],
         "yaxis": "y"
        },
        {
         "alignmentgroup": "True",
         "hovertemplate": "color=Hà Tĩnh<br>x=%{x}<br>y=%{y}<br>text=%{text}<extra></extra>",
         "legendgroup": "Hà Tĩnh",
         "marker": {
          "color": "#B6E880",
          "pattern": {
           "shape": ""
          }
         },
         "name": "Hà Tĩnh",
         "offsetgroup": "Hà Tĩnh",
         "orientation": "v",
         "showlegend": true,
         "text": [
          7.48
         ],
         "textposition": "auto",
         "type": "bar",
         "x": [
          "Hà Tĩnh"
         ],
         "xaxis": "x",
         "y": [
          7.483441599796205
         ],
         "yaxis": "y"
        },
        {
         "alignmentgroup": "True",
         "hovertemplate": "color=Thái Bình<br>x=%{x}<br>y=%{y}<br>text=%{text}<extra></extra>",
         "legendgroup": "Thái Bình",
         "marker": {
          "color": "#FF97FF",
          "pattern": {
           "shape": ""
          }
         },
         "name": "Thái Bình",
         "offsetgroup": "Thái Bình",
         "orientation": "v",
         "showlegend": true,
         "text": [
          7.45
         ],
         "textposition": "auto",
         "type": "bar",
         "x": [
          "Thái Bình"
         ],
         "xaxis": "x",
         "y": [
          7.452059272172587
         ],
         "yaxis": "y"
        },
        {
         "alignmentgroup": "True",
         "hovertemplate": "color=An Giang<br>x=%{x}<br>y=%{y}<br>text=%{text}<extra></extra>",
         "legendgroup": "An Giang",
         "marker": {
          "color": "#FECB52",
          "pattern": {
           "shape": ""
          }
         },
         "name": "An Giang",
         "offsetgroup": "An Giang",
         "orientation": "v",
         "showlegend": true,
         "text": [
          7.39
         ],
         "textposition": "auto",
         "type": "bar",
         "x": [
          "An Giang"
         ],
         "xaxis": "x",
         "y": [
          7.392621715792448
         ],
         "yaxis": "y"
        },
        {
         "alignmentgroup": "True",
         "hovertemplate": "color=Đăk Nông<br>x=%{x}<br>y=%{y}<br>text=%{text}<extra></extra>",
         "legendgroup": "Đăk Nông",
         "marker": {
          "color": "#636efa",
          "pattern": {
           "shape": ""
          }
         },
         "name": "Đăk Nông",
         "offsetgroup": "Đăk Nông",
         "orientation": "v",
         "showlegend": true,
         "text": [
          6.76
         ],
         "textposition": "auto",
         "type": "bar",
         "x": [
          "Đăk Nông"
         ],
         "xaxis": "x",
         "y": [
          6.759086825124561
         ],
         "yaxis": "y"
        },
        {
         "alignmentgroup": "True",
         "hovertemplate": "color=Quảng Nam<br>x=%{x}<br>y=%{y}<br>text=%{text}<extra></extra>",
         "legendgroup": "Quảng Nam",
         "marker": {
          "color": "#EF553B",
          "pattern": {
           "shape": ""
          }
         },
         "name": "Quảng Nam",
         "offsetgroup": "Quảng Nam",
         "orientation": "v",
         "showlegend": true,
         "text": [
          6.71
         ],
         "textposition": "auto",
         "type": "bar",
         "x": [
          "Quảng Nam"
         ],
         "xaxis": "x",
         "y": [
          6.705141912908243
         ],
         "yaxis": "y"
        },
        {
         "alignmentgroup": "True",
         "hovertemplate": "color=Trà Vinh<br>x=%{x}<br>y=%{y}<br>text=%{text}<extra></extra>",
         "legendgroup": "Trà Vinh",
         "marker": {
          "color": "#00cc96",
          "pattern": {
           "shape": ""
          }
         },
         "name": "Trà Vinh",
         "offsetgroup": "Trà Vinh",
         "orientation": "v",
         "showlegend": true,
         "text": [
          6.7
         ],
         "textposition": "auto",
         "type": "bar",
         "x": [
          "Trà Vinh"
         ],
         "xaxis": "x",
         "y": [
          6.701097573514291
         ],
         "yaxis": "y"
        },
        {
         "alignmentgroup": "True",
         "hovertemplate": "color=Đà Nẵng<br>x=%{x}<br>y=%{y}<br>text=%{text}<extra></extra>",
         "legendgroup": "Đà Nẵng",
         "marker": {
          "color": "#ab63fa",
          "pattern": {
           "shape": ""
          }
         },
         "name": "Đà Nẵng",
         "offsetgroup": "Đà Nẵng",
         "orientation": "v",
         "showlegend": true,
         "text": [
          6.68
         ],
         "textposition": "auto",
         "type": "bar",
         "x": [
          "Đà Nẵng"
         ],
         "xaxis": "x",
         "y": [
          6.6849651324965125
         ],
         "yaxis": "y"
        },
        {
         "alignmentgroup": "True",
         "hovertemplate": "color=Quảng Trị<br>x=%{x}<br>y=%{y}<br>text=%{text}<extra></extra>",
         "legendgroup": "Quảng Trị",
         "marker": {
          "color": "#FFA15A",
          "pattern": {
           "shape": ""
          }
         },
         "name": "Quảng Trị",
         "offsetgroup": "Quảng Trị",
         "orientation": "v",
         "showlegend": true,
         "text": [
          6.66
         ],
         "textposition": "auto",
         "type": "bar",
         "x": [
          "Quảng Trị"
         ],
         "xaxis": "x",
         "y": [
          6.656433284457478
         ],
         "yaxis": "y"
        },
        {
         "alignmentgroup": "True",
         "hovertemplate": "color=Ninh Thuận<br>x=%{x}<br>y=%{y}<br>text=%{text}<extra></extra>",
         "legendgroup": "Ninh Thuận",
         "marker": {
          "color": "#19d3f3",
          "pattern": {
           "shape": ""
          }
         },
         "name": "Ninh Thuận",
         "offsetgroup": "Ninh Thuận",
         "orientation": "v",
         "showlegend": true,
         "text": [
          6.56
         ],
         "textposition": "auto",
         "type": "bar",
         "x": [
          "Ninh Thuận"
         ],
         "xaxis": "x",
         "y": [
          6.55810975080316
         ],
         "yaxis": "y"
        },
        {
         "alignmentgroup": "True",
         "hovertemplate": "color=Quảng Ngãi<br>x=%{x}<br>y=%{y}<br>text=%{text}<extra></extra>",
         "legendgroup": "Quảng Ngãi",
         "marker": {
          "color": "#FF6692",
          "pattern": {
           "shape": ""
          }
         },
         "name": "Quảng Ngãi",
         "offsetgroup": "Quảng Ngãi",
         "orientation": "v",
         "showlegend": true,
         "text": [
          6.55
         ],
         "textposition": "auto",
         "type": "bar",
         "x": [
          "Quảng Ngãi"
         ],
         "xaxis": "x",
         "y": [
          6.5548095368594135
         ],
         "yaxis": "y"
        },
        {
         "alignmentgroup": "True",
         "hovertemplate": "color=Phú Yên<br>x=%{x}<br>y=%{y}<br>text=%{text}<extra></extra>",
         "legendgroup": "Phú Yên",
         "marker": {
          "color": "#B6E880",
          "pattern": {
           "shape": ""
          }
         },
         "name": "Phú Yên",
         "offsetgroup": "Phú Yên",
         "orientation": "v",
         "showlegend": true,
         "text": [
          6.45
         ],
         "textposition": "auto",
         "type": "bar",
         "x": [
          "Phú Yên"
         ],
         "xaxis": "x",
         "y": [
          6.445663975829675
         ],
         "yaxis": "y"
        },
        {
         "alignmentgroup": "True",
         "hovertemplate": "color=Đắk Lắk<br>x=%{x}<br>y=%{y}<br>text=%{text}<extra></extra>",
         "legendgroup": "Đắk Lắk",
         "marker": {
          "color": "#FF97FF",
          "pattern": {
           "shape": ""
          }
         },
         "name": "Đắk Lắk",
         "offsetgroup": "Đắk Lắk",
         "orientation": "v",
         "showlegend": true,
         "text": [
          6.44
         ],
         "textposition": "auto",
         "type": "bar",
         "x": [
          "Đắk Lắk"
         ],
         "xaxis": "x",
         "y": [
          6.4418111047820545
         ],
         "yaxis": "y"
        },
        {
         "alignmentgroup": "True",
         "hovertemplate": "color=Hà Giang<br>x=%{x}<br>y=%{y}<br>text=%{text}<extra></extra>",
         "legendgroup": "Hà Giang",
         "marker": {
          "color": "#FECB52",
          "pattern": {
           "shape": ""
          }
         },
         "name": "Hà Giang",
         "offsetgroup": "Hà Giang",
         "orientation": "v",
         "showlegend": true,
         "text": [
          6.29
         ],
         "textposition": "auto",
         "type": "bar",
         "x": [
          "Hà Giang"
         ],
         "xaxis": "x",
         "y": [
          6.29369551350202
         ],
         "yaxis": "y"
        }
       ],
       "layout": {
        "barmode": "relative",
        "legend": {
         "title": {
          "text": "color"
         },
         "tracegroupgap": 0
        },
        "margin": {
         "t": 60
        },
        "showlegend": false,
        "template": {
         "data": {
          "bar": [
           {
            "error_x": {
             "color": "#2a3f5f"
            },
            "error_y": {
             "color": "#2a3f5f"
            },
            "marker": {
             "line": {
              "color": "#E5ECF6",
              "width": 0.5
             },
             "pattern": {
              "fillmode": "overlay",
              "size": 10,
              "solidity": 0.2
             }
            },
            "type": "bar"
           }
          ],
          "barpolar": [
           {
            "marker": {
             "line": {
              "color": "#E5ECF6",
              "width": 0.5
             },
             "pattern": {
              "fillmode": "overlay",
              "size": 10,
              "solidity": 0.2
             }
            },
            "type": "barpolar"
           }
          ],
          "carpet": [
           {
            "aaxis": {
             "endlinecolor": "#2a3f5f",
             "gridcolor": "white",
             "linecolor": "white",
             "minorgridcolor": "white",
             "startlinecolor": "#2a3f5f"
            },
            "baxis": {
             "endlinecolor": "#2a3f5f",
             "gridcolor": "white",
             "linecolor": "white",
             "minorgridcolor": "white",
             "startlinecolor": "#2a3f5f"
            },
            "type": "carpet"
           }
          ],
          "choropleth": [
           {
            "colorbar": {
             "outlinewidth": 0,
             "ticks": ""
            },
            "type": "choropleth"
           }
          ],
          "contour": [
           {
            "colorbar": {
             "outlinewidth": 0,
             "ticks": ""
            },
            "colorscale": [
             [
              0,
              "#0d0887"
             ],
             [
              0.1111111111111111,
              "#46039f"
             ],
             [
              0.2222222222222222,
              "#7201a8"
             ],
             [
              0.3333333333333333,
              "#9c179e"
             ],
             [
              0.4444444444444444,
              "#bd3786"
             ],
             [
              0.5555555555555556,
              "#d8576b"
             ],
             [
              0.6666666666666666,
              "#ed7953"
             ],
             [
              0.7777777777777778,
              "#fb9f3a"
             ],
             [
              0.8888888888888888,
              "#fdca26"
             ],
             [
              1,
              "#f0f921"
             ]
            ],
            "type": "contour"
           }
          ],
          "contourcarpet": [
           {
            "colorbar": {
             "outlinewidth": 0,
             "ticks": ""
            },
            "type": "contourcarpet"
           }
          ],
          "heatmap": [
           {
            "colorbar": {
             "outlinewidth": 0,
             "ticks": ""
            },
            "colorscale": [
             [
              0,
              "#0d0887"
             ],
             [
              0.1111111111111111,
              "#46039f"
             ],
             [
              0.2222222222222222,
              "#7201a8"
             ],
             [
              0.3333333333333333,
              "#9c179e"
             ],
             [
              0.4444444444444444,
              "#bd3786"
             ],
             [
              0.5555555555555556,
              "#d8576b"
             ],
             [
              0.6666666666666666,
              "#ed7953"
             ],
             [
              0.7777777777777778,
              "#fb9f3a"
             ],
             [
              0.8888888888888888,
              "#fdca26"
             ],
             [
              1,
              "#f0f921"
             ]
            ],
            "type": "heatmap"
           }
          ],
          "heatmapgl": [
           {
            "colorbar": {
             "outlinewidth": 0,
             "ticks": ""
            },
            "colorscale": [
             [
              0,
              "#0d0887"
             ],
             [
              0.1111111111111111,
              "#46039f"
             ],
             [
              0.2222222222222222,
              "#7201a8"
             ],
             [
              0.3333333333333333,
              "#9c179e"
             ],
             [
              0.4444444444444444,
              "#bd3786"
             ],
             [
              0.5555555555555556,
              "#d8576b"
             ],
             [
              0.6666666666666666,
              "#ed7953"
             ],
             [
              0.7777777777777778,
              "#fb9f3a"
             ],
             [
              0.8888888888888888,
              "#fdca26"
             ],
             [
              1,
              "#f0f921"
             ]
            ],
            "type": "heatmapgl"
           }
          ],
          "histogram": [
           {
            "marker": {
             "pattern": {
              "fillmode": "overlay",
              "size": 10,
              "solidity": 0.2
             }
            },
            "type": "histogram"
           }
          ],
          "histogram2d": [
           {
            "colorbar": {
             "outlinewidth": 0,
             "ticks": ""
            },
            "colorscale": [
             [
              0,
              "#0d0887"
             ],
             [
              0.1111111111111111,
              "#46039f"
             ],
             [
              0.2222222222222222,
              "#7201a8"
             ],
             [
              0.3333333333333333,
              "#9c179e"
             ],
             [
              0.4444444444444444,
              "#bd3786"
             ],
             [
              0.5555555555555556,
              "#d8576b"
             ],
             [
              0.6666666666666666,
              "#ed7953"
             ],
             [
              0.7777777777777778,
              "#fb9f3a"
             ],
             [
              0.8888888888888888,
              "#fdca26"
             ],
             [
              1,
              "#f0f921"
             ]
            ],
            "type": "histogram2d"
           }
          ],
          "histogram2dcontour": [
           {
            "colorbar": {
             "outlinewidth": 0,
             "ticks": ""
            },
            "colorscale": [
             [
              0,
              "#0d0887"
             ],
             [
              0.1111111111111111,
              "#46039f"
             ],
             [
              0.2222222222222222,
              "#7201a8"
             ],
             [
              0.3333333333333333,
              "#9c179e"
             ],
             [
              0.4444444444444444,
              "#bd3786"
             ],
             [
              0.5555555555555556,
              "#d8576b"
             ],
             [
              0.6666666666666666,
              "#ed7953"
             ],
             [
              0.7777777777777778,
              "#fb9f3a"
             ],
             [
              0.8888888888888888,
              "#fdca26"
             ],
             [
              1,
              "#f0f921"
             ]
            ],
            "type": "histogram2dcontour"
           }
          ],
          "mesh3d": [
           {
            "colorbar": {
             "outlinewidth": 0,
             "ticks": ""
            },
            "type": "mesh3d"
           }
          ],
          "parcoords": [
           {
            "line": {
             "colorbar": {
              "outlinewidth": 0,
              "ticks": ""
             }
            },
            "type": "parcoords"
           }
          ],
          "pie": [
           {
            "automargin": true,
            "type": "pie"
           }
          ],
          "scatter": [
           {
            "fillpattern": {
             "fillmode": "overlay",
             "size": 10,
             "solidity": 0.2
            },
            "type": "scatter"
           }
          ],
          "scatter3d": [
           {
            "line": {
             "colorbar": {
              "outlinewidth": 0,
              "ticks": ""
             }
            },
            "marker": {
             "colorbar": {
              "outlinewidth": 0,
              "ticks": ""
             }
            },
            "type": "scatter3d"
           }
          ],
          "scattercarpet": [
           {
            "marker": {
             "colorbar": {
              "outlinewidth": 0,
              "ticks": ""
             }
            },
            "type": "scattercarpet"
           }
          ],
          "scattergeo": [
           {
            "marker": {
             "colorbar": {
              "outlinewidth": 0,
              "ticks": ""
             }
            },
            "type": "scattergeo"
           }
          ],
          "scattergl": [
           {
            "marker": {
             "colorbar": {
              "outlinewidth": 0,
              "ticks": ""
             }
            },
            "type": "scattergl"
           }
          ],
          "scattermapbox": [
           {
            "marker": {
             "colorbar": {
              "outlinewidth": 0,
              "ticks": ""
             }
            },
            "type": "scattermapbox"
           }
          ],
          "scatterpolar": [
           {
            "marker": {
             "colorbar": {
              "outlinewidth": 0,
              "ticks": ""
             }
            },
            "type": "scatterpolar"
           }
          ],
          "scatterpolargl": [
           {
            "marker": {
             "colorbar": {
              "outlinewidth": 0,
              "ticks": ""
             }
            },
            "type": "scatterpolargl"
           }
          ],
          "scatterternary": [
           {
            "marker": {
             "colorbar": {
              "outlinewidth": 0,
              "ticks": ""
             }
            },
            "type": "scatterternary"
           }
          ],
          "surface": [
           {
            "colorbar": {
             "outlinewidth": 0,
             "ticks": ""
            },
            "colorscale": [
             [
              0,
              "#0d0887"
             ],
             [
              0.1111111111111111,
              "#46039f"
             ],
             [
              0.2222222222222222,
              "#7201a8"
             ],
             [
              0.3333333333333333,
              "#9c179e"
             ],
             [
              0.4444444444444444,
              "#bd3786"
             ],
             [
              0.5555555555555556,
              "#d8576b"
             ],
             [
              0.6666666666666666,
              "#ed7953"
             ],
             [
              0.7777777777777778,
              "#fb9f3a"
             ],
             [
              0.8888888888888888,
              "#fdca26"
             ],
             [
              1,
              "#f0f921"
             ]
            ],
            "type": "surface"
           }
          ],
          "table": [
           {
            "cells": {
             "fill": {
              "color": "#EBF0F8"
             },
             "line": {
              "color": "white"
             }
            },
            "header": {
             "fill": {
              "color": "#C8D4E3"
             },
             "line": {
              "color": "white"
             }
            },
            "type": "table"
           }
          ]
         },
         "layout": {
          "annotationdefaults": {
           "arrowcolor": "#2a3f5f",
           "arrowhead": 0,
           "arrowwidth": 1
          },
          "autotypenumbers": "strict",
          "coloraxis": {
           "colorbar": {
            "outlinewidth": 0,
            "ticks": ""
           }
          },
          "colorscale": {
           "diverging": [
            [
             0,
             "#8e0152"
            ],
            [
             0.1,
             "#c51b7d"
            ],
            [
             0.2,
             "#de77ae"
            ],
            [
             0.3,
             "#f1b6da"
            ],
            [
             0.4,
             "#fde0ef"
            ],
            [
             0.5,
             "#f7f7f7"
            ],
            [
             0.6,
             "#e6f5d0"
            ],
            [
             0.7,
             "#b8e186"
            ],
            [
             0.8,
             "#7fbc41"
            ],
            [
             0.9,
             "#4d9221"
            ],
            [
             1,
             "#276419"
            ]
           ],
           "sequential": [
            [
             0,
             "#0d0887"
            ],
            [
             0.1111111111111111,
             "#46039f"
            ],
            [
             0.2222222222222222,
             "#7201a8"
            ],
            [
             0.3333333333333333,
             "#9c179e"
            ],
            [
             0.4444444444444444,
             "#bd3786"
            ],
            [
             0.5555555555555556,
             "#d8576b"
            ],
            [
             0.6666666666666666,
             "#ed7953"
            ],
            [
             0.7777777777777778,
             "#fb9f3a"
            ],
            [
             0.8888888888888888,
             "#fdca26"
            ],
            [
             1,
             "#f0f921"
            ]
           ],
           "sequentialminus": [
            [
             0,
             "#0d0887"
            ],
            [
             0.1111111111111111,
             "#46039f"
            ],
            [
             0.2222222222222222,
             "#7201a8"
            ],
            [
             0.3333333333333333,
             "#9c179e"
            ],
            [
             0.4444444444444444,
             "#bd3786"
            ],
            [
             0.5555555555555556,
             "#d8576b"
            ],
            [
             0.6666666666666666,
             "#ed7953"
            ],
            [
             0.7777777777777778,
             "#fb9f3a"
            ],
            [
             0.8888888888888888,
             "#fdca26"
            ],
            [
             1,
             "#f0f921"
            ]
           ]
          },
          "colorway": [
           "#636efa",
           "#EF553B",
           "#00cc96",
           "#ab63fa",
           "#FFA15A",
           "#19d3f3",
           "#FF6692",
           "#B6E880",
           "#FF97FF",
           "#FECB52"
          ],
          "font": {
           "color": "#2a3f5f"
          },
          "geo": {
           "bgcolor": "white",
           "lakecolor": "white",
           "landcolor": "#E5ECF6",
           "showlakes": true,
           "showland": true,
           "subunitcolor": "white"
          },
          "hoverlabel": {
           "align": "left"
          },
          "hovermode": "closest",
          "mapbox": {
           "style": "light"
          },
          "paper_bgcolor": "white",
          "plot_bgcolor": "#E5ECF6",
          "polar": {
           "angularaxis": {
            "gridcolor": "white",
            "linecolor": "white",
            "ticks": ""
           },
           "bgcolor": "#E5ECF6",
           "radialaxis": {
            "gridcolor": "white",
            "linecolor": "white",
            "ticks": ""
           }
          },
          "scene": {
           "xaxis": {
            "backgroundcolor": "#E5ECF6",
            "gridcolor": "white",
            "gridwidth": 2,
            "linecolor": "white",
            "showbackground": true,
            "ticks": "",
            "zerolinecolor": "white"
           },
           "yaxis": {
            "backgroundcolor": "#E5ECF6",
            "gridcolor": "white",
            "gridwidth": 2,
            "linecolor": "white",
            "showbackground": true,
            "ticks": "",
            "zerolinecolor": "white"
           },
           "zaxis": {
            "backgroundcolor": "#E5ECF6",
            "gridcolor": "white",
            "gridwidth": 2,
            "linecolor": "white",
            "showbackground": true,
            "ticks": "",
            "zerolinecolor": "white"
           }
          },
          "shapedefaults": {
           "line": {
            "color": "#2a3f5f"
           }
          },
          "ternary": {
           "aaxis": {
            "gridcolor": "white",
            "linecolor": "white",
            "ticks": ""
           },
           "baxis": {
            "gridcolor": "white",
            "linecolor": "white",
            "ticks": ""
           },
           "bgcolor": "#E5ECF6",
           "caxis": {
            "gridcolor": "white",
            "linecolor": "white",
            "ticks": ""
           }
          },
          "title": {
           "x": 0.05
          },
          "xaxis": {
           "automargin": true,
           "gridcolor": "white",
           "linecolor": "white",
           "ticks": "",
           "title": {
            "standoff": 15
           },
           "zerolinecolor": "white",
           "zerolinewidth": 2
          },
          "yaxis": {
           "automargin": true,
           "gridcolor": "white",
           "linecolor": "white",
           "ticks": "",
           "title": {
            "standoff": 15
           },
           "zerolinecolor": "white",
           "zerolinewidth": 2
          }
         }
        },
        "title": {
         "text": "Top 10 province with the highest and lowest average in social"
        },
        "xaxis": {
         "anchor": "y",
         "domain": [
          0,
          1
         ],
         "title": {
          "text": "Province"
         }
        },
        "yaxis": {
         "anchor": "x",
         "domain": [
          0,
          1
         ],
         "title": {
          "text": "Average score"
         }
        }
       }
      }
     },
     "metadata": {},
     "output_type": "display_data"
    }
   ],
   "source": [
    "tn = val_xh.nlargest(10, \"avg\")[\"avg\"]\n",
    "meomeo = val_xh.nsmallest(10, \"avg\")[\"avg\"]\n",
    "tn = tn.append(meomeo[::-1])\n",
    "hoi_dong = [prov[i-1] for i in tn.index]\n",
    "fig = px.bar(x=hoi_dong, y=tn.values, color=hoi_dong, text=tn.values.round(2))\n",
    "fig.update_layout(title=\"Top 10 province with the highest and lowest average in social\", xaxis_title=\"Province\",yaxis_title=\"Average score\",showlegend=False)"
   ]
  }
 ],
 "metadata": {
  "kernelspec": {
   "display_name": "Python 3.10.5 64-bit",
   "language": "python",
   "name": "python3"
  },
  "language_info": {
   "codemirror_mode": {
    "name": "ipython",
    "version": 3
   },
   "file_extension": ".py",
   "mimetype": "text/x-python",
   "name": "python",
   "nbconvert_exporter": "python",
   "pygments_lexer": "ipython3",
   "version": "3.10.5"
  },
  "orig_nbformat": 4,
  "vscode": {
   "interpreter": {
    "hash": "fbc768028c3e6ead51d9a200ddcb2ec858ae62844dcd1994729a8279be9b48f2"
   }
  }
 },
 "nbformat": 4,
 "nbformat_minor": 2
}
